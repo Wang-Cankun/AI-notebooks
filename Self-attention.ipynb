{
 "cells": [
  {
   "cell_type": "code",
   "execution_count": 67,
   "id": "b85e883a",
   "metadata": {},
   "outputs": [],
   "source": [
    "import torch\n",
    "import torch.nn.functional as F\n",
    "import torch.nn as nn\n"
   ]
  },
  {
   "cell_type": "code",
   "execution_count": 56,
   "id": "b22fcc1e",
   "metadata": {},
   "outputs": [],
   "source": [
    "size = 2,2,4\n",
    "x = torch.ones(size)"
   ]
  },
  {
   "cell_type": "code",
   "execution_count": 57,
   "id": "44efa2f9",
   "metadata": {},
   "outputs": [
    {
     "data": {
      "text/plain": [
       "tensor([[[1., 1., 1., 1.],\n",
       "         [1., 1., 1., 1.]],\n",
       "\n",
       "        [[1., 1., 1., 1.],\n",
       "         [1., 1., 1., 1.]]])"
      ]
     },
     "execution_count": 57,
     "metadata": {},
     "output_type": "execute_result"
    }
   ],
   "source": [
    "x"
   ]
  },
  {
   "cell_type": "code",
   "execution_count": 58,
   "id": "6a5bcce7",
   "metadata": {},
   "outputs": [],
   "source": [
    "raw_weights = torch.bmm(x, x.transpose(1, 2))"
   ]
  },
  {
   "cell_type": "code",
   "execution_count": 65,
   "id": "8871b2ff",
   "metadata": {},
   "outputs": [],
   "source": [
    "weights = F.softmax(raw_weights, dim=1)"
   ]
  },
  {
   "cell_type": "code",
   "execution_count": 70,
   "id": "7778598c",
   "metadata": {
    "scrolled": false
   },
   "outputs": [
    {
     "data": {
      "text/plain": [
       "tensor([[[0.5000, 0.5000],\n",
       "         [0.5000, 0.5000]],\n",
       "\n",
       "        [[0.5000, 0.5000],\n",
       "         [0.5000, 0.5000]]])"
      ]
     },
     "execution_count": 70,
     "metadata": {},
     "output_type": "execute_result"
    }
   ],
   "source": [
    "weights"
   ]
  },
  {
   "cell_type": "code",
   "execution_count": 75,
   "id": "cb865feb",
   "metadata": {},
   "outputs": [],
   "source": [
    "class SelfAttention(nn.Module):\n",
    "    def __init__(self, k, heads=8):\n",
    "        super().__init__()\n",
    "        self.k, self.heads = k, heads\n",
    "        self.tokeys    = nn.Linear(k, k * heads, bias=False)\n",
    "        self.toqueries = nn.Linear(k, k * heads, bias=False)\n",
    "        self.tovalues  = nn.Linear(k, k * heads, bias=False)\n",
    "\n",
    "        # This unifies the outputs of the different heads into \n",
    "        # a single k-vector\n",
    "        self.unifyheads = nn.Linear(heads * k, k)\n",
    "    \n",
    "    def forward(self, x):\n",
    "        b, t, k = x.size()\n",
    "        h = self.heads\n",
    "\n",
    "        queries = self.toqueries(x).view(b, t, h, k)\n",
    "        keys    = self.tokeys(x).view(b, t, h, k)\n",
    "        values  = self.tovalues(x).view(b, t, h, k)\n",
    "        \n",
    "        keys = keys.transpose(1, 2).contiguous().view(b * h, t, k)\n",
    "        queries = queries.transpose(1, 2).contiguous().view(b * h, t, k)\n",
    "        values = values.transpose(1, 2).contiguous().view(b * h, t, k)\n",
    "        queries = queries / (k ** (1/4))\n",
    "        keys    = keys / (k ** (1/4))\n",
    "\n",
    "        # - get dot product of queries and keys, and scale\n",
    "        dot = torch.bmm(queries, keys.transpose(1, 2))\n",
    "        # - dot has size (b*h, t, t) containing raw weights\n",
    "\n",
    "        dot = F.softmax(dot, dim=2) \n",
    "        # - dot now contains row-wise normalized weights\n",
    "        out = torch.bmm(dot, values).view(b, h, t, k)\n",
    "        out = out.transpose(1, 2).contiguous().view(b, t, h * k)\n",
    "        return self.unifyheads(out)"
   ]
  },
  {
   "cell_type": "code",
   "execution_count": 76,
   "id": "87c524f7",
   "metadata": {},
   "outputs": [],
   "source": [
    "class SelfAttention(nn.Module):\n",
    "    def __init__(self, k, heads=8):\n",
    "        super().__init__()\n",
    "        self.k, self.heads = k, heads\n",
    "        self.tokeys    = nn.Linear(k, k * heads, bias=False)\n",
    "        self.toqueries = nn.Linear(k, k * heads, bias=False)\n",
    "        self.tovalues  = nn.Linear(k, k * heads, bias=False)\n",
    "\n",
    "        # This unifies the outputs of the different heads into \n",
    "        # a single k-vector\n",
    "        self.unifyheads = nn.Linear(heads * k, k)\n",
    "    \n",
    "        def forward(self, x):\n",
    "            b, t, e = x.size()\n",
    "            h = self.heads\n",
    "\n",
    "            keys    = self.tokeys(x).view(b, t, h, e)\n",
    "            queries = self.toqueries(x).view(b, t, h, e)\n",
    "            values  = self.tovalues(x).view(b, t, h, e)\n",
    "\n",
    "            dot = torch.einsum('bthe,bihe->bhti', queries, keys) / math.sqrt(e)\n",
    "            dot = F.softmax(dot, dim=-1)\n",
    "\n",
    "            out = torch.einsum('bhtd,bdhe->bthe', dot, values)\n",
    "\n",
    "            # we can move reshape of weights to init; I left it here just to compare with the original implementation\n",
    "            out = torch.einsum('bthe,khe->btk', out, self.unifyheads.weight.view(e,h,e)) \n",
    "            return out + self.unifyheads.bias\n"
   ]
  },
  {
   "cell_type": "code",
   "execution_count": 79,
   "id": "78e44ea5",
   "metadata": {},
   "outputs": [],
   "source": [
    "class TransformerBlock(nn.Module):\n",
    "    def __init__(self, k, heads):\n",
    "        super().__init__()\n",
    "\n",
    "        self.attention = SelfAttention(k, heads=heads)\n",
    "\n",
    "        self.norm1 = nn.LayerNorm(k)\n",
    "        self.norm2 = nn.LayerNorm(k)\n",
    "\n",
    "        self.ff = nn.Sequential(\n",
    "            nn.Linear(k, 4 * k),\n",
    "            nn.ReLU(),\n",
    "            nn.Linear(4 * k, k))\n",
    "\n",
    "    def forward(self, x):\n",
    "        attended = self.attention(x)\n",
    "        x = self.norm1(attended + x)\n",
    "\n",
    "        fedforward = self.ff(x)\n",
    "        return self.norm2(fedforward + x)"
   ]
  },
  {
   "cell_type": "code",
   "execution_count": null,
   "id": "cfd803c5",
   "metadata": {},
   "outputs": [],
   "source": []
  }
 ],
 "metadata": {
  "kernelspec": {
   "display_name": "dl",
   "language": "python",
   "name": "dl"
  },
  "language_info": {
   "codemirror_mode": {
    "name": "ipython",
    "version": 3
   },
   "file_extension": ".py",
   "mimetype": "text/x-python",
   "name": "python",
   "nbconvert_exporter": "python",
   "pygments_lexer": "ipython3",
   "version": "3.8.5"
  }
 },
 "nbformat": 4,
 "nbformat_minor": 5
}
