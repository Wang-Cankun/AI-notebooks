{
 "cells": [
  {
   "cell_type": "code",
   "execution_count": 1,
   "id": "5bbe6f30",
   "metadata": {},
   "outputs": [
    {
     "name": "stdout",
     "output_type": "stream",
     "text": [
      "Populating the interactive namespace from numpy and matplotlib\n"
     ]
    },
    {
     "data": {
      "application/javascript": [
       "\n",
       "            setTimeout(function() {\n",
       "                var nbb_cell_id = 1;\n",
       "                var nbb_unformatted_code = \"%pylab inline\\n%load_ext nb_black\\nimport numpy as np\\nimport requests, gzip, os, hashlib, numpy\\nimport torch\\nimport torch.nn as nn\\nimport torch.nn.functional as F\\nfrom tqdm import trange\\nfrom torchvision import datasets\\nfrom torchvision.transforms import ToTensor\\nfrom tqdm import trange\\nfrom torch import optim\\nfrom torch.utils.data import TensorDataset\\nfrom torch.utils.data import DataLoader\";\n",
       "                var nbb_formatted_code = \"%pylab inline\\n%load_ext nb_black\\nimport numpy as np\\nimport requests, gzip, os, hashlib, numpy\\nimport torch\\nimport torch.nn as nn\\nimport torch.nn.functional as F\\nfrom tqdm import trange\\nfrom torchvision import datasets\\nfrom torchvision.transforms import ToTensor\\nfrom tqdm import trange\\nfrom torch import optim\\nfrom torch.utils.data import TensorDataset\\nfrom torch.utils.data import DataLoader\";\n",
       "                var nbb_cells = Jupyter.notebook.get_cells();\n",
       "                for (var i = 0; i < nbb_cells.length; ++i) {\n",
       "                    if (nbb_cells[i].input_prompt_number == nbb_cell_id) {\n",
       "                        if (nbb_cells[i].get_text() == nbb_unformatted_code) {\n",
       "                             nbb_cells[i].set_text(nbb_formatted_code);\n",
       "                        }\n",
       "                        break;\n",
       "                    }\n",
       "                }\n",
       "            }, 500);\n",
       "            "
      ],
      "text/plain": [
       "<IPython.core.display.Javascript object>"
      ]
     },
     "metadata": {},
     "output_type": "display_data"
    }
   ],
   "source": [
    "%pylab inline\n",
    "%load_ext nb_black\n",
    "import numpy as np\n",
    "import requests, gzip, os, hashlib, numpy\n",
    "import torch\n",
    "import torch.nn as nn\n",
    "import torch.nn.functional as F\n",
    "from tqdm import trange\n",
    "from torchvision import datasets\n",
    "from torchvision.transforms import ToTensor\n",
    "from tqdm import trange\n",
    "from torch import optim\n",
    "from torch.utils.data import TensorDataset\n",
    "from torch.utils.data import DataLoader"
   ]
  },
  {
   "cell_type": "markdown",
   "id": "b4d18177",
   "metadata": {},
   "source": [
    "# Load"
   ]
  },
  {
   "cell_type": "code",
   "execution_count": 2,
   "id": "c3990046",
   "metadata": {},
   "outputs": [
    {
     "data": {
      "application/javascript": [
       "\n",
       "            setTimeout(function() {\n",
       "                var nbb_cell_id = 2;\n",
       "                var nbb_unformatted_code = \"def fetch(url):\\n\\n    fp = os.path.join(\\\"/home/wan268/tmp/\\\", hashlib.md5(url.encode(\\\"utf-8\\\")).hexdigest())\\n    if os.path.isfile(fp):\\n        with open(fp, \\\"rb\\\") as f:\\n            dat = f.read()\\n    else:\\n        with open(fp, \\\"wb\\\") as f:\\n            dat = requests.get(url).content\\n            f.write(dat)\\n    return numpy.frombuffer(gzip.decompress(dat), dtype=np.uint8).copy()\\n\\n\\nX_train = fetch(\\\"http://yann.lecun.com/exdb/mnist/train-images-idx3-ubyte.gz\\\")[\\n    0x10:\\n].reshape((-1, 28 * 28))\\nY_train = fetch(\\\"http://yann.lecun.com/exdb/mnist/train-labels-idx1-ubyte.gz\\\")[8:]\\nX_test = fetch(\\\"http://yann.lecun.com/exdb/mnist/t10k-images-idx3-ubyte.gz\\\")[\\n    0x10:\\n].reshape((-1, 28 * 28))\\nY_test = fetch(\\\"http://yann.lecun.com/exdb/mnist/t10k-labels-idx1-ubyte.gz\\\")[8:]\";\n",
       "                var nbb_formatted_code = \"def fetch(url):\\n\\n    fp = os.path.join(\\\"/home/wan268/tmp/\\\", hashlib.md5(url.encode(\\\"utf-8\\\")).hexdigest())\\n    if os.path.isfile(fp):\\n        with open(fp, \\\"rb\\\") as f:\\n            dat = f.read()\\n    else:\\n        with open(fp, \\\"wb\\\") as f:\\n            dat = requests.get(url).content\\n            f.write(dat)\\n    return numpy.frombuffer(gzip.decompress(dat), dtype=np.uint8).copy()\\n\\n\\nX_train = fetch(\\\"http://yann.lecun.com/exdb/mnist/train-images-idx3-ubyte.gz\\\")[\\n    0x10:\\n].reshape((-1, 28 * 28))\\nY_train = fetch(\\\"http://yann.lecun.com/exdb/mnist/train-labels-idx1-ubyte.gz\\\")[8:]\\nX_test = fetch(\\\"http://yann.lecun.com/exdb/mnist/t10k-images-idx3-ubyte.gz\\\")[\\n    0x10:\\n].reshape((-1, 28 * 28))\\nY_test = fetch(\\\"http://yann.lecun.com/exdb/mnist/t10k-labels-idx1-ubyte.gz\\\")[8:]\";\n",
       "                var nbb_cells = Jupyter.notebook.get_cells();\n",
       "                for (var i = 0; i < nbb_cells.length; ++i) {\n",
       "                    if (nbb_cells[i].input_prompt_number == nbb_cell_id) {\n",
       "                        if (nbb_cells[i].get_text() == nbb_unformatted_code) {\n",
       "                             nbb_cells[i].set_text(nbb_formatted_code);\n",
       "                        }\n",
       "                        break;\n",
       "                    }\n",
       "                }\n",
       "            }, 500);\n",
       "            "
      ],
      "text/plain": [
       "<IPython.core.display.Javascript object>"
      ]
     },
     "metadata": {},
     "output_type": "display_data"
    }
   ],
   "source": [
    "def fetch(url):\n",
    "\n",
    "    fp = os.path.join(\"/home/wan268/tmp/\", hashlib.md5(url.encode(\"utf-8\")).hexdigest())\n",
    "    if os.path.isfile(fp):\n",
    "        with open(fp, \"rb\") as f:\n",
    "            dat = f.read()\n",
    "    else:\n",
    "        with open(fp, \"wb\") as f:\n",
    "            dat = requests.get(url).content\n",
    "            f.write(dat)\n",
    "    return numpy.frombuffer(gzip.decompress(dat), dtype=np.uint8).copy()\n",
    "\n",
    "\n",
    "X_train = fetch(\"http://yann.lecun.com/exdb/mnist/train-images-idx3-ubyte.gz\")[\n",
    "    0x10:\n",
    "].reshape((-1, 28 * 28))\n",
    "Y_train = fetch(\"http://yann.lecun.com/exdb/mnist/train-labels-idx1-ubyte.gz\")[8:]\n",
    "X_test = fetch(\"http://yann.lecun.com/exdb/mnist/t10k-images-idx3-ubyte.gz\")[\n",
    "    0x10:\n",
    "].reshape((-1, 28 * 28))\n",
    "Y_test = fetch(\"http://yann.lecun.com/exdb/mnist/t10k-labels-idx1-ubyte.gz\")[8:]"
   ]
  },
  {
   "cell_type": "code",
   "execution_count": 3,
   "id": "74edee92",
   "metadata": {},
   "outputs": [
    {
     "name": "stdout",
     "output_type": "stream",
     "text": [
      "(60000, 784)\n"
     ]
    },
    {
     "data": {
      "image/png": "[encoded data removed]",
      "text/plain": [
       "<Figure size 432x288 with 1 Axes>"
      ]
     },
     "metadata": {
      "needs_background": "light"
     },
     "output_type": "display_data"
    },
    {
     "data": {
      "application/javascript": [
       "\n",
       "            setTimeout(function() {\n",
       "                var nbb_cell_id = 3;\n",
       "                var nbb_unformatted_code = \"from matplotlib import pyplot\\nimport numpy as np\\n\\npyplot.imshow(X_train[0].reshape((28, 28)), cmap=\\\"gray\\\")\\nprint(X_train.shape)\";\n",
       "                var nbb_formatted_code = \"from matplotlib import pyplot\\nimport numpy as np\\n\\npyplot.imshow(X_train[0].reshape((28, 28)), cmap=\\\"gray\\\")\\nprint(X_train.shape)\";\n",
       "                var nbb_cells = Jupyter.notebook.get_cells();\n",
       "                for (var i = 0; i < nbb_cells.length; ++i) {\n",
       "                    if (nbb_cells[i].input_prompt_number == nbb_cell_id) {\n",
       "                        if (nbb_cells[i].get_text() == nbb_unformatted_code) {\n",
       "                             nbb_cells[i].set_text(nbb_formatted_code);\n",
       "                        }\n",
       "                        break;\n",
       "                    }\n",
       "                }\n",
       "            }, 500);\n",
       "            "
      ],
      "text/plain": [
       "<IPython.core.display.Javascript object>"
      ]
     },
     "metadata": {},
     "output_type": "display_data"
    }
   ],
   "source": [
    "from matplotlib import pyplot\n",
    "import numpy as np\n",
    "\n",
    "pyplot.imshow(X_train[0].reshape((28, 28)), cmap=\"gray\")\n",
    "print(X_train.shape)"
   ]
  },
  {
   "cell_type": "code",
   "execution_count": 4,
   "id": "a37c0613",
   "metadata": {},
   "outputs": [
    {
     "data": {
      "application/javascript": [
       "\n",
       "            setTimeout(function() {\n",
       "                var nbb_cell_id = 4;\n",
       "                var nbb_unformatted_code = \"X_train = torch.from_numpy(X_train).float()\\nY_train = torch.from_numpy(Y_train).float()\\nX_test = torch.from_numpy(X_test).float()\\nY_test = torch.from_numpy(Y_test).float()\";\n",
       "                var nbb_formatted_code = \"X_train = torch.from_numpy(X_train).float()\\nY_train = torch.from_numpy(Y_train).float()\\nX_test = torch.from_numpy(X_test).float()\\nY_test = torch.from_numpy(Y_test).float()\";\n",
       "                var nbb_cells = Jupyter.notebook.get_cells();\n",
       "                for (var i = 0; i < nbb_cells.length; ++i) {\n",
       "                    if (nbb_cells[i].input_prompt_number == nbb_cell_id) {\n",
       "                        if (nbb_cells[i].get_text() == nbb_unformatted_code) {\n",
       "                             nbb_cells[i].set_text(nbb_formatted_code);\n",
       "                        }\n",
       "                        break;\n",
       "                    }\n",
       "                }\n",
       "            }, 500);\n",
       "            "
      ],
      "text/plain": [
       "<IPython.core.display.Javascript object>"
      ]
     },
     "metadata": {},
     "output_type": "display_data"
    }
   ],
   "source": [
    "X_train = torch.from_numpy(X_train).float()\n",
    "Y_train = torch.from_numpy(Y_train).float()\n",
    "X_test = torch.from_numpy(X_test).float()\n",
    "Y_test = torch.from_numpy(Y_test).float()"
   ]
  },
  {
   "cell_type": "code",
   "execution_count": 5,
   "id": "015441e2",
   "metadata": {},
   "outputs": [
    {
     "name": "stdout",
     "output_type": "stream",
     "text": [
      "tensor([[0., 0., 0.,  ..., 0., 0., 0.],\n",
      "        [0., 0., 0.,  ..., 0., 0., 0.],\n",
      "        [0., 0., 0.,  ..., 0., 0., 0.],\n",
      "        ...,\n",
      "        [0., 0., 0.,  ..., 0., 0., 0.],\n",
      "        [0., 0., 0.,  ..., 0., 0., 0.],\n",
      "        [0., 0., 0.,  ..., 0., 0., 0.]]) tensor([5., 0., 4.,  ..., 5., 6., 8.])\n",
      "torch.Size([60000, 784])\n",
      "tensor(0.) tensor(9.)\n"
     ]
    },
    {
     "data": {
      "application/javascript": [
       "\n",
       "            setTimeout(function() {\n",
       "                var nbb_cell_id = 5;\n",
       "                var nbb_unformatted_code = \"n, c = X_train.shape[0], X_train.shape[1:]\\nprint(X_train, Y_train)\\nprint(X_train.shape)\\nprint(Y_train.min(), Y_train.max())\";\n",
       "                var nbb_formatted_code = \"n, c = X_train.shape[0], X_train.shape[1:]\\nprint(X_train, Y_train)\\nprint(X_train.shape)\\nprint(Y_train.min(), Y_train.max())\";\n",
       "                var nbb_cells = Jupyter.notebook.get_cells();\n",
       "                for (var i = 0; i < nbb_cells.length; ++i) {\n",
       "                    if (nbb_cells[i].input_prompt_number == nbb_cell_id) {\n",
       "                        if (nbb_cells[i].get_text() == nbb_unformatted_code) {\n",
       "                             nbb_cells[i].set_text(nbb_formatted_code);\n",
       "                        }\n",
       "                        break;\n",
       "                    }\n",
       "                }\n",
       "            }, 500);\n",
       "            "
      ],
      "text/plain": [
       "<IPython.core.display.Javascript object>"
      ]
     },
     "metadata": {},
     "output_type": "display_data"
    }
   ],
   "source": [
    "n, c = X_train.shape[0], X_train.shape[1:]\n",
    "print(X_train, Y_train)\n",
    "print(X_train.shape)\n",
    "print(Y_train.min(), Y_train.max())"
   ]
  },
  {
   "cell_type": "markdown",
   "id": "1e0a9793",
   "metadata": {},
   "source": [
    "# Load v2"
   ]
  },
  {
   "cell_type": "code",
   "execution_count": 6,
   "id": "63a38248",
   "metadata": {},
   "outputs": [
    {
     "data": {
      "application/javascript": [
       "\n",
       "            setTimeout(function() {\n",
       "                var nbb_cell_id = 6;\n",
       "                var nbb_unformatted_code = \"from pathlib import Path\\nimport requests\\n\\nDATA_PATH = Path(\\\"data\\\")\\nPATH = DATA_PATH / \\\"mnist\\\"\\n\\nPATH.mkdir(parents=True, exist_ok=True)\\n\\nURL = \\\"https://github.com/pytorch/tutorials/raw/master/_static/\\\"\\nFILENAME = \\\"mnist.pkl.gz\\\"\\n\\nif not (PATH / FILENAME).exists():\\n    content = requests.get(URL + FILENAME).content\\n    (PATH / FILENAME).open(\\\"wb\\\").write(content)\";\n",
       "                var nbb_formatted_code = \"from pathlib import Path\\nimport requests\\n\\nDATA_PATH = Path(\\\"data\\\")\\nPATH = DATA_PATH / \\\"mnist\\\"\\n\\nPATH.mkdir(parents=True, exist_ok=True)\\n\\nURL = \\\"https://github.com/pytorch/tutorials/raw/master/_static/\\\"\\nFILENAME = \\\"mnist.pkl.gz\\\"\\n\\nif not (PATH / FILENAME).exists():\\n    content = requests.get(URL + FILENAME).content\\n    (PATH / FILENAME).open(\\\"wb\\\").write(content)\";\n",
       "                var nbb_cells = Jupyter.notebook.get_cells();\n",
       "                for (var i = 0; i < nbb_cells.length; ++i) {\n",
       "                    if (nbb_cells[i].input_prompt_number == nbb_cell_id) {\n",
       "                        if (nbb_cells[i].get_text() == nbb_unformatted_code) {\n",
       "                             nbb_cells[i].set_text(nbb_formatted_code);\n",
       "                        }\n",
       "                        break;\n",
       "                    }\n",
       "                }\n",
       "            }, 500);\n",
       "            "
      ],
      "text/plain": [
       "<IPython.core.display.Javascript object>"
      ]
     },
     "metadata": {},
     "output_type": "display_data"
    }
   ],
   "source": [
    "from pathlib import Path\n",
    "import requests\n",
    "\n",
    "DATA_PATH = Path(\"data\")\n",
    "PATH = DATA_PATH / \"mnist\"\n",
    "\n",
    "PATH.mkdir(parents=True, exist_ok=True)\n",
    "\n",
    "URL = \"https://github.com/pytorch/tutorials/raw/master/_static/\"\n",
    "FILENAME = \"mnist.pkl.gz\"\n",
    "\n",
    "if not (PATH / FILENAME).exists():\n",
    "    content = requests.get(URL + FILENAME).content\n",
    "    (PATH / FILENAME).open(\"wb\").write(content)"
   ]
  },
  {
   "cell_type": "code",
   "execution_count": 7,
   "id": "9b2d8372",
   "metadata": {},
   "outputs": [
    {
     "data": {
      "application/javascript": [
       "\n",
       "            setTimeout(function() {\n",
       "                var nbb_cell_id = 7;\n",
       "                var nbb_unformatted_code = \"import pickle\\nimport gzip\\n\\nwith gzip.open((PATH / FILENAME).as_posix(), \\\"rb\\\") as f:\\n    ((X_train, Y_train), (X_test, Y_test), _) = pickle.load(f, encoding=\\\"latin-1\\\")\";\n",
       "                var nbb_formatted_code = \"import pickle\\nimport gzip\\n\\nwith gzip.open((PATH / FILENAME).as_posix(), \\\"rb\\\") as f:\\n    ((X_train, Y_train), (X_test, Y_test), _) = pickle.load(f, encoding=\\\"latin-1\\\")\";\n",
       "                var nbb_cells = Jupyter.notebook.get_cells();\n",
       "                for (var i = 0; i < nbb_cells.length; ++i) {\n",
       "                    if (nbb_cells[i].input_prompt_number == nbb_cell_id) {\n",
       "                        if (nbb_cells[i].get_text() == nbb_unformatted_code) {\n",
       "                             nbb_cells[i].set_text(nbb_formatted_code);\n",
       "                        }\n",
       "                        break;\n",
       "                    }\n",
       "                }\n",
       "            }, 500);\n",
       "            "
      ],
      "text/plain": [
       "<IPython.core.display.Javascript object>"
      ]
     },
     "metadata": {},
     "output_type": "display_data"
    }
   ],
   "source": [
    "import pickle\n",
    "import gzip\n",
    "\n",
    "with gzip.open((PATH / FILENAME).as_posix(), \"rb\") as f:\n",
    "    ((X_train, Y_train), (X_test, Y_test), _) = pickle.load(f, encoding=\"latin-1\")"
   ]
  },
  {
   "cell_type": "code",
   "execution_count": 8,
   "id": "08df7895",
   "metadata": {},
   "outputs": [
    {
     "name": "stdout",
     "output_type": "stream",
     "text": [
      "(50000, 784)\n"
     ]
    },
    {
     "data": {
      "image/png": "[encoded data removed]",
      "text/plain": [
       "<Figure size 432x288 with 1 Axes>"
      ]
     },
     "metadata": {
      "needs_background": "light"
     },
     "output_type": "display_data"
    },
    {
     "data": {
      "application/javascript": [
       "\n",
       "            setTimeout(function() {\n",
       "                var nbb_cell_id = 8;\n",
       "                var nbb_unformatted_code = \"from matplotlib import pyplot\\nimport numpy as np\\n\\npyplot.imshow(X_train[0].reshape((28, 28)), cmap=\\\"gray\\\")\\nprint(X_train.shape)\";\n",
       "                var nbb_formatted_code = \"from matplotlib import pyplot\\nimport numpy as np\\n\\npyplot.imshow(X_train[0].reshape((28, 28)), cmap=\\\"gray\\\")\\nprint(X_train.shape)\";\n",
       "                var nbb_cells = Jupyter.notebook.get_cells();\n",
       "                for (var i = 0; i < nbb_cells.length; ++i) {\n",
       "                    if (nbb_cells[i].input_prompt_number == nbb_cell_id) {\n",
       "                        if (nbb_cells[i].get_text() == nbb_unformatted_code) {\n",
       "                             nbb_cells[i].set_text(nbb_formatted_code);\n",
       "                        }\n",
       "                        break;\n",
       "                    }\n",
       "                }\n",
       "            }, 500);\n",
       "            "
      ],
      "text/plain": [
       "<IPython.core.display.Javascript object>"
      ]
     },
     "metadata": {},
     "output_type": "display_data"
    }
   ],
   "source": [
    "from matplotlib import pyplot\n",
    "import numpy as np\n",
    "\n",
    "pyplot.imshow(X_train[0].reshape((28, 28)), cmap=\"gray\")\n",
    "print(X_train.shape)"
   ]
  },
  {
   "cell_type": "code",
   "execution_count": 9,
   "id": "df5327ca",
   "metadata": {},
   "outputs": [
    {
     "data": {
      "application/javascript": [
       "\n",
       "            setTimeout(function() {\n",
       "                var nbb_cell_id = 9;\n",
       "                var nbb_unformatted_code = \"X_train, Y_train, X_test, Y_test = map(torch.tensor, (X_train, Y_train, X_test, Y_test))\\nn, c = X_train.shape\";\n",
       "                var nbb_formatted_code = \"X_train, Y_train, X_test, Y_test = map(torch.tensor, (X_train, Y_train, X_test, Y_test))\\nn, c = X_train.shape\";\n",
       "                var nbb_cells = Jupyter.notebook.get_cells();\n",
       "                for (var i = 0; i < nbb_cells.length; ++i) {\n",
       "                    if (nbb_cells[i].input_prompt_number == nbb_cell_id) {\n",
       "                        if (nbb_cells[i].get_text() == nbb_unformatted_code) {\n",
       "                             nbb_cells[i].set_text(nbb_formatted_code);\n",
       "                        }\n",
       "                        break;\n",
       "                    }\n",
       "                }\n",
       "            }, 500);\n",
       "            "
      ],
      "text/plain": [
       "<IPython.core.display.Javascript object>"
      ]
     },
     "metadata": {},
     "output_type": "display_data"
    }
   ],
   "source": [
    "X_train, Y_train, X_test, Y_test = map(torch.tensor, (X_train, Y_train, X_test, Y_test))\n",
    "n, c = X_train.shape"
   ]
  },
  {
   "cell_type": "markdown",
   "id": "656e89b7",
   "metadata": {},
   "source": [
    "# torch.nn"
   ]
  },
  {
   "cell_type": "code",
   "execution_count": 10,
   "id": "1dbda179",
   "metadata": {},
   "outputs": [
    {
     "data": {
      "application/javascript": [
       "\n",
       "            setTimeout(function() {\n",
       "                var nbb_cell_id = 10;\n",
       "                var nbb_unformatted_code = \"# import math\\n\\n# weights = torch.randn(784, 10, requires_grad=True) / math.sqrt(784)\\n# bias = torch.zeros(10, requires_grad=True)\";\n",
       "                var nbb_formatted_code = \"# import math\\n\\n# weights = torch.randn(784, 10, requires_grad=True) / math.sqrt(784)\\n# bias = torch.zeros(10, requires_grad=True)\";\n",
       "                var nbb_cells = Jupyter.notebook.get_cells();\n",
       "                for (var i = 0; i < nbb_cells.length; ++i) {\n",
       "                    if (nbb_cells[i].input_prompt_number == nbb_cell_id) {\n",
       "                        if (nbb_cells[i].get_text() == nbb_unformatted_code) {\n",
       "                             nbb_cells[i].set_text(nbb_formatted_code);\n",
       "                        }\n",
       "                        break;\n",
       "                    }\n",
       "                }\n",
       "            }, 500);\n",
       "            "
      ],
      "text/plain": [
       "<IPython.core.display.Javascript object>"
      ]
     },
     "metadata": {},
     "output_type": "display_data"
    }
   ],
   "source": [
    "# import math\n",
    "\n",
    "# weights = torch.randn(784, 10, requires_grad=True) / math.sqrt(784)\n",
    "# bias = torch.zeros(10, requires_grad=True)"
   ]
  },
  {
   "cell_type": "code",
   "execution_count": 11,
   "id": "e20ba74d",
   "metadata": {},
   "outputs": [
    {
     "data": {
      "application/javascript": [
       "\n",
       "            setTimeout(function() {\n",
       "                var nbb_cell_id = 11;\n",
       "                var nbb_unformatted_code = \"import math\\n\\nIMAGE_SIZE = 28 * 28\\nweights = torch.randn(IMAGE_SIZE, 10) / math.sqrt(IMAGE_SIZE)\\nweights.requires_grad_()\\nbias = torch.zeros(10, requires_grad=True)\";\n",
       "                var nbb_formatted_code = \"import math\\n\\nIMAGE_SIZE = 28 * 28\\nweights = torch.randn(IMAGE_SIZE, 10) / math.sqrt(IMAGE_SIZE)\\nweights.requires_grad_()\\nbias = torch.zeros(10, requires_grad=True)\";\n",
       "                var nbb_cells = Jupyter.notebook.get_cells();\n",
       "                for (var i = 0; i < nbb_cells.length; ++i) {\n",
       "                    if (nbb_cells[i].input_prompt_number == nbb_cell_id) {\n",
       "                        if (nbb_cells[i].get_text() == nbb_unformatted_code) {\n",
       "                             nbb_cells[i].set_text(nbb_formatted_code);\n",
       "                        }\n",
       "                        break;\n",
       "                    }\n",
       "                }\n",
       "            }, 500);\n",
       "            "
      ],
      "text/plain": [
       "<IPython.core.display.Javascript object>"
      ]
     },
     "metadata": {},
     "output_type": "display_data"
    }
   ],
   "source": [
    "import math\n",
    "\n",
    "IMAGE_SIZE = 28 * 28\n",
    "weights = torch.randn(IMAGE_SIZE, 10) / math.sqrt(IMAGE_SIZE)\n",
    "weights.requires_grad_()\n",
    "bias = torch.zeros(10, requires_grad=True)"
   ]
  },
  {
   "cell_type": "code",
   "execution_count": 12,
   "id": "093db39a",
   "metadata": {},
   "outputs": [
    {
     "data": {
      "application/javascript": [
       "\n",
       "            setTimeout(function() {\n",
       "                var nbb_cell_id = 12;\n",
       "                var nbb_unformatted_code = \"def log_softmax(x):\\n    return x - x.exp().sum(-1).log().unsqueeze(-1)\\n    # return nn.LogSoftmax(x).dim\\n\\n\\ndef model(xb):\\n    return log_softmax(xb @ weights + bias)\";\n",
       "                var nbb_formatted_code = \"def log_softmax(x):\\n    return x - x.exp().sum(-1).log().unsqueeze(-1)\\n    # return nn.LogSoftmax(x).dim\\n\\n\\ndef model(xb):\\n    return log_softmax(xb @ weights + bias)\";\n",
       "                var nbb_cells = Jupyter.notebook.get_cells();\n",
       "                for (var i = 0; i < nbb_cells.length; ++i) {\n",
       "                    if (nbb_cells[i].input_prompt_number == nbb_cell_id) {\n",
       "                        if (nbb_cells[i].get_text() == nbb_unformatted_code) {\n",
       "                             nbb_cells[i].set_text(nbb_formatted_code);\n",
       "                        }\n",
       "                        break;\n",
       "                    }\n",
       "                }\n",
       "            }, 500);\n",
       "            "
      ],
      "text/plain": [
       "<IPython.core.display.Javascript object>"
      ]
     },
     "metadata": {},
     "output_type": "display_data"
    }
   ],
   "source": [
    "def log_softmax(x):\n",
    "    return x - x.exp().sum(-1).log().unsqueeze(-1)\n",
    "    # return nn.LogSoftmax(x).dim\n",
    "\n",
    "\n",
    "def model(xb):\n",
    "    return log_softmax(xb @ weights + bias)"
   ]
  },
  {
   "cell_type": "code",
   "execution_count": 13,
   "id": "73ec52c2",
   "metadata": {
    "scrolled": true
   },
   "outputs": [
    {
     "name": "stdout",
     "output_type": "stream",
     "text": [
      "tensor([[-2.3586, -2.6280, -2.4469, -2.2570, -1.9430, -2.4685, -1.9596, -2.3330,\n",
      "         -2.6858, -2.2263],\n",
      "        [-2.2372, -2.6757, -2.3691, -2.4288, -1.5569, -2.3473, -2.5315, -2.5454,\n",
      "         -2.3159, -2.5307],\n",
      "        [-2.2990, -2.4072, -2.6000, -2.2746, -2.3868, -2.1857, -2.7326, -2.5060,\n",
      "         -2.0872, -1.8486],\n",
      "        [-2.4735, -2.2307, -2.4771, -2.0749, -2.2266, -2.1607, -2.2193, -2.2825,\n",
      "         -2.5207, -2.4717],\n",
      "        [-2.0591, -2.0445, -2.5798, -2.0984, -2.6707, -2.2615, -2.2888, -2.5458,\n",
      "         -2.4617, -2.2438],\n",
      "        [-2.4587, -2.6739, -2.4281, -2.1513, -2.3926, -1.6751, -2.6044, -2.2556,\n",
      "         -2.0362, -2.9383],\n",
      "        [-2.6954, -2.5670, -2.4228, -2.4254, -2.3455, -2.2241, -1.7596, -2.4151,\n",
      "         -2.4450, -2.0680],\n",
      "        [-2.3595, -2.7625, -2.5301, -2.1954, -2.2775, -2.0206, -2.2137, -2.2994,\n",
      "         -2.4143, -2.1432],\n",
      "        [-2.4457, -2.4858, -2.4079, -2.3364, -2.4832, -2.0060, -1.9620, -2.4844,\n",
      "         -2.2193, -2.3778],\n",
      "        [-2.1028, -2.4360, -2.7741, -2.0062, -2.3133, -2.4067, -2.4388, -2.2484,\n",
      "         -2.4520, -2.0756],\n",
      "        [-2.7004, -2.8664, -2.1842, -2.0083, -2.5032, -1.6808, -2.3383, -2.2639,\n",
      "         -2.7711, -2.3223],\n",
      "        [-2.7783, -2.4499, -2.5374, -2.1633, -1.7746, -2.1591, -2.4776, -2.4018,\n",
      "         -2.1760, -2.4702],\n",
      "        [-2.6408, -2.7389, -2.3037, -2.1140, -2.0836, -1.8591, -2.4022, -2.4927,\n",
      "         -2.4870, -2.2372],\n",
      "        [-2.4652, -2.4220, -2.4275, -2.3123, -2.0171, -2.2111, -2.1422, -2.6354,\n",
      "         -2.2274, -2.3080],\n",
      "        [-2.2621, -2.6163, -2.6122, -2.3167, -2.1901, -2.3127, -1.9144, -2.3843,\n",
      "         -2.3926, -2.2168],\n",
      "        [-2.2756, -2.7101, -2.4925, -1.5839, -2.5447, -2.2543, -2.5842, -2.4745,\n",
      "         -2.1665, -2.4630],\n",
      "        [-2.5726, -2.4554, -2.2829, -1.8700, -2.0510, -1.9203, -2.5272, -2.3265,\n",
      "         -2.6513, -2.8393],\n",
      "        [-2.6091, -2.2524, -2.5430, -2.1774, -2.5679, -2.2623, -2.2148, -2.0375,\n",
      "         -2.3292, -2.1930],\n",
      "        [-2.0837, -2.3761, -2.2836, -2.2222, -2.2533, -2.1299, -2.3514, -2.8703,\n",
      "         -2.3922, -2.2529],\n",
      "        [-2.2717, -2.5428, -2.2758, -2.0083, -2.5489, -2.1177, -2.2910, -2.1597,\n",
      "         -2.5155, -2.4596],\n",
      "        [-2.3641, -2.3514, -2.8784, -1.9429, -2.0077, -2.1493, -2.8724, -2.4883,\n",
      "         -2.0902, -2.3322],\n",
      "        [-2.4388, -2.5080, -2.3781, -2.4500, -1.6921, -2.2128, -2.4795, -2.7406,\n",
      "         -2.1997, -2.3065],\n",
      "        [-2.0881, -2.4579, -2.2628, -2.0895, -2.6416, -1.9580, -2.3854, -2.2959,\n",
      "         -2.5474, -2.5349],\n",
      "        [-2.5104, -2.1431, -2.5323, -2.0648, -2.2728, -2.1760, -2.2039, -2.3001,\n",
      "         -2.5515, -2.4075],\n",
      "        [-2.1468, -2.4042, -2.3172, -1.9707, -2.3958, -2.2694, -2.3664, -2.3812,\n",
      "         -2.3149, -2.5853],\n",
      "        [-2.4890, -2.6364, -2.4869, -2.2543, -1.8790, -2.1843, -1.8530, -2.4864,\n",
      "         -2.8983, -2.3341],\n",
      "        [-2.4142, -2.1771, -2.6311, -1.8855, -2.7130, -2.0997, -2.0467, -2.4924,\n",
      "         -2.3559, -2.5518],\n",
      "        [-2.5852, -2.7170, -2.3922, -2.0598, -1.9053, -1.8271, -2.5057, -2.4851,\n",
      "         -2.6426, -2.3659],\n",
      "        [-2.8223, -2.8318, -2.3308, -1.9005, -2.0025, -1.8231, -2.4965, -2.8514,\n",
      "         -2.3233, -2.2995],\n",
      "        [-2.1064, -2.3648, -2.2948, -1.8841, -2.3013, -2.1580, -2.7189, -2.5730,\n",
      "         -2.4056, -2.4835],\n",
      "        [-2.1692, -2.5434, -2.4595, -2.5049, -2.3217, -2.2002, -2.2661, -2.7537,\n",
      "         -1.9733, -2.0819],\n",
      "        [-2.5478, -2.5514, -2.5423, -2.2116, -2.3978, -2.1608, -2.2118, -2.0729,\n",
      "         -2.2077, -2.2621],\n",
      "        [-2.3589, -2.6164, -2.0880, -2.5892, -1.9352, -2.3463, -2.0357, -2.5902,\n",
      "         -2.4317, -2.3045],\n",
      "        [-2.1378, -2.5199, -2.4195, -1.7277, -2.7773, -2.2616, -2.6551, -2.3397,\n",
      "         -2.2886, -2.2973],\n",
      "        [-2.0896, -2.8724, -2.4996, -1.9867, -2.4537, -1.8882, -2.9212, -2.2579,\n",
      "         -2.4645, -2.1233],\n",
      "        [-2.3424, -2.7220, -2.4833, -2.0276, -2.4943, -1.8466, -2.4038, -2.2773,\n",
      "         -2.0917, -2.7138],\n",
      "        [-2.0914, -2.6408, -2.3332, -2.5586, -1.8804, -2.2849, -2.1477, -2.5463,\n",
      "         -2.6905, -2.1760],\n",
      "        [-2.2633, -2.7079, -2.3089, -2.0990, -2.1506, -1.8893, -2.9695, -2.3228,\n",
      "         -2.3373, -2.3660],\n",
      "        [-2.8002, -1.8439, -2.5821, -1.9423, -2.1452, -1.9112, -2.5380, -2.6080,\n",
      "         -2.4844, -2.7973],\n",
      "        [-2.1042, -2.6348, -2.2619, -2.5245, -2.0953, -2.1860, -2.1514, -2.6432,\n",
      "         -2.1714, -2.4629],\n",
      "        [-2.4918, -2.3691, -2.4866, -2.3047, -2.3383, -2.2204, -2.1373, -2.4430,\n",
      "         -2.1591, -2.1598],\n",
      "        [-2.6349, -2.4811, -2.4390, -2.1675, -2.3733, -2.0614, -2.1474, -2.3351,\n",
      "         -2.4378, -2.1075],\n",
      "        [-2.3930, -2.1337, -2.6505, -1.9953, -2.5236, -2.3159, -2.2777, -2.3407,\n",
      "         -2.1401, -2.4260],\n",
      "        [-2.5322, -2.3461, -2.1581, -2.0025, -2.7605, -2.1117, -2.1972, -2.5004,\n",
      "         -2.3722, -2.2681],\n",
      "        [-2.5310, -2.2467, -2.6799, -2.1349, -1.6806, -2.2677, -2.6213, -2.3830,\n",
      "         -2.5143, -2.3846],\n",
      "        [-2.4012, -2.1444, -2.6092, -1.8562, -2.7400, -2.3136, -2.5379, -2.2339,\n",
      "         -2.2405, -2.2406],\n",
      "        [-2.8205, -2.5281, -2.3843, -2.0191, -2.1673, -2.0980, -2.3055, -2.4675,\n",
      "         -2.3565, -2.1266],\n",
      "        [-2.3881, -2.3211, -2.6243, -2.1059, -2.3136, -2.1950, -2.0199, -2.1600,\n",
      "         -2.6784, -2.4206],\n",
      "        [-2.5345, -2.7783, -2.0108, -2.0321, -2.4982, -2.3268, -2.0323, -2.7620,\n",
      "         -2.3099, -2.1178],\n",
      "        [-2.5117, -2.7073, -2.1434, -2.2235, -2.3064, -1.8959, -2.3075, -2.2742,\n",
      "         -2.6167, -2.2883],\n",
      "        [-2.3356, -2.5616, -2.2728, -2.4651, -2.0072, -1.9984, -2.4327, -2.2091,\n",
      "         -2.4918, -2.4330],\n",
      "        [-2.7189, -3.0487, -2.6247, -2.4493, -1.8078, -2.2235, -2.4024, -2.6066,\n",
      "         -1.5749, -2.4739],\n",
      "        [-2.3649, -2.4983, -2.7125, -1.9425, -1.9454, -1.9928, -2.7687, -2.8109,\n",
      "         -2.3952, -2.1135],\n",
      "        [-2.3462, -2.4006, -2.4836, -2.0397, -2.3793, -2.1240, -2.1484, -2.4240,\n",
      "         -2.3568, -2.4308],\n",
      "        [-2.3465, -2.5071, -2.9114, -1.7238, -2.4124, -2.1945, -2.1801, -2.7771,\n",
      "         -2.2050, -2.2682],\n",
      "        [-2.7171, -2.2119, -2.6892, -1.7543, -2.4533, -2.3288, -2.3499, -2.3241,\n",
      "         -2.3114, -2.2284],\n",
      "        [-2.5885, -2.6782, -2.3716, -2.0916, -1.8583, -1.9600, -2.1980, -3.1140,\n",
      "         -2.0826, -2.7725],\n",
      "        [-2.4614, -2.2217, -2.5462, -1.8082, -2.7010, -2.0167, -2.2352, -2.4163,\n",
      "         -2.4287, -2.5341],\n",
      "        [-2.3501, -2.2209, -3.0381, -1.7102, -2.1292, -2.1794, -2.6562, -2.5629,\n",
      "         -2.4300, -2.3026],\n",
      "        [-2.4993, -2.1945, -2.4758, -2.1813, -2.1207, -2.1501, -2.1149, -2.3819,\n",
      "         -2.6073, -2.4501],\n",
      "        [-2.2897, -1.8949, -2.8058, -2.7142, -1.3414, -2.2323, -2.6494, -3.4815,\n",
      "         -2.7104, -2.4660],\n",
      "        [-2.3771, -2.1334, -2.4895, -1.9628, -2.4027, -2.2301, -2.2829, -2.4728,\n",
      "         -2.6008, -2.2369],\n",
      "        [-2.1277, -2.5770, -2.3217, -2.5672, -1.8877, -2.1167, -2.4350, -2.7872,\n",
      "         -2.4489, -2.0988],\n",
      "        [-2.3576, -2.2474, -2.4396, -2.3438, -2.1760, -2.0330, -3.2268, -2.5403,\n",
      "         -2.0381, -2.0933]], grad_fn=<SubBackward0>)\n"
     ]
    },
    {
     "data": {
      "application/javascript": [
       "\n",
       "            setTimeout(function() {\n",
       "                var nbb_cell_id = 13;\n",
       "                var nbb_unformatted_code = \"bs = 64  # batch size\\n\\nxb = X_train[0:bs]  # a mini-batch from x\\npreds = model(xb)  # predictions\\n\\nprint(preds)\";\n",
       "                var nbb_formatted_code = \"bs = 64  # batch size\\n\\nxb = X_train[0:bs]  # a mini-batch from x\\npreds = model(xb)  # predictions\\n\\nprint(preds)\";\n",
       "                var nbb_cells = Jupyter.notebook.get_cells();\n",
       "                for (var i = 0; i < nbb_cells.length; ++i) {\n",
       "                    if (nbb_cells[i].input_prompt_number == nbb_cell_id) {\n",
       "                        if (nbb_cells[i].get_text() == nbb_unformatted_code) {\n",
       "                             nbb_cells[i].set_text(nbb_formatted_code);\n",
       "                        }\n",
       "                        break;\n",
       "                    }\n",
       "                }\n",
       "            }, 500);\n",
       "            "
      ],
      "text/plain": [
       "<IPython.core.display.Javascript object>"
      ]
     },
     "metadata": {},
     "output_type": "display_data"
    }
   ],
   "source": [
    "bs = 64  # batch size\n",
    "\n",
    "xb = X_train[0:bs]  # a mini-batch from x\n",
    "preds = model(xb)  # predictions\n",
    "\n",
    "print(preds)"
   ]
  },
  {
   "cell_type": "code",
   "execution_count": 14,
   "id": "9b8ceb4b",
   "metadata": {},
   "outputs": [
    {
     "data": {
      "application/javascript": [
       "\n",
       "            setTimeout(function() {\n",
       "                var nbb_cell_id = 14;\n",
       "                var nbb_unformatted_code = \"def nll(input, target):\\n    return -input[range(target.shape[0]), target].mean()\\n\\n\\nloss_func = nll\";\n",
       "                var nbb_formatted_code = \"def nll(input, target):\\n    return -input[range(target.shape[0]), target].mean()\\n\\n\\nloss_func = nll\";\n",
       "                var nbb_cells = Jupyter.notebook.get_cells();\n",
       "                for (var i = 0; i < nbb_cells.length; ++i) {\n",
       "                    if (nbb_cells[i].input_prompt_number == nbb_cell_id) {\n",
       "                        if (nbb_cells[i].get_text() == nbb_unformatted_code) {\n",
       "                             nbb_cells[i].set_text(nbb_formatted_code);\n",
       "                        }\n",
       "                        break;\n",
       "                    }\n",
       "                }\n",
       "            }, 500);\n",
       "            "
      ],
      "text/plain": [
       "<IPython.core.display.Javascript object>"
      ]
     },
     "metadata": {},
     "output_type": "display_data"
    }
   ],
   "source": [
    "def nll(input, target):\n",
    "    return -input[range(target.shape[0]), target].mean()\n",
    "\n",
    "\n",
    "loss_func = nll"
   ]
  },
  {
   "cell_type": "code",
   "execution_count": 15,
   "id": "2b6e4eb0",
   "metadata": {},
   "outputs": [
    {
     "name": "stdout",
     "output_type": "stream",
     "text": [
      "tensor(2.3119, grad_fn=<NegBackward>)\n"
     ]
    },
    {
     "data": {
      "application/javascript": [
       "\n",
       "            setTimeout(function() {\n",
       "                var nbb_cell_id = 15;\n",
       "                var nbb_unformatted_code = \"yb = Y_train[0:bs].long()\\nprint(loss_func(preds, yb))\";\n",
       "                var nbb_formatted_code = \"yb = Y_train[0:bs].long()\\nprint(loss_func(preds, yb))\";\n",
       "                var nbb_cells = Jupyter.notebook.get_cells();\n",
       "                for (var i = 0; i < nbb_cells.length; ++i) {\n",
       "                    if (nbb_cells[i].input_prompt_number == nbb_cell_id) {\n",
       "                        if (nbb_cells[i].get_text() == nbb_unformatted_code) {\n",
       "                             nbb_cells[i].set_text(nbb_formatted_code);\n",
       "                        }\n",
       "                        break;\n",
       "                    }\n",
       "                }\n",
       "            }, 500);\n",
       "            "
      ],
      "text/plain": [
       "<IPython.core.display.Javascript object>"
      ]
     },
     "metadata": {},
     "output_type": "display_data"
    }
   ],
   "source": [
    "yb = Y_train[0:bs].long()\n",
    "print(loss_func(preds, yb))"
   ]
  },
  {
   "cell_type": "code",
   "execution_count": 16,
   "id": "6640eede",
   "metadata": {},
   "outputs": [
    {
     "data": {
      "application/javascript": [
       "\n",
       "            setTimeout(function() {\n",
       "                var nbb_cell_id = 16;\n",
       "                var nbb_unformatted_code = \"def accuracy(out, yb):\\n    preds = torch.argmax(out, dim=1)\\n    return (preds == yb).float().mean()\";\n",
       "                var nbb_formatted_code = \"def accuracy(out, yb):\\n    preds = torch.argmax(out, dim=1)\\n    return (preds == yb).float().mean()\";\n",
       "                var nbb_cells = Jupyter.notebook.get_cells();\n",
       "                for (var i = 0; i < nbb_cells.length; ++i) {\n",
       "                    if (nbb_cells[i].input_prompt_number == nbb_cell_id) {\n",
       "                        if (nbb_cells[i].get_text() == nbb_unformatted_code) {\n",
       "                             nbb_cells[i].set_text(nbb_formatted_code);\n",
       "                        }\n",
       "                        break;\n",
       "                    }\n",
       "                }\n",
       "            }, 500);\n",
       "            "
      ],
      "text/plain": [
       "<IPython.core.display.Javascript object>"
      ]
     },
     "metadata": {},
     "output_type": "display_data"
    }
   ],
   "source": [
    "def accuracy(out, yb):\n",
    "    preds = torch.argmax(out, dim=1)\n",
    "    return (preds == yb).float().mean()"
   ]
  },
  {
   "cell_type": "code",
   "execution_count": 17,
   "id": "0f3801f8",
   "metadata": {},
   "outputs": [
    {
     "name": "stdout",
     "output_type": "stream",
     "text": [
      "tensor(0.0312)\n"
     ]
    },
    {
     "data": {
      "application/javascript": [
       "\n",
       "            setTimeout(function() {\n",
       "                var nbb_cell_id = 17;\n",
       "                var nbb_unformatted_code = \"print(accuracy(preds, yb))\";\n",
       "                var nbb_formatted_code = \"print(accuracy(preds, yb))\";\n",
       "                var nbb_cells = Jupyter.notebook.get_cells();\n",
       "                for (var i = 0; i < nbb_cells.length; ++i) {\n",
       "                    if (nbb_cells[i].input_prompt_number == nbb_cell_id) {\n",
       "                        if (nbb_cells[i].get_text() == nbb_unformatted_code) {\n",
       "                             nbb_cells[i].set_text(nbb_formatted_code);\n",
       "                        }\n",
       "                        break;\n",
       "                    }\n",
       "                }\n",
       "            }, 500);\n",
       "            "
      ],
      "text/plain": [
       "<IPython.core.display.Javascript object>"
      ]
     },
     "metadata": {},
     "output_type": "display_data"
    }
   ],
   "source": [
    "print(accuracy(preds, yb))"
   ]
  },
  {
   "cell_type": "markdown",
   "id": "fe011fa6",
   "metadata": {},
   "source": [
    "# Training loop"
   ]
  },
  {
   "cell_type": "code",
   "execution_count": 18,
   "id": "03a6c18a",
   "metadata": {},
   "outputs": [
    {
     "name": "stderr",
     "output_type": "stream",
     "text": [
      "  0%|          | 0/2 [00:00<?, ?it/s]\n",
      "loss 2.31 accuracy 0.03:   0%|          | 0/2 [00:01<?, ?it/s]\n",
      "loss 0.48 accuracy 0.84:   0%|          | 0/2 [00:01<?, ?it/s]\n",
      "loss 0.31 accuracy 0.91:   0%|          | 0/2 [00:01<?, ?it/s]\n",
      "loss 0.56 accuracy 0.80:   0%|          | 0/2 [00:01<?, ?it/s]\n",
      "loss 0.14 accuracy 0.95:   0%|          | 0/2 [00:01<?, ?it/s]\n",
      "loss 0.44 accuracy 0.91:   0%|          | 0/2 [00:01<?, ?it/s]\n",
      "loss 0.36 accuracy 0.86:   0%|          | 0/2 [00:01<?, ?it/s]\n",
      "loss 0.16 accuracy 0.97:   0%|          | 0/2 [00:01<?, ?it/s]\n",
      "loss 0.52 accuracy 0.83:   0%|          | 0/2 [00:01<?, ?it/s]\n",
      "100%|██████████| 782/782 [00:01<00:00, 401.88it/s]01<?, ?it/s]\n",
      "loss 0.40 accuracy 0.94:  50%|█████     | 1/2 [00:01<00:01,  1.95s/it]\n",
      "loss 0.35 accuracy 0.95:  50%|█████     | 1/2 [00:02<00:01,  1.95s/it]\n",
      "loss 0.19 accuracy 0.94:  50%|█████     | 1/2 [00:02<00:01,  1.95s/it]\n",
      "loss 0.30 accuracy 0.89:  50%|█████     | 1/2 [00:02<00:01,  1.95s/it]\n",
      "loss 0.23 accuracy 0.94:  50%|█████     | 1/2 [00:02<00:01,  1.95s/it]\n",
      "loss 0.20 accuracy 0.94:  50%|█████     | 1/2 [00:02<00:01,  1.95s/it]\n",
      "loss 0.13 accuracy 0.97:  50%|█████     | 1/2 [00:02<00:01,  1.95s/it]\n",
      "loss 0.19 accuracy 0.91:  50%|█████     | 1/2 [00:02<00:01,  1.95s/it]\n",
      "loss 0.55 accuracy 0.88:  50%|█████     | 1/2 [00:02<00:01,  1.95s/it]\n",
      "100%|██████████| 782/782 [00:00<00:00, 965.03it/s] 2<00:01,  1.95s/it]\n",
      "loss 0.32 accuracy 0.94: 100%|██████████| 2/2 [00:02<00:00,  1.38s/it]\n"
     ]
    },
    {
     "data": {
      "application/javascript": [
       "\n",
       "            setTimeout(function() {\n",
       "                var nbb_cell_id = 18;\n",
       "                var nbb_unformatted_code = \"from IPython.core.debugger import set_trace\\n\\nlr = 0.5  # learning rate\\nepochs = 2  # how many epochs to train for\\n\\nfor epoch in (t := trange(epochs, position=0)) :\\n    for i in trange((n - 1) // bs + 1):\\n        #         set_trace()\\n        start_i = i * bs\\n        end_i = start_i + bs\\n        xb = X_train[start_i:end_i]\\n        yb = Y_train[start_i:end_i]\\n        pred = model(xb)\\n        loss = loss_func(pred, yb)\\n        cat = torch.argmax(pred, dim=1)\\n        acc = (cat == yb).float().mean()\\n        loss.backward()\\n        with torch.no_grad():\\n            weights -= weights.grad * lr\\n            bias -= bias.grad * lr\\n            weights.grad.zero_()\\n            bias.grad.zero_()\\n        t.set_description(\\\"loss %.2f accuracy %.2f\\\" % (loss, acc))\";\n",
       "                var nbb_formatted_code = \"from IPython.core.debugger import set_trace\\n\\nlr = 0.5  # learning rate\\nepochs = 2  # how many epochs to train for\\n\\nfor epoch in (t := trange(epochs, position=0)) :\\n    for i in trange((n - 1) // bs + 1):\\n        #         set_trace()\\n        start_i = i * bs\\n        end_i = start_i + bs\\n        xb = X_train[start_i:end_i]\\n        yb = Y_train[start_i:end_i]\\n        pred = model(xb)\\n        loss = loss_func(pred, yb)\\n        cat = torch.argmax(pred, dim=1)\\n        acc = (cat == yb).float().mean()\\n        loss.backward()\\n        with torch.no_grad():\\n            weights -= weights.grad * lr\\n            bias -= bias.grad * lr\\n            weights.grad.zero_()\\n            bias.grad.zero_()\\n        t.set_description(\\\"loss %.2f accuracy %.2f\\\" % (loss, acc))\";\n",
       "                var nbb_cells = Jupyter.notebook.get_cells();\n",
       "                for (var i = 0; i < nbb_cells.length; ++i) {\n",
       "                    if (nbb_cells[i].input_prompt_number == nbb_cell_id) {\n",
       "                        if (nbb_cells[i].get_text() == nbb_unformatted_code) {\n",
       "                             nbb_cells[i].set_text(nbb_formatted_code);\n",
       "                        }\n",
       "                        break;\n",
       "                    }\n",
       "                }\n",
       "            }, 500);\n",
       "            "
      ],
      "text/plain": [
       "<IPython.core.display.Javascript object>"
      ]
     },
     "metadata": {},
     "output_type": "display_data"
    }
   ],
   "source": [
    "from IPython.core.debugger import set_trace\n",
    "\n",
    "lr = 0.5  # learning rate\n",
    "epochs = 2  # how many epochs to train for\n",
    "\n",
    "for epoch in (t := trange(epochs, position=0)) :\n",
    "    for i in trange((n - 1) // bs + 1):\n",
    "        #         set_trace()\n",
    "        start_i = i * bs\n",
    "        end_i = start_i + bs\n",
    "        xb = X_train[start_i:end_i]\n",
    "        yb = Y_train[start_i:end_i]\n",
    "        pred = model(xb)\n",
    "        loss = loss_func(pred, yb)\n",
    "        cat = torch.argmax(pred, dim=1)\n",
    "        acc = (cat == yb).float().mean()\n",
    "        loss.backward()\n",
    "        with torch.no_grad():\n",
    "            weights -= weights.grad * lr\n",
    "            bias -= bias.grad * lr\n",
    "            weights.grad.zero_()\n",
    "            bias.grad.zero_()\n",
    "        t.set_description(\"loss %.2f accuracy %.2f\" % (loss, acc))"
   ]
  },
  {
   "cell_type": "code",
   "execution_count": 19,
   "id": "d4b368a8",
   "metadata": {},
   "outputs": [
    {
     "name": "stdout",
     "output_type": "stream",
     "text": [
      "tensor(0.0829, grad_fn=<NegBackward>) tensor(1.)\n"
     ]
    },
    {
     "data": {
      "application/javascript": [
       "\n",
       "            setTimeout(function() {\n",
       "                var nbb_cell_id = 19;\n",
       "                var nbb_unformatted_code = \"print(loss_func(model(xb), yb), accuracy(model(xb), yb))\";\n",
       "                var nbb_formatted_code = \"print(loss_func(model(xb), yb), accuracy(model(xb), yb))\";\n",
       "                var nbb_cells = Jupyter.notebook.get_cells();\n",
       "                for (var i = 0; i < nbb_cells.length; ++i) {\n",
       "                    if (nbb_cells[i].input_prompt_number == nbb_cell_id) {\n",
       "                        if (nbb_cells[i].get_text() == nbb_unformatted_code) {\n",
       "                             nbb_cells[i].set_text(nbb_formatted_code);\n",
       "                        }\n",
       "                        break;\n",
       "                    }\n",
       "                }\n",
       "            }, 500);\n",
       "            "
      ],
      "text/plain": [
       "<IPython.core.display.Javascript object>"
      ]
     },
     "metadata": {},
     "output_type": "display_data"
    }
   ],
   "source": [
    "print(loss_func(model(xb), yb), accuracy(model(xb), yb))"
   ]
  },
  {
   "cell_type": "markdown",
   "id": "7562b62e",
   "metadata": {},
   "source": [
    "# Refactor 1"
   ]
  },
  {
   "cell_type": "code",
   "execution_count": 20,
   "id": "2ab4f476",
   "metadata": {},
   "outputs": [
    {
     "data": {
      "application/javascript": [
       "\n",
       "            setTimeout(function() {\n",
       "                var nbb_cell_id = 20;\n",
       "                var nbb_unformatted_code = \"from torch import nn\\n\\n\\nclass Mnist_Logistic(nn.Module):\\n    def __init__(self):\\n        super().__init__()\\n        self.weights = nn.Parameter(torch.randn(784, 10) / math.sqrt(784))\\n        self.bias = nn.Parameter(torch.zeros(10))\\n\\n    def forward(self, xb):\\n        return xb @ self.weights + self.bias\";\n",
       "                var nbb_formatted_code = \"from torch import nn\\n\\n\\nclass Mnist_Logistic(nn.Module):\\n    def __init__(self):\\n        super().__init__()\\n        self.weights = nn.Parameter(torch.randn(784, 10) / math.sqrt(784))\\n        self.bias = nn.Parameter(torch.zeros(10))\\n\\n    def forward(self, xb):\\n        return xb @ self.weights + self.bias\";\n",
       "                var nbb_cells = Jupyter.notebook.get_cells();\n",
       "                for (var i = 0; i < nbb_cells.length; ++i) {\n",
       "                    if (nbb_cells[i].input_prompt_number == nbb_cell_id) {\n",
       "                        if (nbb_cells[i].get_text() == nbb_unformatted_code) {\n",
       "                             nbb_cells[i].set_text(nbb_formatted_code);\n",
       "                        }\n",
       "                        break;\n",
       "                    }\n",
       "                }\n",
       "            }, 500);\n",
       "            "
      ],
      "text/plain": [
       "<IPython.core.display.Javascript object>"
      ]
     },
     "metadata": {},
     "output_type": "display_data"
    }
   ],
   "source": [
    "from torch import nn\n",
    "\n",
    "\n",
    "class Mnist_Logistic(nn.Module):\n",
    "    def __init__(self):\n",
    "        super().__init__()\n",
    "        self.weights = nn.Parameter(torch.randn(784, 10) / math.sqrt(784))\n",
    "        self.bias = nn.Parameter(torch.zeros(10))\n",
    "\n",
    "    def forward(self, xb):\n",
    "        return xb @ self.weights + self.bias"
   ]
  },
  {
   "cell_type": "code",
   "execution_count": 21,
   "id": "4cdbf0e7",
   "metadata": {},
   "outputs": [
    {
     "data": {
      "application/javascript": [
       "\n",
       "            setTimeout(function() {\n",
       "                var nbb_cell_id = 21;\n",
       "                var nbb_unformatted_code = \"model = Mnist_Logistic()\";\n",
       "                var nbb_formatted_code = \"model = Mnist_Logistic()\";\n",
       "                var nbb_cells = Jupyter.notebook.get_cells();\n",
       "                for (var i = 0; i < nbb_cells.length; ++i) {\n",
       "                    if (nbb_cells[i].input_prompt_number == nbb_cell_id) {\n",
       "                        if (nbb_cells[i].get_text() == nbb_unformatted_code) {\n",
       "                             nbb_cells[i].set_text(nbb_formatted_code);\n",
       "                        }\n",
       "                        break;\n",
       "                    }\n",
       "                }\n",
       "            }, 500);\n",
       "            "
      ],
      "text/plain": [
       "<IPython.core.display.Javascript object>"
      ]
     },
     "metadata": {},
     "output_type": "display_data"
    }
   ],
   "source": [
    "model = Mnist_Logistic()\n"
   ]
  },
  {
   "cell_type": "code",
   "execution_count": 22,
   "id": "d4a47659",
   "metadata": {},
   "outputs": [
    {
     "name": "stdout",
     "output_type": "stream",
     "text": [
      "tensor(-0.0444, grad_fn=<NegBackward>)\n"
     ]
    },
    {
     "data": {
      "application/javascript": [
       "\n",
       "            setTimeout(function() {\n",
       "                var nbb_cell_id = 22;\n",
       "                var nbb_unformatted_code = \"print(loss_func(model(xb), yb))\";\n",
       "                var nbb_formatted_code = \"print(loss_func(model(xb), yb))\";\n",
       "                var nbb_cells = Jupyter.notebook.get_cells();\n",
       "                for (var i = 0; i < nbb_cells.length; ++i) {\n",
       "                    if (nbb_cells[i].input_prompt_number == nbb_cell_id) {\n",
       "                        if (nbb_cells[i].get_text() == nbb_unformatted_code) {\n",
       "                             nbb_cells[i].set_text(nbb_formatted_code);\n",
       "                        }\n",
       "                        break;\n",
       "                    }\n",
       "                }\n",
       "            }, 500);\n",
       "            "
      ],
      "text/plain": [
       "<IPython.core.display.Javascript object>"
      ]
     },
     "metadata": {},
     "output_type": "display_data"
    }
   ],
   "source": [
    "print(loss_func(model(xb), yb))"
   ]
  },
  {
   "cell_type": "code",
   "execution_count": 23,
   "id": "4b70e704",
   "metadata": {},
   "outputs": [
    {
     "name": "stderr",
     "output_type": "stream",
     "text": [
      "  0%|          | 0/2 [00:00<?, ?it/s]\n",
      "  0%|          | 0/782 [00:00<?, ?it/s]\u001b[A\n",
      " 27%|██▋       | 211/782 [00:00<00:00, 2108.13it/s]\u001b[A\n",
      " 58%|█████▊    | 456/782 [00:00<00:00, 2198.08it/s]\u001b[A\n",
      "100%|██████████| 782/782 [00:00<00:00, 2376.38it/s]\u001b[A\n",
      " 50%|█████     | 1/2 [00:00<00:00,  3.02it/s]\n",
      "  0%|          | 0/782 [00:00<?, ?it/s]\u001b[A\n",
      " 31%|███       | 240/782 [00:00<00:00, 2390.54it/s]\u001b[A\n",
      " 59%|█████▉    | 465/782 [00:00<00:00, 2345.11it/s]\u001b[A\n",
      "100%|██████████| 782/782 [00:00<00:00, 2260.64it/s]\u001b[A\n",
      "100%|██████████| 2/2 [00:00<00:00,  2.94it/s]\n"
     ]
    },
    {
     "data": {
      "application/javascript": [
       "\n",
       "            setTimeout(function() {\n",
       "                var nbb_cell_id = 23;\n",
       "                var nbb_unformatted_code = \"def fit():\\n    for epoch in trange(epochs):\\n        for i in trange((n - 1) // bs + 1):\\n            start_i = i * bs\\n            end_i = start_i + bs\\n            xb = X_train[start_i:end_i]\\n            yb = Y_train[start_i:end_i]\\n            pred = model(xb)\\n            loss = loss_func(pred, yb)\\n\\n            loss.backward()\\n            with torch.no_grad():\\n                for p in model.parameters():\\n                    p -= p.grad * lr\\n                model.zero_grad()\\n\\n\\nfit()\";\n",
       "                var nbb_formatted_code = \"def fit():\\n    for epoch in trange(epochs):\\n        for i in trange((n - 1) // bs + 1):\\n            start_i = i * bs\\n            end_i = start_i + bs\\n            xb = X_train[start_i:end_i]\\n            yb = Y_train[start_i:end_i]\\n            pred = model(xb)\\n            loss = loss_func(pred, yb)\\n\\n            loss.backward()\\n            with torch.no_grad():\\n                for p in model.parameters():\\n                    p -= p.grad * lr\\n                model.zero_grad()\\n\\n\\nfit()\";\n",
       "                var nbb_cells = Jupyter.notebook.get_cells();\n",
       "                for (var i = 0; i < nbb_cells.length; ++i) {\n",
       "                    if (nbb_cells[i].input_prompt_number == nbb_cell_id) {\n",
       "                        if (nbb_cells[i].get_text() == nbb_unformatted_code) {\n",
       "                             nbb_cells[i].set_text(nbb_formatted_code);\n",
       "                        }\n",
       "                        break;\n",
       "                    }\n",
       "                }\n",
       "            }, 500);\n",
       "            "
      ],
      "text/plain": [
       "<IPython.core.display.Javascript object>"
      ]
     },
     "metadata": {},
     "output_type": "display_data"
    }
   ],
   "source": [
    "def fit():\n",
    "    for epoch in trange(epochs):\n",
    "        for i in trange((n - 1) // bs + 1):\n",
    "            start_i = i * bs\n",
    "            end_i = start_i + bs\n",
    "            xb = X_train[start_i:end_i]\n",
    "            yb = Y_train[start_i:end_i]\n",
    "            pred = model(xb)\n",
    "            loss = loss_func(pred, yb)\n",
    "\n",
    "            loss.backward()\n",
    "            with torch.no_grad():\n",
    "                for p in model.parameters():\n",
    "                    p -= p.grad * lr\n",
    "                model.zero_grad()\n",
    "\n",
    "\n",
    "fit()"
   ]
  },
  {
   "cell_type": "code",
   "execution_count": 24,
   "id": "0933c1f7",
   "metadata": {},
   "outputs": [
    {
     "name": "stdout",
     "output_type": "stream",
     "text": [
      "tensor(-3578.5322, grad_fn=<NegBackward>)\n"
     ]
    },
    {
     "data": {
      "application/javascript": [
       "\n",
       "            setTimeout(function() {\n",
       "                var nbb_cell_id = 24;\n",
       "                var nbb_unformatted_code = \"print(loss_func(model(xb), yb))\";\n",
       "                var nbb_formatted_code = \"print(loss_func(model(xb), yb))\";\n",
       "                var nbb_cells = Jupyter.notebook.get_cells();\n",
       "                for (var i = 0; i < nbb_cells.length; ++i) {\n",
       "                    if (nbb_cells[i].input_prompt_number == nbb_cell_id) {\n",
       "                        if (nbb_cells[i].get_text() == nbb_unformatted_code) {\n",
       "                             nbb_cells[i].set_text(nbb_formatted_code);\n",
       "                        }\n",
       "                        break;\n",
       "                    }\n",
       "                }\n",
       "            }, 500);\n",
       "            "
      ],
      "text/plain": [
       "<IPython.core.display.Javascript object>"
      ]
     },
     "metadata": {},
     "output_type": "display_data"
    }
   ],
   "source": [
    "print(loss_func(model(xb), yb))"
   ]
  },
  {
   "cell_type": "markdown",
   "id": "5a653c57",
   "metadata": {},
   "source": [
    "# Refactor 2"
   ]
  },
  {
   "cell_type": "code",
   "execution_count": 25,
   "id": "828f9b41",
   "metadata": {},
   "outputs": [
    {
     "data": {
      "application/javascript": [
       "\n",
       "            setTimeout(function() {\n",
       "                var nbb_cell_id = 25;\n",
       "                var nbb_unformatted_code = \"class Mnist_Logistic(nn.Module):\\n    def __init__(self):\\n        super().__init__()\\n        self.l1 = nn.Linear(784, 128)\\n        self.l2 = nn.Linear(128, 10)\\n\\n    def forward(self, xb):\\n        xb = self.l1(xb)\\n        xb = self.l2(xb)\\n        return xb\";\n",
       "                var nbb_formatted_code = \"class Mnist_Logistic(nn.Module):\\n    def __init__(self):\\n        super().__init__()\\n        self.l1 = nn.Linear(784, 128)\\n        self.l2 = nn.Linear(128, 10)\\n\\n    def forward(self, xb):\\n        xb = self.l1(xb)\\n        xb = self.l2(xb)\\n        return xb\";\n",
       "                var nbb_cells = Jupyter.notebook.get_cells();\n",
       "                for (var i = 0; i < nbb_cells.length; ++i) {\n",
       "                    if (nbb_cells[i].input_prompt_number == nbb_cell_id) {\n",
       "                        if (nbb_cells[i].get_text() == nbb_unformatted_code) {\n",
       "                             nbb_cells[i].set_text(nbb_formatted_code);\n",
       "                        }\n",
       "                        break;\n",
       "                    }\n",
       "                }\n",
       "            }, 500);\n",
       "            "
      ],
      "text/plain": [
       "<IPython.core.display.Javascript object>"
      ]
     },
     "metadata": {},
     "output_type": "display_data"
    }
   ],
   "source": [
    "class Mnist_Logistic(nn.Module):\n",
    "    def __init__(self):\n",
    "        super().__init__()\n",
    "        self.l1 = nn.Linear(784, 128)\n",
    "        self.l2 = nn.Linear(128, 10)\n",
    "\n",
    "    def forward(self, xb):\n",
    "        xb = self.l1(xb)\n",
    "        xb = self.l2(xb)\n",
    "        return xb"
   ]
  },
  {
   "cell_type": "code",
   "execution_count": 26,
   "id": "46a7f616",
   "metadata": {},
   "outputs": [
    {
     "data": {
      "application/javascript": [
       "\n",
       "            setTimeout(function() {\n",
       "                var nbb_cell_id = 26;\n",
       "                var nbb_unformatted_code = \"# Hyper\\ndevice = torch.device(\\\"cuda:1\\\")\\nmodel = Mnist_Logistic().to(device)\\nEPOCHS = 20\\nLR = 0.001\\nBS = 128\\nloss_function = nn.CrossEntropyLoss()\\noptimizer = optim.SGD(model.parameters(), lr=LR)\\nlosses, accuracies, = [], []\\ntrain_ds = TensorDataset(X_train.to(device), Y_train.to(device))\\ntrain_dl = DataLoader(train_ds, batch_size=BS, shuffle=True)\\ntest_ds = TensorDataset(X_test.to(device), Y_test.to(device))\\ntest_dl = DataLoader(test_ds, batch_size=BS * 2)\";\n",
       "                var nbb_formatted_code = \"# Hyper\\ndevice = torch.device(\\\"cuda:1\\\")\\nmodel = Mnist_Logistic().to(device)\\nEPOCHS = 20\\nLR = 0.001\\nBS = 128\\nloss_function = nn.CrossEntropyLoss()\\noptimizer = optim.SGD(model.parameters(), lr=LR)\\nlosses, accuracies, = [], []\\ntrain_ds = TensorDataset(X_train.to(device), Y_train.to(device))\\ntrain_dl = DataLoader(train_ds, batch_size=BS, shuffle=True)\\ntest_ds = TensorDataset(X_test.to(device), Y_test.to(device))\\ntest_dl = DataLoader(test_ds, batch_size=BS * 2)\";\n",
       "                var nbb_cells = Jupyter.notebook.get_cells();\n",
       "                for (var i = 0; i < nbb_cells.length; ++i) {\n",
       "                    if (nbb_cells[i].input_prompt_number == nbb_cell_id) {\n",
       "                        if (nbb_cells[i].get_text() == nbb_unformatted_code) {\n",
       "                             nbb_cells[i].set_text(nbb_formatted_code);\n",
       "                        }\n",
       "                        break;\n",
       "                    }\n",
       "                }\n",
       "            }, 500);\n",
       "            "
      ],
      "text/plain": [
       "<IPython.core.display.Javascript object>"
      ]
     },
     "metadata": {},
     "output_type": "display_data"
    }
   ],
   "source": [
    "# Hyper\n",
    "device = torch.device(\"cuda:1\")\n",
    "model = Mnist_Logistic().to(device)\n",
    "EPOCHS = 20\n",
    "LR = 0.001\n",
    "BS = 128\n",
    "loss_function = nn.CrossEntropyLoss()\n",
    "optimizer = optim.SGD(model.parameters(), lr=LR)\n",
    "losses, accuracies, = [], []\n",
    "train_ds = TensorDataset(X_train.to(device), Y_train.to(device))\n",
    "train_dl = DataLoader(train_ds, batch_size=BS, shuffle=True)\n",
    "test_ds = TensorDataset(X_test.to(device), Y_test.to(device))\n",
    "test_dl = DataLoader(test_ds, batch_size=BS * 2)"
   ]
  },
  {
   "cell_type": "code",
   "execution_count": 27,
   "id": "a2cb4a9b",
   "metadata": {},
   "outputs": [
    {
     "name": "stderr",
     "output_type": "stream",
     "text": [
      "loss 0.61 accuracy 0.89: 100%|██████████| 20/20 [00:15<00:00,  1.29it/s]\n"
     ]
    },
    {
     "data": {
      "application/javascript": [
       "\n",
       "            setTimeout(function() {\n",
       "                var nbb_cell_id = 27;\n",
       "                var nbb_unformatted_code = \"# Loop\\nfor epoch in (t := trange(EPOCHS)):\\n    for xb, yb in train_dl:\\n        \\n        optimizer.zero_grad()\\n        pred = model(xb)\\n        cat = torch.argmax(pred, dim=1)\\n        acc = (cat == yb).float().mean()\\n        loss = loss_function(pred, yb)\\n        loss.backward()\\n        optimizer.step()\\n        \\n        loss, acc = (loss.item(), acc.item())\\n        losses.append(loss)\\n        accuracies.append(acc)\\n        \\n        t.set_description(\\n        \\\"loss %.2f accuracy %.2f\\\"\\n        % (loss, acc)\\n        )\\n        \";\n",
       "                var nbb_formatted_code = \"# Loop\\nfor epoch in (t := trange(EPOCHS)) :\\n    for xb, yb in train_dl:\\n\\n        optimizer.zero_grad()\\n        pred = model(xb)\\n        cat = torch.argmax(pred, dim=1)\\n        acc = (cat == yb).float().mean()\\n        loss = loss_function(pred, yb)\\n        loss.backward()\\n        optimizer.step()\\n\\n        loss, acc = (loss.item(), acc.item())\\n        losses.append(loss)\\n        accuracies.append(acc)\\n\\n        t.set_description(\\\"loss %.2f accuracy %.2f\\\" % (loss, acc))\";\n",
       "                var nbb_cells = Jupyter.notebook.get_cells();\n",
       "                for (var i = 0; i < nbb_cells.length; ++i) {\n",
       "                    if (nbb_cells[i].input_prompt_number == nbb_cell_id) {\n",
       "                        if (nbb_cells[i].get_text() == nbb_unformatted_code) {\n",
       "                             nbb_cells[i].set_text(nbb_formatted_code);\n",
       "                        }\n",
       "                        break;\n",
       "                    }\n",
       "                }\n",
       "            }, 500);\n",
       "            "
      ],
      "text/plain": [
       "<IPython.core.display.Javascript object>"
      ]
     },
     "metadata": {},
     "output_type": "display_data"
    }
   ],
   "source": [
    "# Loop\n",
    "for epoch in (t := trange(EPOCHS)):\n",
    "    for xb, yb in train_dl:\n",
    "        \n",
    "        optimizer.zero_grad()\n",
    "        pred = model(xb)\n",
    "        cat = torch.argmax(pred, dim=1)\n",
    "        acc = (cat == yb).float().mean()\n",
    "        loss = loss_function(pred, yb)\n",
    "        loss.backward()\n",
    "        optimizer.step()\n",
    "        \n",
    "        loss, acc = (loss.item(), acc.item())\n",
    "        losses.append(loss)\n",
    "        accuracies.append(acc)\n",
    "        \n",
    "        t.set_description(\n",
    "        \"loss %.2f accuracy %.2f\"\n",
    "        % (loss, acc)\n",
    "        )\n",
    "        \n"
   ]
  },
  {
   "cell_type": "code",
   "execution_count": 28,
   "id": "2a02ba90",
   "metadata": {
    "scrolled": true
   },
   "outputs": [
    {
     "data": {
      "text/plain": [
       "[<matplotlib.lines.Line2D at 0x7fb77d006400>]"
      ]
     },
     "execution_count": 28,
     "metadata": {},
     "output_type": "execute_result"
    },
    {
     "data": {
      "image/png": "[encoded data removed]",
      "text/plain": [
       "<Figure size 432x288 with 1 Axes>"
      ]
     },
     "metadata": {
      "needs_background": "light"
     },
     "output_type": "display_data"
    },
    {
     "data": {
      "application/javascript": [
       "\n",
       "            setTimeout(function() {\n",
       "                var nbb_cell_id = 28;\n",
       "                var nbb_unformatted_code = \"plt.ylim(-0.1, 1.2)\\nplot(losses)\\nplot(accuracies)\";\n",
       "                var nbb_formatted_code = \"plt.ylim(-0.1, 1.2)\\nplot(losses)\\nplot(accuracies)\";\n",
       "                var nbb_cells = Jupyter.notebook.get_cells();\n",
       "                for (var i = 0; i < nbb_cells.length; ++i) {\n",
       "                    if (nbb_cells[i].input_prompt_number == nbb_cell_id) {\n",
       "                        if (nbb_cells[i].get_text() == nbb_unformatted_code) {\n",
       "                             nbb_cells[i].set_text(nbb_formatted_code);\n",
       "                        }\n",
       "                        break;\n",
       "                    }\n",
       "                }\n",
       "            }, 500);\n",
       "            "
      ],
      "text/plain": [
       "<IPython.core.display.Javascript object>"
      ]
     },
     "metadata": {},
     "output_type": "display_data"
    }
   ],
   "source": [
    "plt.ylim(-0.1, 1.2)\n",
    "plot(losses)\n",
    "plot(accuracies)"
   ]
  },
  {
   "cell_type": "code",
   "execution_count": 29,
   "id": "cc19c2bb",
   "metadata": {
    "scrolled": true
   },
   "outputs": [
    {
     "data": {
      "text/plain": [
       "0.8669"
      ]
     },
     "execution_count": 29,
     "metadata": {},
     "output_type": "execute_result"
    },
    {
     "data": {
      "application/javascript": [
       "\n",
       "            setTimeout(function() {\n",
       "                var nbb_cell_id = 29;\n",
       "                var nbb_unformatted_code = \"preds = model.to(\\\"cpu\\\")(X_test).float()\\nY_test_preds = torch.argmax(preds, dim=1)\\n(Y_test == Y_test_preds).numpy().mean()\";\n",
       "                var nbb_formatted_code = \"preds = model.to(\\\"cpu\\\")(X_test).float()\\nY_test_preds = torch.argmax(preds, dim=1)\\n(Y_test == Y_test_preds).numpy().mean()\";\n",
       "                var nbb_cells = Jupyter.notebook.get_cells();\n",
       "                for (var i = 0; i < nbb_cells.length; ++i) {\n",
       "                    if (nbb_cells[i].input_prompt_number == nbb_cell_id) {\n",
       "                        if (nbb_cells[i].get_text() == nbb_unformatted_code) {\n",
       "                             nbb_cells[i].set_text(nbb_formatted_code);\n",
       "                        }\n",
       "                        break;\n",
       "                    }\n",
       "                }\n",
       "            }, 500);\n",
       "            "
      ],
      "text/plain": [
       "<IPython.core.display.Javascript object>"
      ]
     },
     "metadata": {},
     "output_type": "display_data"
    }
   ],
   "source": [
    "preds = model.to(\"cpu\")(X_test).float()\n",
    "Y_test_preds = torch.argmax(preds, dim=1)\n",
    "(Y_test == Y_test_preds).numpy().mean()"
   ]
  },
  {
   "cell_type": "markdown",
   "id": "c3e76cb6",
   "metadata": {},
   "source": [
    "# CNN"
   ]
  },
  {
   "cell_type": "code",
   "execution_count": 99,
   "id": "ec1b1ecc",
   "metadata": {},
   "outputs": [
    {
     "data": {
      "application/javascript": [
       "\n",
       "            setTimeout(function() {\n",
       "                var nbb_cell_id = 99;\n",
       "                var nbb_unformatted_code = \"class Mnist_Logistic(nn.Module):\\n    def __init__(self):\\n        super().__init__()\\n        self.conv1 = nn.Conv2d(1, 32, kernel_size=3, stride=2, padding=1)\\n        self.conv2 = nn.Conv2d(32, 16, kernel_size=3, stride=2, padding=1)\\n        self.conv3 = nn.Conv2d(16, 10, kernel_size=3, stride=2, padding=1)\\n\\n    def forward(self, xb):\\n        xb = xb.view(-1, 1, 28, 28)\\n        xb = F.relu(self.conv1(xb))\\n        xb = F.relu(self.conv2(xb))\\n        xb = F.relu(self.conv3(xb))\\n        xb = F.max_pool2d(xb, 4)\\n        return xb.view(-1, xb.size(1))\";\n",
       "                var nbb_formatted_code = \"class Mnist_Logistic(nn.Module):\\n    def __init__(self):\\n        super().__init__()\\n        self.conv1 = nn.Conv2d(1, 32, kernel_size=3, stride=2, padding=1)\\n        self.conv2 = nn.Conv2d(32, 16, kernel_size=3, stride=2, padding=1)\\n        self.conv3 = nn.Conv2d(16, 10, kernel_size=3, stride=2, padding=1)\\n\\n    def forward(self, xb):\\n        xb = xb.view(-1, 1, 28, 28)\\n        xb = F.relu(self.conv1(xb))\\n        xb = F.relu(self.conv2(xb))\\n        xb = F.relu(self.conv3(xb))\\n        xb = F.max_pool2d(xb, 4)\\n        return xb.view(-1, xb.size(1))\";\n",
       "                var nbb_cells = Jupyter.notebook.get_cells();\n",
       "                for (var i = 0; i < nbb_cells.length; ++i) {\n",
       "                    if (nbb_cells[i].input_prompt_number == nbb_cell_id) {\n",
       "                        if (nbb_cells[i].get_text() == nbb_unformatted_code) {\n",
       "                             nbb_cells[i].set_text(nbb_formatted_code);\n",
       "                        }\n",
       "                        break;\n",
       "                    }\n",
       "                }\n",
       "            }, 500);\n",
       "            "
      ],
      "text/plain": [
       "<IPython.core.display.Javascript object>"
      ]
     },
     "metadata": {},
     "output_type": "display_data"
    }
   ],
   "source": [
    "class Mnist_Logistic(nn.Module):\n",
    "    def __init__(self):\n",
    "        super().__init__()\n",
    "        self.conv1 = nn.Conv2d(1, 32, kernel_size=3, stride=2, padding=1)\n",
    "        self.conv2 = nn.Conv2d(32, 16, kernel_size=3, stride=2, padding=1)\n",
    "        self.conv3 = nn.Conv2d(16, 10, kernel_size=3, stride=2, padding=1)\n",
    "\n",
    "    def forward(self, xb):\n",
    "        xb = xb.view(-1, 1, 28, 28)\n",
    "        xb = F.relu(self.conv1(xb))\n",
    "        xb = F.relu(self.conv2(xb))\n",
    "        xb = F.relu(self.conv3(xb))\n",
    "        xb = F.max_pool2d(xb, 4)\n",
    "        return xb.view(-1, xb.size(1))"
   ]
  },
  {
   "cell_type": "code",
   "execution_count": 100,
   "id": "23bf7d2d",
   "metadata": {},
   "outputs": [
    {
     "data": {
      "application/javascript": [
       "\n",
       "            setTimeout(function() {\n",
       "                var nbb_cell_id = 100;\n",
       "                var nbb_unformatted_code = \"# Hyper\\ndevice = torch.device(\\\"cuda:1\\\")\\nmodel = Mnist_Logistic().to(device)\\nEPOCHS = 40\\nLR = 0.1\\nBS = 512\\nloss_function = nn.CrossEntropyLoss()\\noptimizer = optim.SGD(model.parameters(), lr=LR, momentum=0.9)\\nlosses, accuracies, = [], []\\ntrain_ds = TensorDataset(X_train.to(device), Y_train.to(device))\\ntrain_dl = DataLoader(train_ds, batch_size=BS, shuffle=True)\\ntest_ds = TensorDataset(X_test.to(device), Y_test.to(device))\\ntest_dl = DataLoader(test_ds, batch_size=BS * 2)\";\n",
       "                var nbb_formatted_code = \"# Hyper\\ndevice = torch.device(\\\"cuda:1\\\")\\nmodel = Mnist_Logistic().to(device)\\nEPOCHS = 40\\nLR = 0.1\\nBS = 512\\nloss_function = nn.CrossEntropyLoss()\\noptimizer = optim.SGD(model.parameters(), lr=LR, momentum=0.9)\\nlosses, accuracies, = [], []\\ntrain_ds = TensorDataset(X_train.to(device), Y_train.to(device))\\ntrain_dl = DataLoader(train_ds, batch_size=BS, shuffle=True)\\ntest_ds = TensorDataset(X_test.to(device), Y_test.to(device))\\ntest_dl = DataLoader(test_ds, batch_size=BS * 2)\";\n",
       "                var nbb_cells = Jupyter.notebook.get_cells();\n",
       "                for (var i = 0; i < nbb_cells.length; ++i) {\n",
       "                    if (nbb_cells[i].input_prompt_number == nbb_cell_id) {\n",
       "                        if (nbb_cells[i].get_text() == nbb_unformatted_code) {\n",
       "                             nbb_cells[i].set_text(nbb_formatted_code);\n",
       "                        }\n",
       "                        break;\n",
       "                    }\n",
       "                }\n",
       "            }, 500);\n",
       "            "
      ],
      "text/plain": [
       "<IPython.core.display.Javascript object>"
      ]
     },
     "metadata": {},
     "output_type": "display_data"
    }
   ],
   "source": [
    "# Hyper\n",
    "device = torch.device(\"cuda:1\")\n",
    "model = Mnist_Logistic().to(device)\n",
    "EPOCHS = 40\n",
    "LR = 0.1\n",
    "BS = 512\n",
    "loss_function = nn.CrossEntropyLoss()\n",
    "optimizer = optim.SGD(model.parameters(), lr=LR, momentum=0.9)\n",
    "losses, accuracies, = [], []\n",
    "train_ds = TensorDataset(X_train.to(device), Y_train.to(device))\n",
    "train_dl = DataLoader(train_ds, batch_size=BS, shuffle=True)\n",
    "test_ds = TensorDataset(X_test.to(device), Y_test.to(device))\n",
    "test_dl = DataLoader(test_ds, batch_size=BS * 2)"
   ]
  },
  {
   "cell_type": "code",
   "execution_count": 101,
   "id": "511d40de",
   "metadata": {},
   "outputs": [
    {
     "name": "stderr",
     "output_type": "stream",
     "text": [
      "loss 0.08 accuracy 0.98: 100%|██████████| 40/40 [00:22<00:00,  1.80it/s]\n"
     ]
    },
    {
     "data": {
      "application/javascript": [
       "\n",
       "            setTimeout(function() {\n",
       "                var nbb_cell_id = 101;\n",
       "                var nbb_unformatted_code = \"# Loop\\nfor epoch in (t := trange(EPOCHS)):\\n    for xb, yb in train_dl:\\n        \\n        optimizer.zero_grad()\\n        pred = model(xb)\\n        cat = torch.argmax(pred, dim=1)\\n        acc = (cat == yb).float().mean()\\n        loss = loss_function(pred, yb)\\n        loss.backward()\\n        optimizer.step()\\n        \\n        loss, acc = (loss.item(), acc.item())\\n        losses.append(loss)\\n        accuracies.append(acc)\\n        \\n        t.set_description(\\n        \\\"loss %.2f accuracy %.2f\\\"\\n        % (loss, acc)\\n        )\\n        \";\n",
       "                var nbb_formatted_code = \"# Loop\\nfor epoch in (t := trange(EPOCHS)) :\\n    for xb, yb in train_dl:\\n\\n        optimizer.zero_grad()\\n        pred = model(xb)\\n        cat = torch.argmax(pred, dim=1)\\n        acc = (cat == yb).float().mean()\\n        loss = loss_function(pred, yb)\\n        loss.backward()\\n        optimizer.step()\\n\\n        loss, acc = (loss.item(), acc.item())\\n        losses.append(loss)\\n        accuracies.append(acc)\\n\\n        t.set_description(\\\"loss %.2f accuracy %.2f\\\" % (loss, acc))\";\n",
       "                var nbb_cells = Jupyter.notebook.get_cells();\n",
       "                for (var i = 0; i < nbb_cells.length; ++i) {\n",
       "                    if (nbb_cells[i].input_prompt_number == nbb_cell_id) {\n",
       "                        if (nbb_cells[i].get_text() == nbb_unformatted_code) {\n",
       "                             nbb_cells[i].set_text(nbb_formatted_code);\n",
       "                        }\n",
       "                        break;\n",
       "                    }\n",
       "                }\n",
       "            }, 500);\n",
       "            "
      ],
      "text/plain": [
       "<IPython.core.display.Javascript object>"
      ]
     },
     "metadata": {},
     "output_type": "display_data"
    }
   ],
   "source": [
    "# Loop\n",
    "for epoch in (t := trange(EPOCHS)):\n",
    "    for xb, yb in train_dl:\n",
    "        \n",
    "        optimizer.zero_grad()\n",
    "        pred = model(xb)\n",
    "        cat = torch.argmax(pred, dim=1)\n",
    "        acc = (cat == yb).float().mean()\n",
    "        loss = loss_function(pred, yb)\n",
    "        loss.backward()\n",
    "        optimizer.step()\n",
    "        \n",
    "        loss, acc = (loss.item(), acc.item())\n",
    "        losses.append(loss)\n",
    "        accuracies.append(acc)\n",
    "        \n",
    "        t.set_description(\n",
    "        \"loss %.2f accuracy %.2f\"\n",
    "        % (loss, acc)\n",
    "        )\n",
    "        \n"
   ]
  },
  {
   "cell_type": "code",
   "execution_count": 104,
   "id": "75a14027",
   "metadata": {},
   "outputs": [
    {
     "data": {
      "text/plain": [
       "[<matplotlib.lines.Line2D at 0x7fb70068e5e0>]"
      ]
     },
     "execution_count": 104,
     "metadata": {},
     "output_type": "execute_result"
    },
    {
     "data": {
      "image/png": "[encoded data removed]",
      "text/plain": [
       "<Figure size 432x288 with 1 Axes>"
      ]
     },
     "metadata": {
      "needs_background": "light"
     },
     "output_type": "display_data"
    },
    {
     "data": {
      "application/javascript": [
       "\n",
       "            setTimeout(function() {\n",
       "                var nbb_cell_id = 104;\n",
       "                var nbb_unformatted_code = \"plt.ylim(-0.1, 1.2)\\nplot(losses)\\nplot(accuracies)\";\n",
       "                var nbb_formatted_code = \"plt.ylim(-0.1, 1.2)\\nplot(losses)\\nplot(accuracies)\";\n",
       "                var nbb_cells = Jupyter.notebook.get_cells();\n",
       "                for (var i = 0; i < nbb_cells.length; ++i) {\n",
       "                    if (nbb_cells[i].input_prompt_number == nbb_cell_id) {\n",
       "                        if (nbb_cells[i].get_text() == nbb_unformatted_code) {\n",
       "                             nbb_cells[i].set_text(nbb_formatted_code);\n",
       "                        }\n",
       "                        break;\n",
       "                    }\n",
       "                }\n",
       "            }, 500);\n",
       "            "
      ],
      "text/plain": [
       "<IPython.core.display.Javascript object>"
      ]
     },
     "metadata": {},
     "output_type": "display_data"
    }
   ],
   "source": [
    "plt.ylim(-0.1, 1.2)\n",
    "plot(losses)\n",
    "plot(accuracies)"
   ]
  },
  {
   "cell_type": "code",
   "execution_count": 105,
   "id": "9f2d910d",
   "metadata": {},
   "outputs": [
    {
     "data": {
      "text/plain": [
       "0.9537"
      ]
     },
     "execution_count": 105,
     "metadata": {},
     "output_type": "execute_result"
    },
    {
     "data": {
      "application/javascript": [
       "\n",
       "            setTimeout(function() {\n",
       "                var nbb_cell_id = 105;\n",
       "                var nbb_unformatted_code = \"preds = model.to(\\\"cpu\\\")(X_test).float()\\nY_test_preds = torch.argmax(preds, dim=1)\\n(Y_test == Y_test_preds).numpy().mean()\";\n",
       "                var nbb_formatted_code = \"preds = model.to(\\\"cpu\\\")(X_test).float()\\nY_test_preds = torch.argmax(preds, dim=1)\\n(Y_test == Y_test_preds).numpy().mean()\";\n",
       "                var nbb_cells = Jupyter.notebook.get_cells();\n",
       "                for (var i = 0; i < nbb_cells.length; ++i) {\n",
       "                    if (nbb_cells[i].input_prompt_number == nbb_cell_id) {\n",
       "                        if (nbb_cells[i].get_text() == nbb_unformatted_code) {\n",
       "                             nbb_cells[i].set_text(nbb_formatted_code);\n",
       "                        }\n",
       "                        break;\n",
       "                    }\n",
       "                }\n",
       "            }, 500);\n",
       "            "
      ],
      "text/plain": [
       "<IPython.core.display.Javascript object>"
      ]
     },
     "metadata": {},
     "output_type": "display_data"
    }
   ],
   "source": [
    "preds = model.to(\"cpu\")(X_test).float()\n",
    "Y_test_preds = torch.argmax(preds, dim=1)\n",
    "(Y_test == Y_test_preds).numpy().mean()"
   ]
  },
  {
   "cell_type": "code",
   "execution_count": null,
   "id": "52c96a8e",
   "metadata": {},
   "outputs": [],
   "source": []
  }
 ],
 "metadata": {
  "kernelspec": {
   "display_name": "dl",
   "language": "python",
   "name": "dl"
  },
  "language_info": {
   "codemirror_mode": {
    "name": "ipython",
    "version": 3
   },
   "file_extension": ".py",
   "mimetype": "text/x-python",
   "name": "python",
   "nbconvert_exporter": "python",
   "pygments_lexer": "ipython3",
   "version": "3.8.5"
  }
 },
 "nbformat": 4,
 "nbformat_minor": 5
}
