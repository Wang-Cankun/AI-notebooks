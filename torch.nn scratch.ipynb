{
 "cells": [
  {
   "cell_type": "code",
   "execution_count": 1,
   "id": "5bbe6f30",
   "metadata": {},
   "outputs": [
    {
     "name": "stdout",
     "output_type": "stream",
     "text": [
      "Populating the interactive namespace from numpy and matplotlib\n"
     ]
    },
    {
     "data": {
      "application/javascript": [
       "\n",
       "            setTimeout(function() {\n",
       "                var nbb_cell_id = 1;\n",
       "                var nbb_unformatted_code = \"%pylab inline\\n%load_ext nb_black\\nimport numpy as np\\nimport requests, gzip, os, hashlib, numpy\\nimport torch\\nimport torch.nn as nn\\nimport torch.nn.functional as F\\nfrom tqdm import trange\\nfrom torchvision import datasets\\nfrom torchvision.transforms import ToTensor\\nfrom tqdm import trange\\nfrom torch import optim\\nfrom torch.utils.data import TensorDataset\\nfrom torch.utils.data import DataLoader\";\n",
       "                var nbb_formatted_code = \"%pylab inline\\n%load_ext nb_black\\nimport numpy as np\\nimport requests, gzip, os, hashlib, numpy\\nimport torch\\nimport torch.nn as nn\\nimport torch.nn.functional as F\\nfrom tqdm import trange\\nfrom torchvision import datasets\\nfrom torchvision.transforms import ToTensor\\nfrom tqdm import trange\\nfrom torch import optim\\nfrom torch.utils.data import TensorDataset\\nfrom torch.utils.data import DataLoader\";\n",
       "                var nbb_cells = Jupyter.notebook.get_cells();\n",
       "                for (var i = 0; i < nbb_cells.length; ++i) {\n",
       "                    if (nbb_cells[i].input_prompt_number == nbb_cell_id) {\n",
       "                        if (nbb_cells[i].get_text() == nbb_unformatted_code) {\n",
       "                             nbb_cells[i].set_text(nbb_formatted_code);\n",
       "                        }\n",
       "                        break;\n",
       "                    }\n",
       "                }\n",
       "            }, 500);\n",
       "            "
      ],
      "text/plain": [
       "<IPython.core.display.Javascript object>"
      ]
     },
     "metadata": {},
     "output_type": "display_data"
    }
   ],
   "source": [
    "%pylab inline\n",
    "%load_ext nb_black\n",
    "import numpy as np\n",
    "import requests, gzip, os, hashlib, numpy\n",
    "import torch\n",
    "import torch.nn as nn\n",
    "import torch.nn.functional as F\n",
    "from tqdm import trange\n",
    "from torchvision import datasets\n",
    "from torchvision.transforms import ToTensor\n",
    "from tqdm import trange\n",
    "from torch import optim\n",
    "from torch.utils.data import TensorDataset\n",
    "from torch.utils.data import DataLoader"
   ]
  },
  {
   "cell_type": "markdown",
   "id": "b4d18177",
   "metadata": {},
   "source": [
    "# Load"
   ]
  },
  {
   "cell_type": "code",
   "execution_count": 2,
   "id": "c3990046",
   "metadata": {},
   "outputs": [
    {
     "data": {
      "application/javascript": [
       "\n",
       "            setTimeout(function() {\n",
       "                var nbb_cell_id = 2;\n",
       "                var nbb_unformatted_code = \"def fetch(url):\\n\\n    fp = os.path.join(\\\"/home/wan268/tmp/\\\", hashlib.md5(url.encode(\\\"utf-8\\\")).hexdigest())\\n    if os.path.isfile(fp):\\n        with open(fp, \\\"rb\\\") as f:\\n            dat = f.read()\\n    else:\\n        with open(fp, \\\"wb\\\") as f:\\n            dat = requests.get(url).content\\n            f.write(dat)\\n    return numpy.frombuffer(gzip.decompress(dat), dtype=np.uint8).copy()\\n\\n\\nX_train = fetch(\\\"http://yann.lecun.com/exdb/mnist/train-images-idx3-ubyte.gz\\\")[\\n    0x10:\\n].reshape((-1, 28 * 28))\\nY_train = fetch(\\\"http://yann.lecun.com/exdb/mnist/train-labels-idx1-ubyte.gz\\\")[8:]\\nX_test = fetch(\\\"http://yann.lecun.com/exdb/mnist/t10k-images-idx3-ubyte.gz\\\")[\\n    0x10:\\n].reshape((-1, 28 * 28))\\nY_test = fetch(\\\"http://yann.lecun.com/exdb/mnist/t10k-labels-idx1-ubyte.gz\\\")[8:]\";\n",
       "                var nbb_formatted_code = \"def fetch(url):\\n\\n    fp = os.path.join(\\\"/home/wan268/tmp/\\\", hashlib.md5(url.encode(\\\"utf-8\\\")).hexdigest())\\n    if os.path.isfile(fp):\\n        with open(fp, \\\"rb\\\") as f:\\n            dat = f.read()\\n    else:\\n        with open(fp, \\\"wb\\\") as f:\\n            dat = requests.get(url).content\\n            f.write(dat)\\n    return numpy.frombuffer(gzip.decompress(dat), dtype=np.uint8).copy()\\n\\n\\nX_train = fetch(\\\"http://yann.lecun.com/exdb/mnist/train-images-idx3-ubyte.gz\\\")[\\n    0x10:\\n].reshape((-1, 28 * 28))\\nY_train = fetch(\\\"http://yann.lecun.com/exdb/mnist/train-labels-idx1-ubyte.gz\\\")[8:]\\nX_test = fetch(\\\"http://yann.lecun.com/exdb/mnist/t10k-images-idx3-ubyte.gz\\\")[\\n    0x10:\\n].reshape((-1, 28 * 28))\\nY_test = fetch(\\\"http://yann.lecun.com/exdb/mnist/t10k-labels-idx1-ubyte.gz\\\")[8:]\";\n",
       "                var nbb_cells = Jupyter.notebook.get_cells();\n",
       "                for (var i = 0; i < nbb_cells.length; ++i) {\n",
       "                    if (nbb_cells[i].input_prompt_number == nbb_cell_id) {\n",
       "                        if (nbb_cells[i].get_text() == nbb_unformatted_code) {\n",
       "                             nbb_cells[i].set_text(nbb_formatted_code);\n",
       "                        }\n",
       "                        break;\n",
       "                    }\n",
       "                }\n",
       "            }, 500);\n",
       "            "
      ],
      "text/plain": [
       "<IPython.core.display.Javascript object>"
      ]
     },
     "metadata": {},
     "output_type": "display_data"
    }
   ],
   "source": [
    "def fetch(url):\n",
    "\n",
    "    fp = os.path.join(\"/home/wan268/tmp/\", hashlib.md5(url.encode(\"utf-8\")).hexdigest())\n",
    "    if os.path.isfile(fp):\n",
    "        with open(fp, \"rb\") as f:\n",
    "            dat = f.read()\n",
    "    else:\n",
    "        with open(fp, \"wb\") as f:\n",
    "            dat = requests.get(url).content\n",
    "            f.write(dat)\n",
    "    return numpy.frombuffer(gzip.decompress(dat), dtype=np.uint8).copy()\n",
    "\n",
    "\n",
    "X_train = fetch(\"http://yann.lecun.com/exdb/mnist/train-images-idx3-ubyte.gz\")[\n",
    "    0x10:\n",
    "].reshape((-1, 28 * 28))\n",
    "Y_train = fetch(\"http://yann.lecun.com/exdb/mnist/train-labels-idx1-ubyte.gz\")[8:]\n",
    "X_test = fetch(\"http://yann.lecun.com/exdb/mnist/t10k-images-idx3-ubyte.gz\")[\n",
    "    0x10:\n",
    "].reshape((-1, 28 * 28))\n",
    "Y_test = fetch(\"http://yann.lecun.com/exdb/mnist/t10k-labels-idx1-ubyte.gz\")[8:]"
   ]
  },
  {
   "cell_type": "code",
   "execution_count": 3,
   "id": "74edee92",
   "metadata": {},
   "outputs": [
    {
     "name": "stdout",
     "output_type": "stream",
     "text": [
      "(60000, 784)\n"
     ]
    },
    {
     "data": {
      "image/png": "[encoded data removed]",
      "text/plain": [
       "<Figure size 432x288 with 1 Axes>"
      ]
     },
     "metadata": {
      "needs_background": "light"
     },
     "output_type": "display_data"
    },
    {
     "data": {
      "application/javascript": [
       "\n",
       "            setTimeout(function() {\n",
       "                var nbb_cell_id = 3;\n",
       "                var nbb_unformatted_code = \"from matplotlib import pyplot\\nimport numpy as np\\n\\npyplot.imshow(X_train[0].reshape((28, 28)), cmap=\\\"gray\\\")\\nprint(X_train.shape)\";\n",
       "                var nbb_formatted_code = \"from matplotlib import pyplot\\nimport numpy as np\\n\\npyplot.imshow(X_train[0].reshape((28, 28)), cmap=\\\"gray\\\")\\nprint(X_train.shape)\";\n",
       "                var nbb_cells = Jupyter.notebook.get_cells();\n",
       "                for (var i = 0; i < nbb_cells.length; ++i) {\n",
       "                    if (nbb_cells[i].input_prompt_number == nbb_cell_id) {\n",
       "                        if (nbb_cells[i].get_text() == nbb_unformatted_code) {\n",
       "                             nbb_cells[i].set_text(nbb_formatted_code);\n",
       "                        }\n",
       "                        break;\n",
       "                    }\n",
       "                }\n",
       "            }, 500);\n",
       "            "
      ],
      "text/plain": [
       "<IPython.core.display.Javascript object>"
      ]
     },
     "metadata": {},
     "output_type": "display_data"
    }
   ],
   "source": [
    "from matplotlib import pyplot\n",
    "import numpy as np\n",
    "\n",
    "pyplot.imshow(X_train[0].reshape((28, 28)), cmap=\"gray\")\n",
    "print(X_train.shape)"
   ]
  },
  {
   "cell_type": "code",
   "execution_count": 4,
   "id": "a37c0613",
   "metadata": {},
   "outputs": [
    {
     "data": {
      "application/javascript": [
       "\n",
       "            setTimeout(function() {\n",
       "                var nbb_cell_id = 4;\n",
       "                var nbb_unformatted_code = \"X_train = torch.from_numpy(X_train).float()\\nY_train = torch.from_numpy(Y_train).float()\\nX_test = torch.from_numpy(X_test).float()\\nY_test = torch.from_numpy(Y_test).float()\";\n",
       "                var nbb_formatted_code = \"X_train = torch.from_numpy(X_train).float()\\nY_train = torch.from_numpy(Y_train).float()\\nX_test = torch.from_numpy(X_test).float()\\nY_test = torch.from_numpy(Y_test).float()\";\n",
       "                var nbb_cells = Jupyter.notebook.get_cells();\n",
       "                for (var i = 0; i < nbb_cells.length; ++i) {\n",
       "                    if (nbb_cells[i].input_prompt_number == nbb_cell_id) {\n",
       "                        if (nbb_cells[i].get_text() == nbb_unformatted_code) {\n",
       "                             nbb_cells[i].set_text(nbb_formatted_code);\n",
       "                        }\n",
       "                        break;\n",
       "                    }\n",
       "                }\n",
       "            }, 500);\n",
       "            "
      ],
      "text/plain": [
       "<IPython.core.display.Javascript object>"
      ]
     },
     "metadata": {},
     "output_type": "display_data"
    }
   ],
   "source": [
    "X_train = torch.from_numpy(X_train).float()\n",
    "Y_train = torch.from_numpy(Y_train).float()\n",
    "X_test = torch.from_numpy(X_test).float()\n",
    "Y_test = torch.from_numpy(Y_test).float()"
   ]
  },
  {
   "cell_type": "code",
   "execution_count": 5,
   "id": "015441e2",
   "metadata": {},
   "outputs": [
    {
     "name": "stdout",
     "output_type": "stream",
     "text": [
      "tensor([[0., 0., 0.,  ..., 0., 0., 0.],\n",
      "        [0., 0., 0.,  ..., 0., 0., 0.],\n",
      "        [0., 0., 0.,  ..., 0., 0., 0.],\n",
      "        ...,\n",
      "        [0., 0., 0.,  ..., 0., 0., 0.],\n",
      "        [0., 0., 0.,  ..., 0., 0., 0.],\n",
      "        [0., 0., 0.,  ..., 0., 0., 0.]]) tensor([5., 0., 4.,  ..., 5., 6., 8.])\n",
      "torch.Size([60000, 784])\n",
      "tensor(0.) tensor(9.)\n"
     ]
    },
    {
     "data": {
      "application/javascript": [
       "\n",
       "            setTimeout(function() {\n",
       "                var nbb_cell_id = 5;\n",
       "                var nbb_unformatted_code = \"n, c = X_train.shape[0], X_train.shape[1:]\\nprint(X_train, Y_train)\\nprint(X_train.shape)\\nprint(Y_train.min(), Y_train.max())\";\n",
       "                var nbb_formatted_code = \"n, c = X_train.shape[0], X_train.shape[1:]\\nprint(X_train, Y_train)\\nprint(X_train.shape)\\nprint(Y_train.min(), Y_train.max())\";\n",
       "                var nbb_cells = Jupyter.notebook.get_cells();\n",
       "                for (var i = 0; i < nbb_cells.length; ++i) {\n",
       "                    if (nbb_cells[i].input_prompt_number == nbb_cell_id) {\n",
       "                        if (nbb_cells[i].get_text() == nbb_unformatted_code) {\n",
       "                             nbb_cells[i].set_text(nbb_formatted_code);\n",
       "                        }\n",
       "                        break;\n",
       "                    }\n",
       "                }\n",
       "            }, 500);\n",
       "            "
      ],
      "text/plain": [
       "<IPython.core.display.Javascript object>"
      ]
     },
     "metadata": {},
     "output_type": "display_data"
    }
   ],
   "source": [
    "n, c = X_train.shape[0], X_train.shape[1:]\n",
    "print(X_train, Y_train)\n",
    "print(X_train.shape)\n",
    "print(Y_train.min(), Y_train.max())"
   ]
  },
  {
   "cell_type": "markdown",
   "id": "1e0a9793",
   "metadata": {},
   "source": [
    "# Load v2"
   ]
  },
  {
   "cell_type": "code",
   "execution_count": 6,
   "id": "63a38248",
   "metadata": {},
   "outputs": [
    {
     "data": {
      "application/javascript": [
       "\n",
       "            setTimeout(function() {\n",
       "                var nbb_cell_id = 6;\n",
       "                var nbb_unformatted_code = \"from pathlib import Path\\nimport requests\\n\\nDATA_PATH = Path(\\\"data\\\")\\nPATH = DATA_PATH / \\\"mnist\\\"\\n\\nPATH.mkdir(parents=True, exist_ok=True)\\n\\nURL = \\\"https://github.com/pytorch/tutorials/raw/master/_static/\\\"\\nFILENAME = \\\"mnist.pkl.gz\\\"\\n\\nif not (PATH / FILENAME).exists():\\n    content = requests.get(URL + FILENAME).content\\n    (PATH / FILENAME).open(\\\"wb\\\").write(content)\";\n",
       "                var nbb_formatted_code = \"from pathlib import Path\\nimport requests\\n\\nDATA_PATH = Path(\\\"data\\\")\\nPATH = DATA_PATH / \\\"mnist\\\"\\n\\nPATH.mkdir(parents=True, exist_ok=True)\\n\\nURL = \\\"https://github.com/pytorch/tutorials/raw/master/_static/\\\"\\nFILENAME = \\\"mnist.pkl.gz\\\"\\n\\nif not (PATH / FILENAME).exists():\\n    content = requests.get(URL + FILENAME).content\\n    (PATH / FILENAME).open(\\\"wb\\\").write(content)\";\n",
       "                var nbb_cells = Jupyter.notebook.get_cells();\n",
       "                for (var i = 0; i < nbb_cells.length; ++i) {\n",
       "                    if (nbb_cells[i].input_prompt_number == nbb_cell_id) {\n",
       "                        if (nbb_cells[i].get_text() == nbb_unformatted_code) {\n",
       "                             nbb_cells[i].set_text(nbb_formatted_code);\n",
       "                        }\n",
       "                        break;\n",
       "                    }\n",
       "                }\n",
       "            }, 500);\n",
       "            "
      ],
      "text/plain": [
       "<IPython.core.display.Javascript object>"
      ]
     },
     "metadata": {},
     "output_type": "display_data"
    }
   ],
   "source": [
    "from pathlib import Path\n",
    "import requests\n",
    "\n",
    "DATA_PATH = Path(\"data\")\n",
    "PATH = DATA_PATH / \"mnist\"\n",
    "\n",
    "PATH.mkdir(parents=True, exist_ok=True)\n",
    "\n",
    "URL = \"https://github.com/pytorch/tutorials/raw/master/_static/\"\n",
    "FILENAME = \"mnist.pkl.gz\"\n",
    "\n",
    "if not (PATH / FILENAME).exists():\n",
    "    content = requests.get(URL + FILENAME).content\n",
    "    (PATH / FILENAME).open(\"wb\").write(content)"
   ]
  },
  {
   "cell_type": "code",
   "execution_count": 7,
   "id": "9b2d8372",
   "metadata": {},
   "outputs": [
    {
     "data": {
      "application/javascript": [
       "\n",
       "            setTimeout(function() {\n",
       "                var nbb_cell_id = 7;\n",
       "                var nbb_unformatted_code = \"import pickle\\nimport gzip\\n\\nwith gzip.open((PATH / FILENAME).as_posix(), \\\"rb\\\") as f:\\n    ((X_train, Y_train), (X_test, Y_test), _) = pickle.load(f, encoding=\\\"latin-1\\\")\";\n",
       "                var nbb_formatted_code = \"import pickle\\nimport gzip\\n\\nwith gzip.open((PATH / FILENAME).as_posix(), \\\"rb\\\") as f:\\n    ((X_train, Y_train), (X_test, Y_test), _) = pickle.load(f, encoding=\\\"latin-1\\\")\";\n",
       "                var nbb_cells = Jupyter.notebook.get_cells();\n",
       "                for (var i = 0; i < nbb_cells.length; ++i) {\n",
       "                    if (nbb_cells[i].input_prompt_number == nbb_cell_id) {\n",
       "                        if (nbb_cells[i].get_text() == nbb_unformatted_code) {\n",
       "                             nbb_cells[i].set_text(nbb_formatted_code);\n",
       "                        }\n",
       "                        break;\n",
       "                    }\n",
       "                }\n",
       "            }, 500);\n",
       "            "
      ],
      "text/plain": [
       "<IPython.core.display.Javascript object>"
      ]
     },
     "metadata": {},
     "output_type": "display_data"
    }
   ],
   "source": [
    "import pickle\n",
    "import gzip\n",
    "\n",
    "with gzip.open((PATH / FILENAME).as_posix(), \"rb\") as f:\n",
    "    ((X_train, Y_train), (X_test, Y_test), _) = pickle.load(f, encoding=\"latin-1\")"
   ]
  },
  {
   "cell_type": "code",
   "execution_count": 8,
   "id": "08df7895",
   "metadata": {},
   "outputs": [
    {
     "name": "stdout",
     "output_type": "stream",
     "text": [
      "(50000, 784)\n"
     ]
    },
    {
     "data": {
      "image/png": "[encoded data removed]",
      "text/plain": [
       "<Figure size 432x288 with 1 Axes>"
      ]
     },
     "metadata": {
      "needs_background": "light"
     },
     "output_type": "display_data"
    },
    {
     "data": {
      "application/javascript": [
       "\n",
       "            setTimeout(function() {\n",
       "                var nbb_cell_id = 8;\n",
       "                var nbb_unformatted_code = \"from matplotlib import pyplot\\nimport numpy as np\\n\\npyplot.imshow(X_train[0].reshape((28, 28)), cmap=\\\"gray\\\")\\nprint(X_train.shape)\";\n",
       "                var nbb_formatted_code = \"from matplotlib import pyplot\\nimport numpy as np\\n\\npyplot.imshow(X_train[0].reshape((28, 28)), cmap=\\\"gray\\\")\\nprint(X_train.shape)\";\n",
       "                var nbb_cells = Jupyter.notebook.get_cells();\n",
       "                for (var i = 0; i < nbb_cells.length; ++i) {\n",
       "                    if (nbb_cells[i].input_prompt_number == nbb_cell_id) {\n",
       "                        if (nbb_cells[i].get_text() == nbb_unformatted_code) {\n",
       "                             nbb_cells[i].set_text(nbb_formatted_code);\n",
       "                        }\n",
       "                        break;\n",
       "                    }\n",
       "                }\n",
       "            }, 500);\n",
       "            "
      ],
      "text/plain": [
       "<IPython.core.display.Javascript object>"
      ]
     },
     "metadata": {},
     "output_type": "display_data"
    }
   ],
   "source": [
    "from matplotlib import pyplot\n",
    "import numpy as np\n",
    "\n",
    "pyplot.imshow(X_train[0].reshape((28, 28)), cmap=\"gray\")\n",
    "print(X_train.shape)"
   ]
  },
  {
   "cell_type": "code",
   "execution_count": 9,
   "id": "df5327ca",
   "metadata": {},
   "outputs": [
    {
     "data": {
      "application/javascript": [
       "\n",
       "            setTimeout(function() {\n",
       "                var nbb_cell_id = 9;\n",
       "                var nbb_unformatted_code = \"X_train, Y_train, X_test, Y_test = map(torch.tensor, (X_train, Y_train, X_test, Y_test))\\nn, c = X_train.shape\";\n",
       "                var nbb_formatted_code = \"X_train, Y_train, X_test, Y_test = map(torch.tensor, (X_train, Y_train, X_test, Y_test))\\nn, c = X_train.shape\";\n",
       "                var nbb_cells = Jupyter.notebook.get_cells();\n",
       "                for (var i = 0; i < nbb_cells.length; ++i) {\n",
       "                    if (nbb_cells[i].input_prompt_number == nbb_cell_id) {\n",
       "                        if (nbb_cells[i].get_text() == nbb_unformatted_code) {\n",
       "                             nbb_cells[i].set_text(nbb_formatted_code);\n",
       "                        }\n",
       "                        break;\n",
       "                    }\n",
       "                }\n",
       "            }, 500);\n",
       "            "
      ],
      "text/plain": [
       "<IPython.core.display.Javascript object>"
      ]
     },
     "metadata": {},
     "output_type": "display_data"
    }
   ],
   "source": [
    "X_train, Y_train, X_test, Y_test = map(torch.tensor, (X_train, Y_train, X_test, Y_test))\n",
    "n, c = X_train.shape"
   ]
  },
  {
   "cell_type": "markdown",
   "id": "656e89b7",
   "metadata": {},
   "source": [
    "# torch.nn"
   ]
  },
  {
   "cell_type": "code",
   "execution_count": 10,
   "id": "1dbda179",
   "metadata": {},
   "outputs": [
    {
     "data": {
      "application/javascript": [
       "\n",
       "            setTimeout(function() {\n",
       "                var nbb_cell_id = 10;\n",
       "                var nbb_unformatted_code = \"# import math\\n\\n# weights = torch.randn(784, 10, requires_grad=True) / math.sqrt(784)\\n# bias = torch.zeros(10, requires_grad=True)\";\n",
       "                var nbb_formatted_code = \"# import math\\n\\n# weights = torch.randn(784, 10, requires_grad=True) / math.sqrt(784)\\n# bias = torch.zeros(10, requires_grad=True)\";\n",
       "                var nbb_cells = Jupyter.notebook.get_cells();\n",
       "                for (var i = 0; i < nbb_cells.length; ++i) {\n",
       "                    if (nbb_cells[i].input_prompt_number == nbb_cell_id) {\n",
       "                        if (nbb_cells[i].get_text() == nbb_unformatted_code) {\n",
       "                             nbb_cells[i].set_text(nbb_formatted_code);\n",
       "                        }\n",
       "                        break;\n",
       "                    }\n",
       "                }\n",
       "            }, 500);\n",
       "            "
      ],
      "text/plain": [
       "<IPython.core.display.Javascript object>"
      ]
     },
     "metadata": {},
     "output_type": "display_data"
    }
   ],
   "source": [
    "# import math\n",
    "\n",
    "# weights = torch.randn(784, 10, requires_grad=True) / math.sqrt(784)\n",
    "# bias = torch.zeros(10, requires_grad=True)"
   ]
  },
  {
   "cell_type": "code",
   "execution_count": 11,
   "id": "e20ba74d",
   "metadata": {},
   "outputs": [
    {
     "data": {
      "application/javascript": [
       "\n",
       "            setTimeout(function() {\n",
       "                var nbb_cell_id = 11;\n",
       "                var nbb_unformatted_code = \"import math\\n\\nIMAGE_SIZE = 28 * 28\\nweights = torch.randn(IMAGE_SIZE, 10) / math.sqrt(IMAGE_SIZE)\\nweights.requires_grad_()\\nbias = torch.zeros(10, requires_grad=True)\";\n",
       "                var nbb_formatted_code = \"import math\\n\\nIMAGE_SIZE = 28 * 28\\nweights = torch.randn(IMAGE_SIZE, 10) / math.sqrt(IMAGE_SIZE)\\nweights.requires_grad_()\\nbias = torch.zeros(10, requires_grad=True)\";\n",
       "                var nbb_cells = Jupyter.notebook.get_cells();\n",
       "                for (var i = 0; i < nbb_cells.length; ++i) {\n",
       "                    if (nbb_cells[i].input_prompt_number == nbb_cell_id) {\n",
       "                        if (nbb_cells[i].get_text() == nbb_unformatted_code) {\n",
       "                             nbb_cells[i].set_text(nbb_formatted_code);\n",
       "                        }\n",
       "                        break;\n",
       "                    }\n",
       "                }\n",
       "            }, 500);\n",
       "            "
      ],
      "text/plain": [
       "<IPython.core.display.Javascript object>"
      ]
     },
     "metadata": {},
     "output_type": "display_data"
    }
   ],
   "source": [
    "import math\n",
    "\n",
    "IMAGE_SIZE = 28 * 28\n",
    "weights = torch.randn(IMAGE_SIZE, 10) / math.sqrt(IMAGE_SIZE)\n",
    "weights.requires_grad_()\n",
    "bias = torch.zeros(10, requires_grad=True)"
   ]
  },
  {
   "cell_type": "code",
   "execution_count": 12,
   "id": "093db39a",
   "metadata": {},
   "outputs": [
    {
     "data": {
      "application/javascript": [
       "\n",
       "            setTimeout(function() {\n",
       "                var nbb_cell_id = 12;\n",
       "                var nbb_unformatted_code = \"def log_softmax(x):\\n    return x - x.exp().sum(-1).log().unsqueeze(-1)\\n    # return nn.LogSoftmax(x).dim\\n\\n\\ndef model(xb):\\n    return log_softmax(xb @ weights + bias)\";\n",
       "                var nbb_formatted_code = \"def log_softmax(x):\\n    return x - x.exp().sum(-1).log().unsqueeze(-1)\\n    # return nn.LogSoftmax(x).dim\\n\\n\\ndef model(xb):\\n    return log_softmax(xb @ weights + bias)\";\n",
       "                var nbb_cells = Jupyter.notebook.get_cells();\n",
       "                for (var i = 0; i < nbb_cells.length; ++i) {\n",
       "                    if (nbb_cells[i].input_prompt_number == nbb_cell_id) {\n",
       "                        if (nbb_cells[i].get_text() == nbb_unformatted_code) {\n",
       "                             nbb_cells[i].set_text(nbb_formatted_code);\n",
       "                        }\n",
       "                        break;\n",
       "                    }\n",
       "                }\n",
       "            }, 500);\n",
       "            "
      ],
      "text/plain": [
       "<IPython.core.display.Javascript object>"
      ]
     },
     "metadata": {},
     "output_type": "display_data"
    }
   ],
   "source": [
    "def log_softmax(x):\n",
    "    return x - x.exp().sum(-1).log().unsqueeze(-1)\n",
    "    # return nn.LogSoftmax(x).dim\n",
    "\n",
    "\n",
    "def model(xb):\n",
    "    return log_softmax(xb @ weights + bias)"
   ]
  },
  {
   "cell_type": "code",
   "execution_count": 13,
   "id": "73ec52c2",
   "metadata": {
    "scrolled": true
   },
   "outputs": [
    {
     "name": "stdout",
     "output_type": "stream",
     "text": [
      "tensor([[-2.5361, -2.0546, -2.8075, -1.8135, -2.4125, -2.7367, -2.5631, -2.1762,\n",
      "         -2.0660, -2.3266],\n",
      "        [-2.0114, -2.0867, -2.1819, -2.1102, -2.9225, -2.5011, -2.3020, -2.7380,\n",
      "         -2.1585, -2.3859],\n",
      "        [-2.6499, -2.3720, -2.9342, -1.9760, -2.6209, -2.5719, -2.2881, -2.0488,\n",
      "         -1.9282, -2.1255],\n",
      "        [-2.1125, -2.3142, -2.2714, -2.2260, -2.4507, -2.4816, -2.3187, -2.5304,\n",
      "         -2.1840, -2.2199],\n",
      "        [-1.8869, -2.0536, -2.5575, -2.1390, -2.3546, -2.5401, -2.5790, -2.7756,\n",
      "         -2.1048, -2.3957],\n",
      "        [-2.1864, -2.2075, -2.7963, -1.9356, -2.6978, -3.0147, -1.9158, -2.4728,\n",
      "         -2.2841, -2.0999],\n",
      "        [-2.5548, -2.0592, -2.5967, -1.8637, -2.5939, -2.4291, -2.6495, -2.4765,\n",
      "         -2.1218, -2.0577],\n",
      "        [-2.1377, -1.9728, -3.3314, -2.1444, -3.1808, -2.7116, -2.4114, -2.6333,\n",
      "         -1.7306, -1.9419],\n",
      "        [-2.5689, -2.1681, -2.5170, -2.0328, -2.3268, -2.3617, -2.4650, -2.4482,\n",
      "         -2.0061, -2.3079],\n",
      "        [-2.2627, -2.4357, -2.5945, -2.4003, -2.5714, -2.3192, -2.4965, -2.0217,\n",
      "         -1.9142, -2.2446],\n",
      "        [-2.2008, -2.2383, -2.8141, -1.6241, -2.7160, -2.6464, -2.6333, -2.5444,\n",
      "         -2.0324, -2.2334],\n",
      "        [-2.3271, -2.4182, -2.0218, -2.5394, -2.5145, -2.3644, -2.4705, -2.2121,\n",
      "         -2.1143, -2.1860],\n",
      "        [-2.4624, -2.3028, -2.4563, -1.6890, -2.9384, -2.7211, -2.5427, -2.5351,\n",
      "         -1.8172, -2.2521],\n",
      "        [-2.1899, -2.3989, -2.1991, -1.6011, -2.7479, -2.6881, -2.5808, -2.2235,\n",
      "         -2.3342, -2.6345],\n",
      "        [-2.5879, -2.2628, -2.3021, -1.9386, -2.3776, -2.4590, -2.4341, -2.5597,\n",
      "         -1.9949, -2.3280],\n",
      "        [-1.9634, -2.2816, -2.5847, -2.1076, -2.0585, -2.4844, -2.4234, -2.6117,\n",
      "         -2.3671, -2.3671],\n",
      "        [-2.6140, -2.1514, -2.8058, -1.8728, -2.6054, -2.3364, -2.4419, -2.0963,\n",
      "         -2.2031, -2.2504],\n",
      "        [-2.1073, -1.9524, -2.5005, -2.1295, -2.5909, -2.5260, -2.4521, -2.6994,\n",
      "         -1.9454, -2.4728],\n",
      "        [-2.5713, -1.9922, -2.5363, -2.1049, -2.4128, -2.6945, -2.3407, -2.4751,\n",
      "         -1.9691, -2.2163],\n",
      "        [-2.1764, -2.1570, -2.3623, -2.0473, -2.3403, -2.4558, -2.2729, -2.9293,\n",
      "         -2.1633, -2.3634],\n",
      "        [-1.9855, -2.5156, -3.1850, -2.0282, -2.4533, -2.4385, -2.9831, -2.1791,\n",
      "         -1.7460, -2.3293],\n",
      "        [-1.7200, -2.1759, -2.2569, -2.0277, -2.9083, -2.6759, -2.3222, -2.5978,\n",
      "         -2.3389, -2.5412],\n",
      "        [-2.0101, -2.0536, -2.4417, -2.4891, -2.3265, -2.2339, -2.4554, -2.4805,\n",
      "         -2.2729, -2.4029],\n",
      "        [-2.0937, -2.2989, -2.2178, -2.2006, -2.5429, -2.4818, -2.3922, -2.4589,\n",
      "         -2.2269, -2.2095],\n",
      "        [-2.0037, -2.1252, -1.9592, -2.5753, -2.3711, -2.3261, -2.1396, -2.4107,\n",
      "         -2.7386, -2.7259],\n",
      "        [-2.3619, -2.1611, -2.1601, -1.9985, -3.3997, -3.0179, -2.4885, -2.4111,\n",
      "         -1.8683, -2.0380],\n",
      "        [-1.9333, -2.1561, -2.5422, -2.2476, -2.3631, -2.3223, -2.6952, -2.5474,\n",
      "         -2.3416, -2.1116],\n",
      "        [-2.3261, -2.1493, -3.0890, -1.8941, -3.1600, -2.4983, -2.3991, -2.5658,\n",
      "         -1.7443, -2.0981],\n",
      "        [-2.6215, -2.6105, -2.5751, -1.7191, -3.0278, -3.0944, -2.8815, -2.3064,\n",
      "         -1.8895, -1.6200],\n",
      "        [-2.0879, -2.2127, -2.2239, -2.3963, -2.3420, -2.3412, -2.3288, -2.2513,\n",
      "         -2.4059, -2.4985],\n",
      "        [-2.3476, -2.5567, -2.3627, -2.0158, -2.4856, -2.5819, -2.5938, -2.2000,\n",
      "         -2.2690, -1.8865],\n",
      "        [-2.2727, -2.2079, -2.6064, -2.3103, -2.9370, -2.3056, -2.3399, -2.3854,\n",
      "         -1.7129, -2.3801],\n",
      "        [-2.6252, -1.9250, -2.7499, -1.7684, -2.3723, -2.7734, -2.4075, -2.2081,\n",
      "         -2.1570, -2.5792],\n",
      "        [-2.3440, -2.1815, -2.4614, -2.1065, -2.3036, -2.5485, -2.3918, -2.7438,\n",
      "         -1.9193, -2.2672],\n",
      "        [-2.1131, -2.2551, -2.7352, -2.1143, -2.5561, -2.9021, -2.4245, -2.4175,\n",
      "         -1.7803, -2.2082],\n",
      "        [-1.9602, -2.4339, -2.1642, -2.2078, -2.8159, -2.6560, -2.3335, -2.3927,\n",
      "         -2.3890, -1.9911],\n",
      "        [-2.7149, -1.9391, -2.6148, -1.9209, -2.4390, -3.1647, -2.1337, -2.2237,\n",
      "         -2.1369, -2.3414],\n",
      "        [-1.8653, -2.1649, -2.4167, -2.1823, -3.0686, -2.8919, -2.5154, -2.6138,\n",
      "         -1.8376, -2.1791],\n",
      "        [-2.5739, -2.3043, -2.6639, -2.0491, -2.5348, -2.2393, -2.8434, -1.9458,\n",
      "         -2.4385, -1.8892],\n",
      "        [-2.2234, -1.6690, -3.1204, -1.9487, -2.7514, -2.9287, -2.5929, -2.2503,\n",
      "         -1.9523, -2.5599],\n",
      "        [-2.3072, -2.3090, -2.1151, -2.0194, -2.5376, -2.5407, -2.4908, -2.6406,\n",
      "         -2.0045, -2.2928],\n",
      "        [-1.7533, -1.9884, -2.5673, -2.1002, -2.4857, -2.5352, -2.7520, -2.5394,\n",
      "         -2.3485, -2.4082],\n",
      "        [-2.1793, -1.8756, -2.2494, -2.0085, -2.5532, -2.4565, -2.7285, -2.8320,\n",
      "         -2.5902, -2.0312],\n",
      "        [-1.9242, -2.2856, -2.6444, -2.1404, -2.2886, -2.3800, -2.5652, -2.5761,\n",
      "         -2.0581, -2.4189],\n",
      "        [-2.5251, -2.2777, -2.5227, -2.1698, -2.3358, -2.4437, -2.1678, -2.4984,\n",
      "         -2.1036, -2.1140],\n",
      "        [-1.7838, -2.1113, -2.7790, -2.0698, -2.3188, -2.7240, -2.4949, -2.6905,\n",
      "         -2.3689, -2.1658],\n",
      "        [-2.2301, -1.9331, -2.3471, -2.4090, -2.5181, -2.2192, -2.3447, -2.4966,\n",
      "         -2.4254, -2.2420],\n",
      "        [-1.7833, -2.0884, -2.3849, -2.2803, -2.7279, -2.4130, -2.4336, -2.5220,\n",
      "         -2.3274, -2.3729],\n",
      "        [-1.9806, -2.0866, -2.4740, -2.1955, -2.8226, -2.2968, -2.7933, -2.5386,\n",
      "         -2.0267, -2.2041],\n",
      "        [-1.9668, -2.0911, -2.8697, -2.1285, -2.9669, -2.4195, -2.4140, -2.6405,\n",
      "         -1.8033, -2.3555],\n",
      "        [-2.4302, -2.0562, -2.3941, -2.2279, -2.5335, -2.6604, -2.7875, -2.2720,\n",
      "         -1.8086, -2.2334],\n",
      "        [-2.0779, -1.9413, -2.5544, -2.2506, -2.8646, -2.5223, -2.1327, -2.9233,\n",
      "         -2.0702, -2.1849],\n",
      "        [-2.2761, -2.1194, -2.8402, -1.8855, -2.5313, -2.4477, -2.6203, -2.6710,\n",
      "         -2.4898, -1.7367],\n",
      "        [-2.0384, -2.6057, -2.4497, -1.9587, -2.4770, -2.5269, -2.4623, -2.5642,\n",
      "         -1.9712, -2.2716],\n",
      "        [-2.1439, -2.1635, -3.1798, -1.8857, -2.4356, -2.4032, -2.8322, -2.3176,\n",
      "         -2.1820, -2.0684],\n",
      "        [-2.0234, -2.2136, -2.3474, -2.1827, -2.4419, -2.5034, -2.3892, -2.4500,\n",
      "         -2.2652, -2.3073],\n",
      "        [-2.2796, -2.5522, -1.9470, -1.7715, -3.1216, -2.7295, -2.6782, -2.9498,\n",
      "         -2.2563, -1.7610],\n",
      "        [-1.6811, -2.0545, -2.6096, -2.2997, -2.3421, -2.6244, -2.5792, -2.7108,\n",
      "         -2.2554, -2.3428],\n",
      "        [-2.1854, -2.3552, -2.8660, -2.0992, -2.2934, -2.4259, -3.0848, -2.4865,\n",
      "         -2.0125, -1.8246],\n",
      "        [-1.9252, -2.3900, -2.2814, -2.3027, -2.4148, -2.5873, -2.4630, -2.3719,\n",
      "         -2.2046, -2.2348],\n",
      "        [-2.8145, -2.5255, -2.7341, -1.9334, -2.8664, -2.6814, -2.4512, -1.8373,\n",
      "         -2.0213, -1.9164],\n",
      "        [-2.0037, -2.2512, -2.4492, -2.0789, -2.6138, -2.6609, -2.4073, -2.3697,\n",
      "         -2.1670, -2.2327],\n",
      "        [-2.2193, -2.0026, -2.6150, -2.0215, -2.6504, -2.9691, -2.4008, -2.2809,\n",
      "         -2.0163, -2.2755],\n",
      "        [-1.6937, -2.0112, -3.0507, -2.2885, -2.9358, -2.5388, -2.3633, -3.1030,\n",
      "         -1.7716, -2.3811]], grad_fn=<SubBackward0>)\n"
     ]
    },
    {
     "data": {
      "application/javascript": [
       "\n",
       "            setTimeout(function() {\n",
       "                var nbb_cell_id = 13;\n",
       "                var nbb_unformatted_code = \"bs = 64  # batch size\\n\\nxb = X_train[0:bs]  # a mini-batch from x\\npreds = model(xb)  # predictions\\n\\nprint(preds)\";\n",
       "                var nbb_formatted_code = \"bs = 64  # batch size\\n\\nxb = X_train[0:bs]  # a mini-batch from x\\npreds = model(xb)  # predictions\\n\\nprint(preds)\";\n",
       "                var nbb_cells = Jupyter.notebook.get_cells();\n",
       "                for (var i = 0; i < nbb_cells.length; ++i) {\n",
       "                    if (nbb_cells[i].input_prompt_number == nbb_cell_id) {\n",
       "                        if (nbb_cells[i].get_text() == nbb_unformatted_code) {\n",
       "                             nbb_cells[i].set_text(nbb_formatted_code);\n",
       "                        }\n",
       "                        break;\n",
       "                    }\n",
       "                }\n",
       "            }, 500);\n",
       "            "
      ],
      "text/plain": [
       "<IPython.core.display.Javascript object>"
      ]
     },
     "metadata": {},
     "output_type": "display_data"
    }
   ],
   "source": [
    "bs = 64  # batch size\n",
    "\n",
    "xb = X_train[0:bs]  # a mini-batch from x\n",
    "preds = model(xb)  # predictions\n",
    "\n",
    "print(preds)"
   ]
  },
  {
   "cell_type": "code",
   "execution_count": 14,
   "id": "9b8ceb4b",
   "metadata": {},
   "outputs": [
    {
     "data": {
      "application/javascript": [
       "\n",
       "            setTimeout(function() {\n",
       "                var nbb_cell_id = 14;\n",
       "                var nbb_unformatted_code = \"def nll(input, target):\\n    return -input[range(target.shape[0]), target].mean()\\n\\n\\nloss_func = nll\";\n",
       "                var nbb_formatted_code = \"def nll(input, target):\\n    return -input[range(target.shape[0]), target].mean()\\n\\n\\nloss_func = nll\";\n",
       "                var nbb_cells = Jupyter.notebook.get_cells();\n",
       "                for (var i = 0; i < nbb_cells.length; ++i) {\n",
       "                    if (nbb_cells[i].input_prompt_number == nbb_cell_id) {\n",
       "                        if (nbb_cells[i].get_text() == nbb_unformatted_code) {\n",
       "                             nbb_cells[i].set_text(nbb_formatted_code);\n",
       "                        }\n",
       "                        break;\n",
       "                    }\n",
       "                }\n",
       "            }, 500);\n",
       "            "
      ],
      "text/plain": [
       "<IPython.core.display.Javascript object>"
      ]
     },
     "metadata": {},
     "output_type": "display_data"
    }
   ],
   "source": [
    "def nll(input, target):\n",
    "    return -input[range(target.shape[0]), target].mean()\n",
    "\n",
    "\n",
    "loss_func = nll"
   ]
  },
  {
   "cell_type": "code",
   "execution_count": 15,
   "id": "2b6e4eb0",
   "metadata": {},
   "outputs": [
    {
     "name": "stdout",
     "output_type": "stream",
     "text": [
      "tensor(2.2882, grad_fn=<NegBackward>)\n"
     ]
    },
    {
     "data": {
      "application/javascript": [
       "\n",
       "            setTimeout(function() {\n",
       "                var nbb_cell_id = 15;\n",
       "                var nbb_unformatted_code = \"yb = Y_train[0:bs].long()\\nprint(loss_func(preds, yb))\";\n",
       "                var nbb_formatted_code = \"yb = Y_train[0:bs].long()\\nprint(loss_func(preds, yb))\";\n",
       "                var nbb_cells = Jupyter.notebook.get_cells();\n",
       "                for (var i = 0; i < nbb_cells.length; ++i) {\n",
       "                    if (nbb_cells[i].input_prompt_number == nbb_cell_id) {\n",
       "                        if (nbb_cells[i].get_text() == nbb_unformatted_code) {\n",
       "                             nbb_cells[i].set_text(nbb_formatted_code);\n",
       "                        }\n",
       "                        break;\n",
       "                    }\n",
       "                }\n",
       "            }, 500);\n",
       "            "
      ],
      "text/plain": [
       "<IPython.core.display.Javascript object>"
      ]
     },
     "metadata": {},
     "output_type": "display_data"
    }
   ],
   "source": [
    "yb = Y_train[0:bs].long()\n",
    "print(loss_func(preds, yb))"
   ]
  },
  {
   "cell_type": "code",
   "execution_count": 16,
   "id": "6640eede",
   "metadata": {},
   "outputs": [
    {
     "data": {
      "application/javascript": [
       "\n",
       "            setTimeout(function() {\n",
       "                var nbb_cell_id = 16;\n",
       "                var nbb_unformatted_code = \"def accuracy(out, yb):\\n    preds = torch.argmax(out, dim=1)\\n    return (preds == yb).float().mean()\";\n",
       "                var nbb_formatted_code = \"def accuracy(out, yb):\\n    preds = torch.argmax(out, dim=1)\\n    return (preds == yb).float().mean()\";\n",
       "                var nbb_cells = Jupyter.notebook.get_cells();\n",
       "                for (var i = 0; i < nbb_cells.length; ++i) {\n",
       "                    if (nbb_cells[i].input_prompt_number == nbb_cell_id) {\n",
       "                        if (nbb_cells[i].get_text() == nbb_unformatted_code) {\n",
       "                             nbb_cells[i].set_text(nbb_formatted_code);\n",
       "                        }\n",
       "                        break;\n",
       "                    }\n",
       "                }\n",
       "            }, 500);\n",
       "            "
      ],
      "text/plain": [
       "<IPython.core.display.Javascript object>"
      ]
     },
     "metadata": {},
     "output_type": "display_data"
    }
   ],
   "source": [
    "def accuracy(out, yb):\n",
    "    preds = torch.argmax(out, dim=1)\n",
    "    return (preds == yb).float().mean()"
   ]
  },
  {
   "cell_type": "code",
   "execution_count": 17,
   "id": "0f3801f8",
   "metadata": {},
   "outputs": [
    {
     "name": "stdout",
     "output_type": "stream",
     "text": [
      "tensor(0.1094)\n"
     ]
    },
    {
     "data": {
      "application/javascript": [
       "\n",
       "            setTimeout(function() {\n",
       "                var nbb_cell_id = 17;\n",
       "                var nbb_unformatted_code = \"print(accuracy(preds, yb))\";\n",
       "                var nbb_formatted_code = \"print(accuracy(preds, yb))\";\n",
       "                var nbb_cells = Jupyter.notebook.get_cells();\n",
       "                for (var i = 0; i < nbb_cells.length; ++i) {\n",
       "                    if (nbb_cells[i].input_prompt_number == nbb_cell_id) {\n",
       "                        if (nbb_cells[i].get_text() == nbb_unformatted_code) {\n",
       "                             nbb_cells[i].set_text(nbb_formatted_code);\n",
       "                        }\n",
       "                        break;\n",
       "                    }\n",
       "                }\n",
       "            }, 500);\n",
       "            "
      ],
      "text/plain": [
       "<IPython.core.display.Javascript object>"
      ]
     },
     "metadata": {},
     "output_type": "display_data"
    }
   ],
   "source": [
    "print(accuracy(preds, yb))"
   ]
  },
  {
   "cell_type": "markdown",
   "id": "fe011fa6",
   "metadata": {},
   "source": [
    "# Training loop"
   ]
  },
  {
   "cell_type": "code",
   "execution_count": 18,
   "id": "03a6c18a",
   "metadata": {},
   "outputs": [
    {
     "name": "stderr",
     "output_type": "stream",
     "text": [
      "  0%|          | 0/2 [00:00<?, ?it/s]\n",
      "loss 2.29 accuracy 0.11:   0%|          | 0/2 [00:00<?, ?it/s]\n",
      "loss 0.25 accuracy 0.92:   0%|          | 0/2 [00:00<?, ?it/s]\n",
      "loss 0.28 accuracy 0.91:   0%|          | 0/2 [00:00<?, ?it/s]\n",
      "loss 0.38 accuracy 0.88:   0%|          | 0/2 [00:00<?, ?it/s]\n",
      "loss 0.16 accuracy 0.97:   0%|          | 0/2 [00:00<?, ?it/s]\n",
      "loss 0.27 accuracy 0.94:   0%|          | 0/2 [00:00<?, ?it/s]\n",
      "loss 0.45 accuracy 0.84:   0%|          | 0/2 [00:00<?, ?it/s]\n",
      "100%|██████████| 782/782 [00:00<00:00, 878.89it/s]00<?, ?it/s]\n",
      "loss 0.40 accuracy 0.94:  50%|█████     | 1/2 [00:00<00:00,  1.12it/s]\n",
      "loss 0.21 accuracy 0.91:  50%|█████     | 1/2 [00:00<00:00,  1.12it/s]\n",
      "loss 0.18 accuracy 0.94:  50%|█████     | 1/2 [00:01<00:00,  1.12it/s]\n",
      "loss 0.27 accuracy 0.92:  50%|█████     | 1/2 [00:01<00:00,  1.12it/s]\n",
      "loss 0.15 accuracy 0.97:  50%|█████     | 1/2 [00:01<00:00,  1.12it/s]\n",
      "loss 0.31 accuracy 0.92:  50%|█████     | 1/2 [00:01<00:00,  1.12it/s]\n",
      "loss 0.27 accuracy 0.94:  50%|█████     | 1/2 [00:01<00:00,  1.12it/s]\n",
      "loss 0.09 accuracy 0.98:  50%|█████     | 1/2 [00:01<00:00,  1.12it/s]\n",
      "100%|██████████| 782/782 [00:00<00:00, 1035.50it/s]1<00:00,  1.12it/s]\n",
      "loss 0.31 accuracy 0.94: 100%|██████████| 2/2 [00:01<00:00,  1.21it/s]\n"
     ]
    },
    {
     "data": {
      "application/javascript": [
       "\n",
       "            setTimeout(function() {\n",
       "                var nbb_cell_id = 18;\n",
       "                var nbb_unformatted_code = \"from IPython.core.debugger import set_trace\\n\\nlr = 0.5  # learning rate\\nepochs = 2  # how many epochs to train for\\n\\nfor epoch in (t := trange(epochs, position=0)) :\\n    for i in trange((n - 1) // bs + 1):\\n        #         set_trace()\\n        start_i = i * bs\\n        end_i = start_i + bs\\n        xb = X_train[start_i:end_i]\\n        yb = Y_train[start_i:end_i]\\n        pred = model(xb)\\n        loss = loss_func(pred, yb)\\n        cat = torch.argmax(pred, dim=1)\\n        acc = (cat == yb).float().mean()\\n        loss.backward()\\n        with torch.no_grad():\\n            weights -= weights.grad * lr\\n            bias -= bias.grad * lr\\n            weights.grad.zero_()\\n            bias.grad.zero_()\\n        t.set_description(\\\"loss %.2f accuracy %.2f\\\" % (loss, acc))\";\n",
       "                var nbb_formatted_code = \"from IPython.core.debugger import set_trace\\n\\nlr = 0.5  # learning rate\\nepochs = 2  # how many epochs to train for\\n\\nfor epoch in (t := trange(epochs, position=0)) :\\n    for i in trange((n - 1) // bs + 1):\\n        #         set_trace()\\n        start_i = i * bs\\n        end_i = start_i + bs\\n        xb = X_train[start_i:end_i]\\n        yb = Y_train[start_i:end_i]\\n        pred = model(xb)\\n        loss = loss_func(pred, yb)\\n        cat = torch.argmax(pred, dim=1)\\n        acc = (cat == yb).float().mean()\\n        loss.backward()\\n        with torch.no_grad():\\n            weights -= weights.grad * lr\\n            bias -= bias.grad * lr\\n            weights.grad.zero_()\\n            bias.grad.zero_()\\n        t.set_description(\\\"loss %.2f accuracy %.2f\\\" % (loss, acc))\";\n",
       "                var nbb_cells = Jupyter.notebook.get_cells();\n",
       "                for (var i = 0; i < nbb_cells.length; ++i) {\n",
       "                    if (nbb_cells[i].input_prompt_number == nbb_cell_id) {\n",
       "                        if (nbb_cells[i].get_text() == nbb_unformatted_code) {\n",
       "                             nbb_cells[i].set_text(nbb_formatted_code);\n",
       "                        }\n",
       "                        break;\n",
       "                    }\n",
       "                }\n",
       "            }, 500);\n",
       "            "
      ],
      "text/plain": [
       "<IPython.core.display.Javascript object>"
      ]
     },
     "metadata": {},
     "output_type": "display_data"
    }
   ],
   "source": [
    "from IPython.core.debugger import set_trace\n",
    "\n",
    "lr = 0.5  # learning rate\n",
    "epochs = 2  # how many epochs to train for\n",
    "\n",
    "for epoch in (t := trange(epochs, position=0)) :\n",
    "    for i in trange((n - 1) // bs + 1):\n",
    "        #         set_trace()\n",
    "        start_i = i * bs\n",
    "        end_i = start_i + bs\n",
    "        xb = X_train[start_i:end_i]\n",
    "        yb = Y_train[start_i:end_i]\n",
    "        pred = model(xb)\n",
    "        loss = loss_func(pred, yb)\n",
    "        cat = torch.argmax(pred, dim=1)\n",
    "        acc = (cat == yb).float().mean()\n",
    "        loss.backward()\n",
    "        with torch.no_grad():\n",
    "            weights -= weights.grad * lr\n",
    "            bias -= bias.grad * lr\n",
    "            weights.grad.zero_()\n",
    "            bias.grad.zero_()\n",
    "        t.set_description(\"loss %.2f accuracy %.2f\" % (loss, acc))"
   ]
  },
  {
   "cell_type": "code",
   "execution_count": 19,
   "id": "d4b368a8",
   "metadata": {},
   "outputs": [
    {
     "name": "stdout",
     "output_type": "stream",
     "text": [
      "tensor(0.0818, grad_fn=<NegBackward>) tensor(1.)\n"
     ]
    },
    {
     "data": {
      "application/javascript": [
       "\n",
       "            setTimeout(function() {\n",
       "                var nbb_cell_id = 19;\n",
       "                var nbb_unformatted_code = \"print(loss_func(model(xb), yb), accuracy(model(xb), yb))\";\n",
       "                var nbb_formatted_code = \"print(loss_func(model(xb), yb), accuracy(model(xb), yb))\";\n",
       "                var nbb_cells = Jupyter.notebook.get_cells();\n",
       "                for (var i = 0; i < nbb_cells.length; ++i) {\n",
       "                    if (nbb_cells[i].input_prompt_number == nbb_cell_id) {\n",
       "                        if (nbb_cells[i].get_text() == nbb_unformatted_code) {\n",
       "                             nbb_cells[i].set_text(nbb_formatted_code);\n",
       "                        }\n",
       "                        break;\n",
       "                    }\n",
       "                }\n",
       "            }, 500);\n",
       "            "
      ],
      "text/plain": [
       "<IPython.core.display.Javascript object>"
      ]
     },
     "metadata": {},
     "output_type": "display_data"
    }
   ],
   "source": [
    "print(loss_func(model(xb), yb), accuracy(model(xb), yb))"
   ]
  },
  {
   "cell_type": "markdown",
   "id": "7562b62e",
   "metadata": {},
   "source": [
    "# Refactor 1"
   ]
  },
  {
   "cell_type": "code",
   "execution_count": 20,
   "id": "2ab4f476",
   "metadata": {},
   "outputs": [
    {
     "data": {
      "application/javascript": [
       "\n",
       "            setTimeout(function() {\n",
       "                var nbb_cell_id = 20;\n",
       "                var nbb_unformatted_code = \"from torch import nn\\n\\nclass Mnist_Logistic(nn.Module):\\n    def __init__(self):\\n        super().__init__()\\n        self.weights = nn.Parameter(torch.randn(784, 10) / math.sqrt(784))\\n        self.bias = nn.Parameter(torch.zeros(10))\\n\\n    def forward(self, xb):\\n        return xb @ self.weights + self.bias\";\n",
       "                var nbb_formatted_code = \"from torch import nn\\n\\n\\nclass Mnist_Logistic(nn.Module):\\n    def __init__(self):\\n        super().__init__()\\n        self.weights = nn.Parameter(torch.randn(784, 10) / math.sqrt(784))\\n        self.bias = nn.Parameter(torch.zeros(10))\\n\\n    def forward(self, xb):\\n        return xb @ self.weights + self.bias\";\n",
       "                var nbb_cells = Jupyter.notebook.get_cells();\n",
       "                for (var i = 0; i < nbb_cells.length; ++i) {\n",
       "                    if (nbb_cells[i].input_prompt_number == nbb_cell_id) {\n",
       "                        if (nbb_cells[i].get_text() == nbb_unformatted_code) {\n",
       "                             nbb_cells[i].set_text(nbb_formatted_code);\n",
       "                        }\n",
       "                        break;\n",
       "                    }\n",
       "                }\n",
       "            }, 500);\n",
       "            "
      ],
      "text/plain": [
       "<IPython.core.display.Javascript object>"
      ]
     },
     "metadata": {},
     "output_type": "display_data"
    }
   ],
   "source": [
    "from torch import nn\n",
    "\n",
    "\n",
    "class Mnist_Logistic(nn.Module):\n",
    "    def __init__(self):\n",
    "        super().__init__()\n",
    "        self.weights = nn.Parameter(torch.randn(784, 10) / math.sqrt(784))\n",
    "        self.bias = nn.Parameter(torch.zeros(10))\n",
    "\n",
    "    def forward(self, xb):\n",
    "        return xb @ self.weights + self.bias"
   ]
  },
  {
   "cell_type": "code",
   "execution_count": 21,
   "id": "4cdbf0e7",
   "metadata": {},
   "outputs": [
    {
     "data": {
      "application/javascript": [
       "\n",
       "            setTimeout(function() {\n",
       "                var nbb_cell_id = 21;\n",
       "                var nbb_unformatted_code = \"model = Mnist_Logistic()\";\n",
       "                var nbb_formatted_code = \"model = Mnist_Logistic()\";\n",
       "                var nbb_cells = Jupyter.notebook.get_cells();\n",
       "                for (var i = 0; i < nbb_cells.length; ++i) {\n",
       "                    if (nbb_cells[i].input_prompt_number == nbb_cell_id) {\n",
       "                        if (nbb_cells[i].get_text() == nbb_unformatted_code) {\n",
       "                             nbb_cells[i].set_text(nbb_formatted_code);\n",
       "                        }\n",
       "                        break;\n",
       "                    }\n",
       "                }\n",
       "            }, 500);\n",
       "            "
      ],
      "text/plain": [
       "<IPython.core.display.Javascript object>"
      ]
     },
     "metadata": {},
     "output_type": "display_data"
    }
   ],
   "source": [
    "model = Mnist_Logistic()\n"
   ]
  },
  {
   "cell_type": "code",
   "execution_count": 22,
   "id": "d4a47659",
   "metadata": {},
   "outputs": [
    {
     "name": "stdout",
     "output_type": "stream",
     "text": [
      "tensor(0.0111, grad_fn=<NegBackward>)\n"
     ]
    },
    {
     "data": {
      "application/javascript": [
       "\n",
       "            setTimeout(function() {\n",
       "                var nbb_cell_id = 22;\n",
       "                var nbb_unformatted_code = \"print(loss_func(model(xb), yb))\";\n",
       "                var nbb_formatted_code = \"print(loss_func(model(xb), yb))\";\n",
       "                var nbb_cells = Jupyter.notebook.get_cells();\n",
       "                for (var i = 0; i < nbb_cells.length; ++i) {\n",
       "                    if (nbb_cells[i].input_prompt_number == nbb_cell_id) {\n",
       "                        if (nbb_cells[i].get_text() == nbb_unformatted_code) {\n",
       "                             nbb_cells[i].set_text(nbb_formatted_code);\n",
       "                        }\n",
       "                        break;\n",
       "                    }\n",
       "                }\n",
       "            }, 500);\n",
       "            "
      ],
      "text/plain": [
       "<IPython.core.display.Javascript object>"
      ]
     },
     "metadata": {},
     "output_type": "display_data"
    }
   ],
   "source": [
    "print(loss_func(model(xb), yb))"
   ]
  },
  {
   "cell_type": "code",
   "execution_count": 23,
   "id": "4b70e704",
   "metadata": {},
   "outputs": [
    {
     "name": "stderr",
     "output_type": "stream",
     "text": [
      "  0%|          | 0/2 [00:00<?, ?it/s]\n",
      "  0%|          | 0/782 [00:00<?, ?it/s]\u001b[A\n",
      " 30%|██▉       | 231/782 [00:00<00:00, 2306.76it/s]\u001b[A\n",
      " 59%|█████▉    | 462/782 [00:00<00:00, 2304.85it/s]\u001b[A\n",
      "100%|██████████| 782/782 [00:00<00:00, 2221.44it/s]\u001b[A\n",
      " 50%|█████     | 1/2 [00:00<00:00,  2.83it/s]\n",
      "  0%|          | 0/782 [00:00<?, ?it/s]\u001b[A\n",
      " 30%|███       | 235/782 [00:00<00:00, 2342.43it/s]\u001b[A\n",
      " 59%|█████▉    | 460/782 [00:00<00:00, 2311.90it/s]\u001b[A\n",
      "100%|██████████| 782/782 [00:00<00:00, 2308.77it/s]\u001b[A\n",
      "100%|██████████| 2/2 [00:00<00:00,  2.88it/s]\n"
     ]
    },
    {
     "data": {
      "application/javascript": [
       "\n",
       "            setTimeout(function() {\n",
       "                var nbb_cell_id = 23;\n",
       "                var nbb_unformatted_code = \"def fit():\\n    for epoch in trange(epochs):\\n        for i in trange((n - 1) // bs + 1):\\n            start_i = i * bs\\n            end_i = start_i + bs\\n            xb = X_train[start_i:end_i]\\n            yb = Y_train[start_i:end_i]\\n            pred = model(xb)\\n            loss = loss_func(pred, yb)\\n\\n            loss.backward()\\n            with torch.no_grad():\\n                for p in model.parameters():\\n                    p -= p.grad * lr\\n                model.zero_grad()\\n\\n\\nfit()\";\n",
       "                var nbb_formatted_code = \"def fit():\\n    for epoch in trange(epochs):\\n        for i in trange((n - 1) // bs + 1):\\n            start_i = i * bs\\n            end_i = start_i + bs\\n            xb = X_train[start_i:end_i]\\n            yb = Y_train[start_i:end_i]\\n            pred = model(xb)\\n            loss = loss_func(pred, yb)\\n\\n            loss.backward()\\n            with torch.no_grad():\\n                for p in model.parameters():\\n                    p -= p.grad * lr\\n                model.zero_grad()\\n\\n\\nfit()\";\n",
       "                var nbb_cells = Jupyter.notebook.get_cells();\n",
       "                for (var i = 0; i < nbb_cells.length; ++i) {\n",
       "                    if (nbb_cells[i].input_prompt_number == nbb_cell_id) {\n",
       "                        if (nbb_cells[i].get_text() == nbb_unformatted_code) {\n",
       "                             nbb_cells[i].set_text(nbb_formatted_code);\n",
       "                        }\n",
       "                        break;\n",
       "                    }\n",
       "                }\n",
       "            }, 500);\n",
       "            "
      ],
      "text/plain": [
       "<IPython.core.display.Javascript object>"
      ]
     },
     "metadata": {},
     "output_type": "display_data"
    }
   ],
   "source": [
    "def fit():\n",
    "    for epoch in trange(epochs):\n",
    "        for i in trange((n - 1) // bs + 1):\n",
    "            start_i = i * bs\n",
    "            end_i = start_i + bs\n",
    "            xb = X_train[start_i:end_i]\n",
    "            yb = Y_train[start_i:end_i]\n",
    "            pred = model(xb)\n",
    "            loss = loss_func(pred, yb)\n",
    "\n",
    "            loss.backward()\n",
    "            with torch.no_grad():\n",
    "                for p in model.parameters():\n",
    "                    p -= p.grad * lr\n",
    "                model.zero_grad()\n",
    "\n",
    "\n",
    "fit()"
   ]
  },
  {
   "cell_type": "code",
   "execution_count": 24,
   "id": "0933c1f7",
   "metadata": {},
   "outputs": [
    {
     "name": "stdout",
     "output_type": "stream",
     "text": [
      "tensor(-3578.4766, grad_fn=<NegBackward>)\n"
     ]
    },
    {
     "data": {
      "application/javascript": [
       "\n",
       "            setTimeout(function() {\n",
       "                var nbb_cell_id = 24;\n",
       "                var nbb_unformatted_code = \"print(loss_func(model(xb), yb))\";\n",
       "                var nbb_formatted_code = \"print(loss_func(model(xb), yb))\";\n",
       "                var nbb_cells = Jupyter.notebook.get_cells();\n",
       "                for (var i = 0; i < nbb_cells.length; ++i) {\n",
       "                    if (nbb_cells[i].input_prompt_number == nbb_cell_id) {\n",
       "                        if (nbb_cells[i].get_text() == nbb_unformatted_code) {\n",
       "                             nbb_cells[i].set_text(nbb_formatted_code);\n",
       "                        }\n",
       "                        break;\n",
       "                    }\n",
       "                }\n",
       "            }, 500);\n",
       "            "
      ],
      "text/plain": [
       "<IPython.core.display.Javascript object>"
      ]
     },
     "metadata": {},
     "output_type": "display_data"
    }
   ],
   "source": [
    "print(loss_func(model(xb), yb))"
   ]
  },
  {
   "cell_type": "markdown",
   "id": "5a653c57",
   "metadata": {},
   "source": [
    "# Refactor 2"
   ]
  },
  {
   "cell_type": "code",
   "execution_count": 25,
   "id": "828f9b41",
   "metadata": {},
   "outputs": [
    {
     "data": {
      "application/javascript": [
       "\n",
       "            setTimeout(function() {\n",
       "                var nbb_cell_id = 25;\n",
       "                var nbb_unformatted_code = \"class Mnist_Logistic(nn.Module):\\n    def __init__(self):\\n        super().__init__()\\n        self.l1 = nn.Linear(784, 128)\\n        self.l2 = nn.Linear(128, 10)\\n\\n    def forward(self, xb):\\n        xb = self.l1(xb)\\n        xb = self.l2(xb)\\n        return xb\";\n",
       "                var nbb_formatted_code = \"class Mnist_Logistic(nn.Module):\\n    def __init__(self):\\n        super().__init__()\\n        self.l1 = nn.Linear(784, 128)\\n        self.l2 = nn.Linear(128, 10)\\n\\n    def forward(self, xb):\\n        xb = self.l1(xb)\\n        xb = self.l2(xb)\\n        return xb\";\n",
       "                var nbb_cells = Jupyter.notebook.get_cells();\n",
       "                for (var i = 0; i < nbb_cells.length; ++i) {\n",
       "                    if (nbb_cells[i].input_prompt_number == nbb_cell_id) {\n",
       "                        if (nbb_cells[i].get_text() == nbb_unformatted_code) {\n",
       "                             nbb_cells[i].set_text(nbb_formatted_code);\n",
       "                        }\n",
       "                        break;\n",
       "                    }\n",
       "                }\n",
       "            }, 500);\n",
       "            "
      ],
      "text/plain": [
       "<IPython.core.display.Javascript object>"
      ]
     },
     "metadata": {},
     "output_type": "display_data"
    }
   ],
   "source": [
    "class Mnist_Logistic(nn.Module):\n",
    "    def __init__(self):\n",
    "        super().__init__()\n",
    "        self.l1 = nn.Linear(784, 128)\n",
    "        self.l2 = nn.Linear(128, 10)\n",
    "\n",
    "    def forward(self, xb):\n",
    "        xb = self.l1(xb)\n",
    "        xb = self.l2(xb)\n",
    "        return xb"
   ]
  },
  {
   "cell_type": "code",
   "execution_count": 26,
   "id": "46a7f616",
   "metadata": {},
   "outputs": [
    {
     "data": {
      "application/javascript": [
       "\n",
       "            setTimeout(function() {\n",
       "                var nbb_cell_id = 26;\n",
       "                var nbb_unformatted_code = \"# Hyper\\ndevice = torch.device(\\\"cuda:1\\\")\\nmodel = Mnist_Logistic().to(device)\\nEPOCHS = 20\\nLR = 0.001\\nBS = 128\\nloss_function = nn.CrossEntropyLoss()\\noptimizer = optim.SGD(model.parameters(), lr=LR)\\nlosses, accuracies, = [], []\\ntrain_ds = TensorDataset(X_train.to(device), Y_train.to(device))\\ntrain_dl = DataLoader(train_ds, batch_size=BS, shuffle=True)\\ntest_ds = TensorDataset(X_test.to(device), Y_test.to(device))\\ntest_dl = DataLoader(test_ds, batch_size=BS * 2)\";\n",
       "                var nbb_formatted_code = \"# Hyper\\ndevice = torch.device(\\\"cuda:1\\\")\\nmodel = Mnist_Logistic().to(device)\\nEPOCHS = 20\\nLR = 0.001\\nBS = 128\\nloss_function = nn.CrossEntropyLoss()\\noptimizer = optim.SGD(model.parameters(), lr=LR)\\nlosses, accuracies, = [], []\\ntrain_ds = TensorDataset(X_train.to(device), Y_train.to(device))\\ntrain_dl = DataLoader(train_ds, batch_size=BS, shuffle=True)\\ntest_ds = TensorDataset(X_test.to(device), Y_test.to(device))\\ntest_dl = DataLoader(test_ds, batch_size=BS * 2)\";\n",
       "                var nbb_cells = Jupyter.notebook.get_cells();\n",
       "                for (var i = 0; i < nbb_cells.length; ++i) {\n",
       "                    if (nbb_cells[i].input_prompt_number == nbb_cell_id) {\n",
       "                        if (nbb_cells[i].get_text() == nbb_unformatted_code) {\n",
       "                             nbb_cells[i].set_text(nbb_formatted_code);\n",
       "                        }\n",
       "                        break;\n",
       "                    }\n",
       "                }\n",
       "            }, 500);\n",
       "            "
      ],
      "text/plain": [
       "<IPython.core.display.Javascript object>"
      ]
     },
     "metadata": {},
     "output_type": "display_data"
    }
   ],
   "source": [
    "# Hyper\n",
    "device = torch.device(\"cuda:1\")\n",
    "model = Mnist_Logistic().to(device)\n",
    "EPOCHS = 20\n",
    "LR = 0.001\n",
    "BS = 128\n",
    "loss_function = nn.CrossEntropyLoss()\n",
    "optimizer = optim.SGD(model.parameters(), lr=LR)\n",
    "losses, accuracies, = [], []\n",
    "train_ds = TensorDataset(X_train.to(device), Y_train.to(device))\n",
    "train_dl = DataLoader(train_ds, batch_size=BS, shuffle=True)\n",
    "test_ds = TensorDataset(X_test.to(device), Y_test.to(device))\n",
    "test_dl = DataLoader(test_ds, batch_size=BS * 2)"
   ]
  },
  {
   "cell_type": "code",
   "execution_count": 27,
   "id": "a2cb4a9b",
   "metadata": {},
   "outputs": [
    {
     "name": "stderr",
     "output_type": "stream",
     "text": [
      "loss 0.66 accuracy 0.85: 100%|██████████| 20/20 [00:15<00:00,  1.30it/s]\n"
     ]
    },
    {
     "data": {
      "application/javascript": [
       "\n",
       "            setTimeout(function() {\n",
       "                var nbb_cell_id = 27;\n",
       "                var nbb_unformatted_code = \"# Loop\\nfor epoch in (t := trange(EPOCHS)):\\n    for xb, yb in train_dl:\\n        \\n        optimizer.zero_grad()\\n        pred = model(xb)\\n        cat = torch.argmax(pred, dim=1)\\n        acc = (cat == yb).float().mean()\\n        loss = loss_function(pred, yb)\\n        loss.backward()\\n        optimizer.step()\\n        \\n        loss, acc = (loss.item(), acc.item())\\n        losses.append(loss)\\n        accuracies.append(acc)\\n        \\n        t.set_description(\\n        \\\"loss %.2f accuracy %.2f\\\"\\n        % (loss, acc)\\n        )\\n        \";\n",
       "                var nbb_formatted_code = \"# Loop\\nfor epoch in (t := trange(EPOCHS)) :\\n    for xb, yb in train_dl:\\n\\n        optimizer.zero_grad()\\n        pred = model(xb)\\n        cat = torch.argmax(pred, dim=1)\\n        acc = (cat == yb).float().mean()\\n        loss = loss_function(pred, yb)\\n        loss.backward()\\n        optimizer.step()\\n\\n        loss, acc = (loss.item(), acc.item())\\n        losses.append(loss)\\n        accuracies.append(acc)\\n\\n        t.set_description(\\\"loss %.2f accuracy %.2f\\\" % (loss, acc))\";\n",
       "                var nbb_cells = Jupyter.notebook.get_cells();\n",
       "                for (var i = 0; i < nbb_cells.length; ++i) {\n",
       "                    if (nbb_cells[i].input_prompt_number == nbb_cell_id) {\n",
       "                        if (nbb_cells[i].get_text() == nbb_unformatted_code) {\n",
       "                             nbb_cells[i].set_text(nbb_formatted_code);\n",
       "                        }\n",
       "                        break;\n",
       "                    }\n",
       "                }\n",
       "            }, 500);\n",
       "            "
      ],
      "text/plain": [
       "<IPython.core.display.Javascript object>"
      ]
     },
     "metadata": {},
     "output_type": "display_data"
    }
   ],
   "source": [
    "# Loop\n",
    "for epoch in (t := trange(EPOCHS)):\n",
    "    for xb, yb in train_dl:\n",
    "        \n",
    "        optimizer.zero_grad()\n",
    "        pred = model(xb)\n",
    "        cat = torch.argmax(pred, dim=1)\n",
    "        acc = (cat == yb).float().mean()\n",
    "        loss = loss_function(pred, yb)\n",
    "        loss.backward()\n",
    "        optimizer.step()\n",
    "        \n",
    "        loss, acc = (loss.item(), acc.item())\n",
    "        losses.append(loss)\n",
    "        accuracies.append(acc)\n",
    "        \n",
    "        t.set_description(\n",
    "        \"loss %.2f accuracy %.2f\"\n",
    "        % (loss, acc)\n",
    "        )\n",
    "        \n"
   ]
  },
  {
   "cell_type": "code",
   "execution_count": 28,
   "id": "2a02ba90",
   "metadata": {
    "scrolled": true
   },
   "outputs": [
    {
     "data": {
      "text/plain": [
       "[<matplotlib.lines.Line2D at 0x7f2d0cc282b0>]"
      ]
     },
     "execution_count": 28,
     "metadata": {},
     "output_type": "execute_result"
    },
    {
     "data": {
      "image/png": "[encoded data removed]",
      "text/plain": [
       "<Figure size 432x288 with 1 Axes>"
      ]
     },
     "metadata": {
      "needs_background": "light"
     },
     "output_type": "display_data"
    },
    {
     "data": {
      "application/javascript": [
       "\n",
       "            setTimeout(function() {\n",
       "                var nbb_cell_id = 28;\n",
       "                var nbb_unformatted_code = \"plt.ylim(-0.1, 1.2)\\nplot(losses)\\nplot(accuracies)\";\n",
       "                var nbb_formatted_code = \"plt.ylim(-0.1, 1.2)\\nplot(losses)\\nplot(accuracies)\";\n",
       "                var nbb_cells = Jupyter.notebook.get_cells();\n",
       "                for (var i = 0; i < nbb_cells.length; ++i) {\n",
       "                    if (nbb_cells[i].input_prompt_number == nbb_cell_id) {\n",
       "                        if (nbb_cells[i].get_text() == nbb_unformatted_code) {\n",
       "                             nbb_cells[i].set_text(nbb_formatted_code);\n",
       "                        }\n",
       "                        break;\n",
       "                    }\n",
       "                }\n",
       "            }, 500);\n",
       "            "
      ],
      "text/plain": [
       "<IPython.core.display.Javascript object>"
      ]
     },
     "metadata": {},
     "output_type": "display_data"
    }
   ],
   "source": [
    "plt.ylim(-0.1, 1.2)\n",
    "plot(losses)\n",
    "plot(accuracies)"
   ]
  },
  {
   "cell_type": "code",
   "execution_count": 29,
   "id": "cc19c2bb",
   "metadata": {
    "scrolled": true
   },
   "outputs": [
    {
     "data": {
      "text/plain": [
       "0.8683"
      ]
     },
     "execution_count": 29,
     "metadata": {},
     "output_type": "execute_result"
    },
    {
     "data": {
      "application/javascript": [
       "\n",
       "            setTimeout(function() {\n",
       "                var nbb_cell_id = 29;\n",
       "                var nbb_unformatted_code = \"preds = model.to(\\\"cpu\\\")(X_test).float()\\nY_test_preds = torch.argmax(preds, dim=1)\\n(Y_test == Y_test_preds).numpy().mean()\";\n",
       "                var nbb_formatted_code = \"preds = model.to(\\\"cpu\\\")(X_test).float()\\nY_test_preds = torch.argmax(preds, dim=1)\\n(Y_test == Y_test_preds).numpy().mean()\";\n",
       "                var nbb_cells = Jupyter.notebook.get_cells();\n",
       "                for (var i = 0; i < nbb_cells.length; ++i) {\n",
       "                    if (nbb_cells[i].input_prompt_number == nbb_cell_id) {\n",
       "                        if (nbb_cells[i].get_text() == nbb_unformatted_code) {\n",
       "                             nbb_cells[i].set_text(nbb_formatted_code);\n",
       "                        }\n",
       "                        break;\n",
       "                    }\n",
       "                }\n",
       "            }, 500);\n",
       "            "
      ],
      "text/plain": [
       "<IPython.core.display.Javascript object>"
      ]
     },
     "metadata": {},
     "output_type": "display_data"
    }
   ],
   "source": [
    "preds = model.to(\"cpu\")(X_test).float()\n",
    "Y_test_preds = torch.argmax(preds, dim=1)\n",
    "(Y_test == Y_test_preds).numpy().mean()"
   ]
  }
 ],
 "metadata": {
  "kernelspec": {
   "display_name": "dl",
   "language": "python",
   "name": "dl"
  },
  "language_info": {
   "codemirror_mode": {
    "name": "ipython",
    "version": 3
   },
   "file_extension": ".py",
   "mimetype": "text/x-python",
   "name": "python",
   "nbconvert_exporter": "python",
   "pygments_lexer": "ipython3",
   "version": "3.8.5"
  }
 },
 "nbformat": 4,
 "nbformat_minor": 5
}
