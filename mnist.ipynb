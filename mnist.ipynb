{
 "cells": [
  {
   "cell_type": "code",
   "execution_count": 1,
   "id": "7d78ab09",
   "metadata": {
    "ExecuteTime": {
     "end_time": "2022-04-25T19:20:54.579440Z",
     "start_time": "2022-04-25T19:20:53.230965Z"
    }
   },
   "outputs": [
    {
     "name": "stdout",
     "output_type": "stream",
     "text": [
      "%pylab is deprecated, use %matplotlib inline and import the required libraries.\n",
      "Populating the interactive namespace from numpy and matplotlib\n"
     ]
    },
    {
     "name": "stderr",
     "output_type": "stream",
     "text": [
      "/home/wan268/.conda/envs/torch/lib/python3.9/site-packages/tqdm/auto.py:22: TqdmWarning: IProgress not found. Please update jupyter and ipywidgets. See https://ipywidgets.readthedocs.io/en/stable/user_install.html\n",
      "  from .autonotebook import tqdm as notebook_tqdm\n"
     ]
    }
   ],
   "source": [
    "%pylab inline\n",
    "import numpy as np\n",
    "import requests, gzip, os, hashlib, numpy\n",
    "import torch\n",
    "import torch.nn as nn\n",
    "import torch.nn.functional as F\n",
    "from tqdm import trange\n",
    "from torchvision import datasets\n",
    "from torchvision.transforms import ToTensor"
   ]
  },
  {
   "cell_type": "code",
   "execution_count": 2,
   "id": "f01e1a56",
   "metadata": {
    "ExecuteTime": {
     "end_time": "2022-04-25T19:20:54.911451Z",
     "start_time": "2022-04-25T19:20:54.580904Z"
    }
   },
   "outputs": [],
   "source": [
    "def fetch(url):\n",
    "\n",
    "    fp = os.path.join(\"./tmp/\", hashlib.md5(url.encode(\"utf-8\")).hexdigest())\n",
    "    if os.path.isfile(fp):\n",
    "        with open(fp, \"rb\") as f:\n",
    "            dat = f.read()\n",
    "    else:\n",
    "        with open(fp, \"wb\") as f:\n",
    "            dat = requests.get(url).content\n",
    "            f.write(dat)\n",
    "    return numpy.frombuffer(gzip.decompress(dat), dtype=np.uint8).copy()\n",
    "\n",
    "\n",
    "X_train = fetch(\"http://yann.lecun.com/exdb/mnist/train-images-idx3-ubyte.gz\")[\n",
    "    0x10:\n",
    "].reshape((-1, 28, 28))\n",
    "Y_train = fetch(\"http://yann.lecun.com/exdb/mnist/train-labels-idx1-ubyte.gz\")[8:]\n",
    "X_test = fetch(\"http://yann.lecun.com/exdb/mnist/t10k-images-idx3-ubyte.gz\")[\n",
    "    0x10:\n",
    "].reshape((-1, 28 * 28))\n",
    "Y_test = fetch(\"http://yann.lecun.com/exdb/mnist/t10k-labels-idx1-ubyte.gz\")[8:]"
   ]
  },
  {
   "cell_type": "code",
   "execution_count": 3,
   "id": "07dba8da",
   "metadata": {
    "ExecuteTime": {
     "end_time": "2022-04-25T19:20:54.918076Z",
     "start_time": "2022-04-25T19:20:54.914288Z"
    }
   },
   "outputs": [],
   "source": [
    "class MnistNet(nn.Module):\n",
    "    def __init__(self):\n",
    "        super(MnistNet, self).__init__()\n",
    "        self.l1 = nn.Linear(784, 128)\n",
    "        self.act = nn.ReLU()\n",
    "        self.l2 = nn.Linear(128, 10)\n",
    "\n",
    "    def forward(self, x):\n",
    "        x = self.l1(x)\n",
    "        x = self.act(x)\n",
    "        x = self.l2(x)\n",
    "        return x"
   ]
  },
  {
   "cell_type": "code",
   "execution_count": 4,
   "id": "df3501ee",
   "metadata": {
    "ExecuteTime": {
     "end_time": "2022-04-25T19:21:03.710365Z",
     "start_time": "2022-04-25T19:20:54.919239Z"
    },
    "scrolled": true
   },
   "outputs": [
    {
     "name": "stderr",
     "output_type": "stream",
     "text": [
      "loss 0.23 accuracy 0.94: 100%|██████████| 2000/2000 [00:08<00:00, 227.82it/s]\n"
     ]
    }
   ],
   "source": [
    "# CPU\n",
    "model = MnistNet()\n",
    "BS = 32\n",
    "loss_function = nn.CrossEntropyLoss()\n",
    "optimizer = torch.optim.Adam(model.parameters())\n",
    "losses, accuracies = [], []\n",
    "for i in (t := trange(2000)) :\n",
    "    samp = np.random.randint(0, X_train.shape[0], size=BS)\n",
    "    X = torch.tensor(X_train[samp].reshape((-1, 28 * 28))).float()\n",
    "    Y = torch.tensor(Y_train[samp]).long()\n",
    "    optimizer.zero_grad()\n",
    "    out = model(X)\n",
    "    cat = torch.argmax(out, dim=1)\n",
    "    accuracy = (cat == Y).float().mean()\n",
    "    loss = loss_function(out, Y)\n",
    "    loss.backward()\n",
    "    optimizer.step()\n",
    "    loss, accuracy = (loss.item(), accuracy.item())\n",
    "    losses.append(loss)\n",
    "    accuracies.append(accuracy)\n",
    "    t.set_description(\"loss %.2f accuracy %.2f\" % (loss, accuracy))"
   ]
  },
  {
   "cell_type": "code",
   "execution_count": 5,
   "id": "bf91373e",
   "metadata": {
    "ExecuteTime": {
     "end_time": "2022-04-25T19:21:04.055993Z",
     "start_time": "2022-04-25T19:21:03.715295Z"
    }
   },
   "outputs": [
    {
     "data": {
      "text/plain": [
       "0.9306"
      ]
     },
     "execution_count": 5,
     "metadata": {},
     "output_type": "execute_result"
    },
    {
     "data": {
      "image/png": "[encoded data removed]",
      "text/plain": [
       "<Figure size 432x288 with 1 Axes>"
      ]
     },
     "metadata": {
      "needs_background": "light"
     },
     "output_type": "display_data"
    }
   ],
   "source": [
    "plt.ylim(-0.1, 1.2)\n",
    "plot(losses)\n",
    "plot(accuracies)\n",
    "\n",
    "Y_test_preds = torch.argmax(\n",
    "    model(torch.tensor(X_test.reshape((-1, 28 * 28))).float()), dim=1\n",
    ").numpy()\n",
    "(Y_test == Y_test_preds).mean()"
   ]
  },
  {
   "cell_type": "code",
   "execution_count": 6,
   "id": "af6cb38c",
   "metadata": {
    "ExecuteTime": {
     "end_time": "2022-04-25T19:21:09.882286Z",
     "start_time": "2022-04-25T19:21:04.057447Z"
    }
   },
   "outputs": [
    {
     "name": "stderr",
     "output_type": "stream",
     "text": [
      "loss 0.22 accuracy 0.94: 100%|██████████| 2000/2000 [00:03<00:00, 540.65it/s]\n"
     ]
    }
   ],
   "source": [
    "# GPU\n",
    "device = torch.device(\"cuda:0\")\n",
    "model = MnistNet().to(device)\n",
    "BS = 32\n",
    "loss_function = nn.CrossEntropyLoss()\n",
    "optimizer = torch.optim.Adam(model.parameters())\n",
    "losses, accuracies = [], []\n",
    "X_train_cuda = torch.tensor(X_train.reshape((-1, 28 * 28))).float().to(device)\n",
    "Y_train_cuda = torch.tensor(Y_train).long().to(device)\n",
    "\n",
    "for i in (t := trange(2000)) :\n",
    "    samp = np.random.randint(0, X_train.shape[0], size=BS)\n",
    "    X = X_train_cuda[samp]\n",
    "    Y = Y_train_cuda[samp]\n",
    "\n",
    "    out = model(X).to(device)\n",
    "    cat = torch.argmax(out, dim=1)\n",
    "    accuracy = (cat == Y).float().mean()\n",
    "    loss = loss_function(out, Y)\n",
    "    optimizer.zero_grad()\n",
    "    loss.backward()\n",
    "\n",
    "    optimizer.step()\n",
    "    loss, accuracy = (loss.item(), accuracy.item())\n",
    "    losses.append(loss)\n",
    "    accuracies.append(accuracy)\n",
    "    t.set_description(\"loss %.2f accuracy %.2f\" % (loss, accuracy))"
   ]
  },
  {
   "cell_type": "code",
   "execution_count": 7,
   "id": "6f824739",
   "metadata": {
    "ExecuteTime": {
     "end_time": "2022-04-25T19:21:10.000604Z",
     "start_time": "2022-04-25T19:21:09.883943Z"
    },
    "scrolled": true
   },
   "outputs": [
    {
     "data": {
      "text/plain": [
       "[<matplotlib.lines.Line2D at 0x7f143835e1c0>]"
      ]
     },
     "execution_count": 7,
     "metadata": {},
     "output_type": "execute_result"
    },
    {
     "data": {
      "image/png": "[encoded data removed]",
      "text/plain": [
       "<Figure size 432x288 with 1 Axes>"
      ]
     },
     "metadata": {
      "needs_background": "light"
     },
     "output_type": "display_data"
    }
   ],
   "source": [
    "plt.ylim(-0.1, 1.2)\n",
    "plot(losses)\n",
    "plot(accuracies)"
   ]
  },
  {
   "cell_type": "code",
   "execution_count": 8,
   "id": "ad85bc37",
   "metadata": {
    "ExecuteTime": {
     "end_time": "2022-04-25T19:21:10.024378Z",
     "start_time": "2022-04-25T19:21:10.002150Z"
    }
   },
   "outputs": [
    {
     "data": {
      "text/plain": [
       "0.9434"
      ]
     },
     "execution_count": 8,
     "metadata": {},
     "output_type": "execute_result"
    }
   ],
   "source": [
    "Y_test_preds = (\n",
    "    torch.argmax(\n",
    "        model(torch.tensor(X_test.reshape((-1, 28 * 28))).float().to(device)), dim=1,\n",
    "    )\n",
    "    .cpu()\n",
    "    .numpy()\n",
    ")\n",
    "(Y_test == Y_test_preds).mean()"
   ]
  },
  {
   "cell_type": "code",
   "execution_count": 9,
   "id": "abbd71d1",
   "metadata": {
    "ExecuteTime": {
     "end_time": "2022-04-25T19:21:10.030542Z",
     "start_time": "2022-04-25T19:21:10.027594Z"
    }
   },
   "outputs": [],
   "source": [
    "samp = [0, 1, 2, 3]\n",
    "model.zero_grad()\n",
    "m2 = model.to(\"cpu\")"
   ]
  },
  {
   "cell_type": "code",
   "execution_count": 10,
   "id": "608e5c59",
   "metadata": {
    "ExecuteTime": {
     "end_time": "2022-04-25T19:21:10.419475Z",
     "start_time": "2022-04-25T19:21:10.031391Z"
    }
   },
   "outputs": [
    {
     "data": {
      "text/plain": [
       "<matplotlib.image.AxesImage at 0x7f1438646b80>"
      ]
     },
     "execution_count": 10,
     "metadata": {},
     "output_type": "execute_result"
    },
    {
     "data": {
      "image/png": "[encoded data removed]",
      "text/plain": [
       "<Figure size 432x288 with 1 Axes>"
      ]
     },
     "metadata": {
      "needs_background": "light"
     },
     "output_type": "display_data"
    },
    {
     "data": {
      "image/png": "[encoded data removed]",
      "text/plain": [
       "<Figure size 432x288 with 1 Axes>"
      ]
     },
     "metadata": {
      "needs_background": "light"
     },
     "output_type": "display_data"
    }
   ],
   "source": [
    "# compute gradients in torch\n",
    "\n",
    "out = m2(torch.tensor(X_test[samp].reshape((-1, 28 * 28))).float())\n",
    "out.retain_grad()\n",
    "loss = loss_function(out, torch.tensor(Y_test[samp]).long()).mean()\n",
    "loss.retain_grad()\n",
    "loss.backward()\n",
    "imshow(model.l1.weight.grad)\n",
    "figure()\n",
    "imshow(model.l2.weight.grad)"
   ]
  },
  {
   "cell_type": "code",
   "execution_count": 11,
   "id": "04461f7e",
   "metadata": {
    "ExecuteTime": {
     "end_time": "2022-04-25T19:21:10.449016Z",
     "start_time": "2022-04-25T19:21:10.421012Z"
    }
   },
   "outputs": [
    {
     "data": {
      "text/plain": [
       "0.9434"
      ]
     },
     "execution_count": 11,
     "metadata": {},
     "output_type": "execute_result"
    }
   ],
   "source": [
    "# copy weights from pytorch\n",
    "l1 = model.l1.weight.detach().numpy().T\n",
    "l2 = model.l2.weight.detach().numpy().T\n",
    "\n",
    "# numpy forward pass\n",
    "def forward(x):\n",
    "    x = x.dot(l1)\n",
    "    x = np.maximum(x, 0)\n",
    "    x = x.dot(l2)\n",
    "    return x\n",
    "\n",
    "\n",
    "def numpy_eval():\n",
    "    Y_test_preds_out = forward(X_test.reshape((-1, 28 * 28)))\n",
    "    Y_test_preds = np.argmax(Y_test_preds_out, axis=1)\n",
    "    return (Y_test == Y_test_preds).mean()\n",
    "\n",
    "\n",
    "numpy_eval()"
   ]
  },
  {
   "cell_type": "code",
   "execution_count": 12,
   "id": "6f64f282",
   "metadata": {
    "ExecuteTime": {
     "end_time": "2022-04-25T19:21:10.629219Z",
     "start_time": "2022-04-25T19:21:10.451645Z"
    }
   },
   "outputs": [
    {
     "data": {
      "text/plain": [
       "<matplotlib.image.AxesImage at 0x7f143826c970>"
      ]
     },
     "execution_count": 12,
     "metadata": {},
     "output_type": "execute_result"
    },
    {
     "data": {
      "image/png": "[encoded data removed]",
      "text/plain": [
       "<Figure size 432x288 with 1 Axes>"
      ]
     },
     "metadata": {
      "needs_background": "light"
     },
     "output_type": "display_data"
    },
    {
     "data": {
      "image/png": "[encoded data removed]",
      "text/plain": [
       "<Figure size 432x288 with 1 Axes>"
      ]
     },
     "metadata": {
      "needs_background": "light"
     },
     "output_type": "display_data"
    }
   ],
   "source": [
    "# numpy forward and backward pass\n",
    "\n",
    "\n",
    "def logsumexp(x):\n",
    "    # return np.log(np.exp(x).sum(axis=1))\n",
    "    # http://gregorygundersen.com/blog/2020/02/09/log-sum-exp/\n",
    "    c = x.max(axis=1)\n",
    "    return c + np.log(np.exp(x - c.reshape((-1, 1))).sum(axis=1))\n",
    "\n",
    "\n",
    "def forward_backward(x, y):\n",
    "    # training\n",
    "    out = np.zeros((len(y), 10), np.float32)\n",
    "    out[range(out.shape[0]), y] = 1\n",
    "\n",
    "    # forward pass\n",
    "    x_l1 = x.dot(l1)\n",
    "    x_relu = np.maximum(x_l1, 0)\n",
    "    x_l2 = x_relu.dot(l2)\n",
    "    x_lsm = x_l2 - logsumexp(x_l2).reshape((-1, 1))\n",
    "    x_loss = (-out * x_lsm).mean(axis=1)\n",
    "\n",
    "    # training in numpy (super hard!)\n",
    "    # backward pass\n",
    "\n",
    "    # will involve x_lsm, x_l2, out, d_out and produce dx_sm\n",
    "    d_out = -out / len(y)\n",
    "\n",
    "    # derivative of logsoftmax\n",
    "    # https://github.com/torch/nn/blob/master/lib/THNN/generic/LogSoftMax.c\n",
    "    dx_lsm = d_out - np.exp(x_lsm) * d_out.sum(axis=1).reshape((-1, 1))\n",
    "\n",
    "    # derivative of l2\n",
    "    d_l2 = x_relu.T.dot(dx_lsm)\n",
    "    dx_relu = dx_lsm.dot(l2.T)\n",
    "\n",
    "    # derivative of relu\n",
    "    dx_l1 = (x_relu > 0).astype(np.float32) * dx_relu\n",
    "\n",
    "    # derivative of l1\n",
    "    d_l1 = x.T.dot(dx_l1)\n",
    "\n",
    "    return x_loss, x_l2, d_l1, d_l2\n",
    "\n",
    "\n",
    "samp = [0, 1, 2, 3]\n",
    "x_loss, x_l2, d_l1, d_l2 = forward_backward(\n",
    "    X_test[samp].reshape((-1, 28 * 28)), Y_test[samp]\n",
    ")\n",
    "\n",
    "imshow(d_l1.T)\n",
    "figure()\n",
    "imshow(d_l2.T)"
   ]
  },
  {
   "cell_type": "code",
   "execution_count": null,
   "id": "c9b91cee",
   "metadata": {},
   "outputs": [],
   "source": []
  }
 ],
 "metadata": {
  "kernelspec": {
   "display_name": "torch",
   "language": "python",
   "name": "torch"
  },
  "language_info": {
   "codemirror_mode": {
    "name": "ipython",
    "version": 3
   },
   "file_extension": ".py",
   "mimetype": "text/x-python",
   "name": "python",
   "nbconvert_exporter": "python",
   "pygments_lexer": "ipython3",
   "version": "3.9.7"
  },
  "varInspector": {
   "cols": {
    "lenName": 16,
    "lenType": 16,
    "lenVar": 40
   },
   "kernels_config": {
    "python": {
     "delete_cmd_postfix": "",
     "delete_cmd_prefix": "del ",
     "library": "var_list.py",
     "varRefreshCmd": "print(var_dic_list())"
    },
    "r": {
     "delete_cmd_postfix": ") ",
     "delete_cmd_prefix": "rm(",
     "library": "var_list.r",
     "varRefreshCmd": "cat(var_dic_list()) "
    }
   },
   "types_to_exclude": [
    "module",
    "function",
    "builtin_function_or_method",
    "instance",
    "_Feature"
   ],
   "window_display": false
  }
 },
 "nbformat": 4,
 "nbformat_minor": 5
}
