{
 "cells": [
  {
   "cell_type": "code",
   "execution_count": 1,
   "id": "7d78ab09",
   "metadata": {},
   "outputs": [
    {
     "name": "stdout",
     "output_type": "stream",
     "text": [
      "Populating the interactive namespace from numpy and matplotlib\n"
     ]
    },
    {
     "data": {
      "application/javascript": [
       "\n",
       "            setTimeout(function() {\n",
       "                var nbb_cell_id = 1;\n",
       "                var nbb_unformatted_code = \"%pylab inline\\n%load_ext nb_black\\nimport numpy as np\\nimport requests, gzip, os, hashlib, numpy\\nimport torch\\nimport torch.nn as nn\\nimport torch.nn.functional as F\\nfrom tqdm import trange\\nfrom torchvision import datasets\\nfrom torchvision.transforms import ToTensor\";\n",
       "                var nbb_formatted_code = \"%pylab inline\\n%load_ext nb_black\\nimport numpy as np\\nimport requests, gzip, os, hashlib, numpy\\nimport torch\\nimport torch.nn as nn\\nimport torch.nn.functional as F\\nfrom tqdm import trange\\nfrom torchvision import datasets\\nfrom torchvision.transforms import ToTensor\";\n",
       "                var nbb_cells = Jupyter.notebook.get_cells();\n",
       "                for (var i = 0; i < nbb_cells.length; ++i) {\n",
       "                    if (nbb_cells[i].input_prompt_number == nbb_cell_id) {\n",
       "                        if (nbb_cells[i].get_text() == nbb_unformatted_code) {\n",
       "                             nbb_cells[i].set_text(nbb_formatted_code);\n",
       "                        }\n",
       "                        break;\n",
       "                    }\n",
       "                }\n",
       "            }, 500);\n",
       "            "
      ],
      "text/plain": [
       "<IPython.core.display.Javascript object>"
      ]
     },
     "metadata": {},
     "output_type": "display_data"
    }
   ],
   "source": [
    "%pylab inline\n",
    "%load_ext nb_black\n",
    "import numpy as np\n",
    "import requests, gzip, os, hashlib, numpy\n",
    "import torch\n",
    "import torch.nn as nn\n",
    "import torch.nn.functional as F\n",
    "from tqdm import trange\n",
    "from torchvision import datasets\n",
    "from torchvision.transforms import ToTensor"
   ]
  },
  {
   "cell_type": "code",
   "execution_count": 2,
   "id": "f01e1a56",
   "metadata": {},
   "outputs": [
    {
     "data": {
      "application/javascript": [
       "\n",
       "            setTimeout(function() {\n",
       "                var nbb_cell_id = 2;\n",
       "                var nbb_unformatted_code = \"def fetch(url):\\n\\n    fp = os.path.join(\\\"/home/wan268/tmp/\\\", hashlib.md5(url.encode(\\\"utf-8\\\")).hexdigest())\\n    if os.path.isfile(fp):\\n        with open(fp, \\\"rb\\\") as f:\\n            dat = f.read()\\n    else:\\n        with open(fp, \\\"wb\\\") as f:\\n            dat = requests.get(url).content\\n            f.write(dat)\\n    return numpy.frombuffer(gzip.decompress(dat), dtype=np.uint8).copy()\\n\\n\\nX_train = fetch(\\\"http://yann.lecun.com/exdb/mnist/train-images-idx3-ubyte.gz\\\")[\\n    0x10:\\n].reshape((-1, 28, 28))\\nY_train = fetch(\\\"http://yann.lecun.com/exdb/mnist/train-labels-idx1-ubyte.gz\\\")[8:]\\nX_test = fetch(\\\"http://yann.lecun.com/exdb/mnist/t10k-images-idx3-ubyte.gz\\\")[\\n    0x10:\\n].reshape((-1, 28 * 28))\\nY_test = fetch(\\\"http://yann.lecun.com/exdb/mnist/t10k-labels-idx1-ubyte.gz\\\")[8:]\";\n",
       "                var nbb_formatted_code = \"def fetch(url):\\n\\n    fp = os.path.join(\\\"/home/wan268/tmp/\\\", hashlib.md5(url.encode(\\\"utf-8\\\")).hexdigest())\\n    if os.path.isfile(fp):\\n        with open(fp, \\\"rb\\\") as f:\\n            dat = f.read()\\n    else:\\n        with open(fp, \\\"wb\\\") as f:\\n            dat = requests.get(url).content\\n            f.write(dat)\\n    return numpy.frombuffer(gzip.decompress(dat), dtype=np.uint8).copy()\\n\\n\\nX_train = fetch(\\\"http://yann.lecun.com/exdb/mnist/train-images-idx3-ubyte.gz\\\")[\\n    0x10:\\n].reshape((-1, 28, 28))\\nY_train = fetch(\\\"http://yann.lecun.com/exdb/mnist/train-labels-idx1-ubyte.gz\\\")[8:]\\nX_test = fetch(\\\"http://yann.lecun.com/exdb/mnist/t10k-images-idx3-ubyte.gz\\\")[\\n    0x10:\\n].reshape((-1, 28 * 28))\\nY_test = fetch(\\\"http://yann.lecun.com/exdb/mnist/t10k-labels-idx1-ubyte.gz\\\")[8:]\";\n",
       "                var nbb_cells = Jupyter.notebook.get_cells();\n",
       "                for (var i = 0; i < nbb_cells.length; ++i) {\n",
       "                    if (nbb_cells[i].input_prompt_number == nbb_cell_id) {\n",
       "                        if (nbb_cells[i].get_text() == nbb_unformatted_code) {\n",
       "                             nbb_cells[i].set_text(nbb_formatted_code);\n",
       "                        }\n",
       "                        break;\n",
       "                    }\n",
       "                }\n",
       "            }, 500);\n",
       "            "
      ],
      "text/plain": [
       "<IPython.core.display.Javascript object>"
      ]
     },
     "metadata": {},
     "output_type": "display_data"
    }
   ],
   "source": [
    "def fetch(url):\n",
    "\n",
    "    fp = os.path.join(\"/home/wan268/tmp/\", hashlib.md5(url.encode(\"utf-8\")).hexdigest())\n",
    "    if os.path.isfile(fp):\n",
    "        with open(fp, \"rb\") as f:\n",
    "            dat = f.read()\n",
    "    else:\n",
    "        with open(fp, \"wb\") as f:\n",
    "            dat = requests.get(url).content\n",
    "            f.write(dat)\n",
    "    return numpy.frombuffer(gzip.decompress(dat), dtype=np.uint8).copy()\n",
    "\n",
    "\n",
    "X_train = fetch(\"http://yann.lecun.com/exdb/mnist/train-images-idx3-ubyte.gz\")[\n",
    "    0x10:\n",
    "].reshape((-1, 28, 28))\n",
    "Y_train = fetch(\"http://yann.lecun.com/exdb/mnist/train-labels-idx1-ubyte.gz\")[8:]\n",
    "X_test = fetch(\"http://yann.lecun.com/exdb/mnist/t10k-images-idx3-ubyte.gz\")[\n",
    "    0x10:\n",
    "].reshape((-1, 28 * 28))\n",
    "Y_test = fetch(\"http://yann.lecun.com/exdb/mnist/t10k-labels-idx1-ubyte.gz\")[8:]"
   ]
  },
  {
   "cell_type": "code",
   "execution_count": 3,
   "id": "07dba8da",
   "metadata": {},
   "outputs": [
    {
     "data": {
      "application/javascript": [
       "\n",
       "            setTimeout(function() {\n",
       "                var nbb_cell_id = 3;\n",
       "                var nbb_unformatted_code = \"class MnistNet(nn.Module):\\n    def __init__(self):\\n        super(MnistNet, self).__init__()\\n        self.l1 = nn.Linear(784, 128)\\n        self.act = nn.ReLU()\\n        self.l2 = nn.Linear(128, 10)\\n\\n    def forward(self, x):\\n        x = self.l1(x)\\n        x = self.act(x)\\n        x = self.l2(x)\\n        return x\";\n",
       "                var nbb_formatted_code = \"class MnistNet(nn.Module):\\n    def __init__(self):\\n        super(MnistNet, self).__init__()\\n        self.l1 = nn.Linear(784, 128)\\n        self.act = nn.ReLU()\\n        self.l2 = nn.Linear(128, 10)\\n\\n    def forward(self, x):\\n        x = self.l1(x)\\n        x = self.act(x)\\n        x = self.l2(x)\\n        return x\";\n",
       "                var nbb_cells = Jupyter.notebook.get_cells();\n",
       "                for (var i = 0; i < nbb_cells.length; ++i) {\n",
       "                    if (nbb_cells[i].input_prompt_number == nbb_cell_id) {\n",
       "                        if (nbb_cells[i].get_text() == nbb_unformatted_code) {\n",
       "                             nbb_cells[i].set_text(nbb_formatted_code);\n",
       "                        }\n",
       "                        break;\n",
       "                    }\n",
       "                }\n",
       "            }, 500);\n",
       "            "
      ],
      "text/plain": [
       "<IPython.core.display.Javascript object>"
      ]
     },
     "metadata": {},
     "output_type": "display_data"
    }
   ],
   "source": [
    "class MnistNet(nn.Module):\n",
    "    def __init__(self):\n",
    "        super(MnistNet, self).__init__()\n",
    "        self.l1 = nn.Linear(784, 128)\n",
    "        self.act = nn.ReLU()\n",
    "        self.l2 = nn.Linear(128, 10)\n",
    "\n",
    "    def forward(self, x):\n",
    "        x = self.l1(x)\n",
    "        x = self.act(x)\n",
    "        x = self.l2(x)\n",
    "        return x"
   ]
  },
  {
   "cell_type": "code",
   "execution_count": 4,
   "id": "df3501ee",
   "metadata": {
    "scrolled": true
   },
   "outputs": [
    {
     "name": "stderr",
     "output_type": "stream",
     "text": [
      "loss 0.07 accuracy 1.00: 100%|██████████| 2000/2000 [00:07<00:00, 270.79it/s]\n"
     ]
    },
    {
     "data": {
      "application/javascript": [
       "\n",
       "            setTimeout(function() {\n",
       "                var nbb_cell_id = 4;\n",
       "                var nbb_unformatted_code = \"# CPU\\nmodel = MnistNet()\\nBS = 32\\nloss_function = nn.CrossEntropyLoss()\\noptimizer = torch.optim.Adam(model.parameters())\\nlosses, accuracies = [], []\\nfor i in (t := trange(2000)) :\\n    samp = np.random.randint(0, X_train.shape[0], size=BS)\\n    X = torch.tensor(X_train[samp].reshape((-1, 28 * 28))).float()\\n    Y = torch.tensor(Y_train[samp]).long()\\n    optimizer.zero_grad()\\n    out = model(X)\\n    cat = torch.argmax(out, dim=1)\\n    accuracy = (cat == Y).float().mean()\\n    loss = loss_function(out, Y)\\n    loss.backward()\\n    optimizer.step()\\n    loss, accuracy = (loss.item(), accuracy.item())\\n    losses.append(loss)\\n    accuracies.append(accuracy)\\n    t.set_description(\\\"loss %.2f accuracy %.2f\\\" % (loss, accuracy))\";\n",
       "                var nbb_formatted_code = \"# CPU\\nmodel = MnistNet()\\nBS = 32\\nloss_function = nn.CrossEntropyLoss()\\noptimizer = torch.optim.Adam(model.parameters())\\nlosses, accuracies = [], []\\nfor i in (t := trange(2000)) :\\n    samp = np.random.randint(0, X_train.shape[0], size=BS)\\n    X = torch.tensor(X_train[samp].reshape((-1, 28 * 28))).float()\\n    Y = torch.tensor(Y_train[samp]).long()\\n    optimizer.zero_grad()\\n    out = model(X)\\n    cat = torch.argmax(out, dim=1)\\n    accuracy = (cat == Y).float().mean()\\n    loss = loss_function(out, Y)\\n    loss.backward()\\n    optimizer.step()\\n    loss, accuracy = (loss.item(), accuracy.item())\\n    losses.append(loss)\\n    accuracies.append(accuracy)\\n    t.set_description(\\\"loss %.2f accuracy %.2f\\\" % (loss, accuracy))\";\n",
       "                var nbb_cells = Jupyter.notebook.get_cells();\n",
       "                for (var i = 0; i < nbb_cells.length; ++i) {\n",
       "                    if (nbb_cells[i].input_prompt_number == nbb_cell_id) {\n",
       "                        if (nbb_cells[i].get_text() == nbb_unformatted_code) {\n",
       "                             nbb_cells[i].set_text(nbb_formatted_code);\n",
       "                        }\n",
       "                        break;\n",
       "                    }\n",
       "                }\n",
       "            }, 500);\n",
       "            "
      ],
      "text/plain": [
       "<IPython.core.display.Javascript object>"
      ]
     },
     "metadata": {},
     "output_type": "display_data"
    }
   ],
   "source": [
    "# CPU\n",
    "model = MnistNet()\n",
    "BS = 32\n",
    "loss_function = nn.CrossEntropyLoss()\n",
    "optimizer = torch.optim.Adam(model.parameters())\n",
    "losses, accuracies = [], []\n",
    "for i in (t := trange(2000)) :\n",
    "    samp = np.random.randint(0, X_train.shape[0], size=BS)\n",
    "    X = torch.tensor(X_train[samp].reshape((-1, 28 * 28))).float()\n",
    "    Y = torch.tensor(Y_train[samp]).long()\n",
    "    optimizer.zero_grad()\n",
    "    out = model(X)\n",
    "    cat = torch.argmax(out, dim=1)\n",
    "    accuracy = (cat == Y).float().mean()\n",
    "    loss = loss_function(out, Y)\n",
    "    loss.backward()\n",
    "    optimizer.step()\n",
    "    loss, accuracy = (loss.item(), accuracy.item())\n",
    "    losses.append(loss)\n",
    "    accuracies.append(accuracy)\n",
    "    t.set_description(\"loss %.2f accuracy %.2f\" % (loss, accuracy))"
   ]
  },
  {
   "cell_type": "code",
   "execution_count": 5,
   "id": "bf91373e",
   "metadata": {},
   "outputs": [
    {
     "data": {
      "text/plain": [
       "0.9249"
      ]
     },
     "execution_count": 5,
     "metadata": {},
     "output_type": "execute_result"
    },
    {
     "data": {
      "image/png": "[encoded data removed]",
      "text/plain": [
       "<Figure size 432x288 with 1 Axes>"
      ]
     },
     "metadata": {
      "needs_background": "light"
     },
     "output_type": "display_data"
    },
    {
     "data": {
      "application/javascript": [
       "\n",
       "            setTimeout(function() {\n",
       "                var nbb_cell_id = 5;\n",
       "                var nbb_unformatted_code = \"plt.ylim(-0.1, 1.2)\\nplot(losses)\\nplot(accuracies)\\n\\nY_test_preds = torch.argmax(\\n    model(torch.tensor(X_test.reshape((-1, 28 * 28))).float()), dim=1\\n).numpy()\\n(Y_test == Y_test_preds).mean()\";\n",
       "                var nbb_formatted_code = \"plt.ylim(-0.1, 1.2)\\nplot(losses)\\nplot(accuracies)\\n\\nY_test_preds = torch.argmax(\\n    model(torch.tensor(X_test.reshape((-1, 28 * 28))).float()), dim=1\\n).numpy()\\n(Y_test == Y_test_preds).mean()\";\n",
       "                var nbb_cells = Jupyter.notebook.get_cells();\n",
       "                for (var i = 0; i < nbb_cells.length; ++i) {\n",
       "                    if (nbb_cells[i].input_prompt_number == nbb_cell_id) {\n",
       "                        if (nbb_cells[i].get_text() == nbb_unformatted_code) {\n",
       "                             nbb_cells[i].set_text(nbb_formatted_code);\n",
       "                        }\n",
       "                        break;\n",
       "                    }\n",
       "                }\n",
       "            }, 500);\n",
       "            "
      ],
      "text/plain": [
       "<IPython.core.display.Javascript object>"
      ]
     },
     "metadata": {},
     "output_type": "display_data"
    }
   ],
   "source": [
    "plt.ylim(-0.1, 1.2)\n",
    "plot(losses)\n",
    "plot(accuracies)\n",
    "\n",
    "Y_test_preds = torch.argmax(\n",
    "    model(torch.tensor(X_test.reshape((-1, 28 * 28))).float()), dim=1\n",
    ").numpy()\n",
    "(Y_test == Y_test_preds).mean()"
   ]
  },
  {
   "cell_type": "code",
   "execution_count": 16,
   "id": "af6cb38c",
   "metadata": {},
   "outputs": [
    {
     "name": "stderr",
     "output_type": "stream",
     "text": [
      "loss 0.15 accuracy 0.94: 100%|██████████| 2000/2000 [00:02<00:00, 768.67it/s]\n"
     ]
    },
    {
     "data": {
      "application/javascript": [
       "\n",
       "            setTimeout(function() {\n",
       "                var nbb_cell_id = 16;\n",
       "                var nbb_unformatted_code = \"# GPU\\ndevice = torch.device(\\\"cuda:0\\\")\\nmodel = MnistNet().to(device)\\nBS = 32\\nloss_function = nn.CrossEntropyLoss()\\noptimizer = torch.optim.Adam(model.parameters())\\nlosses, accuracies = [], []\\nX_train_cuda = torch.tensor(X_train.reshape((-1, 28 * 28))).float().to(device)\\nY_train_cuda = torch.tensor(Y_train).long().to(device)\\n\\nfor i in (t := trange(2000)) :\\n    samp = np.random.randint(0, X_train.shape[0], size=BS)\\n    X = X_train_cuda[samp]\\n    Y = Y_train_cuda[samp]\\n\\n    out = model(X).to(device)\\n    cat = torch.argmax(out, dim=1)\\n    accuracy = (cat == Y).float().mean()\\n    loss = loss_function(out, Y)\\n    optimizer.zero_grad()\\n    loss.backward()\\n\\n    optimizer.step()\\n    loss, accuracy = (loss.item(), accuracy.item())\\n    losses.append(loss)\\n    accuracies.append(accuracy)\\n    t.set_description(\\\"loss %.2f accuracy %.2f\\\" % (loss, accuracy))\";\n",
       "                var nbb_formatted_code = \"# GPU\\ndevice = torch.device(\\\"cuda:0\\\")\\nmodel = MnistNet().to(device)\\nBS = 32\\nloss_function = nn.CrossEntropyLoss()\\noptimizer = torch.optim.Adam(model.parameters())\\nlosses, accuracies = [], []\\nX_train_cuda = torch.tensor(X_train.reshape((-1, 28 * 28))).float().to(device)\\nY_train_cuda = torch.tensor(Y_train).long().to(device)\\n\\nfor i in (t := trange(2000)) :\\n    samp = np.random.randint(0, X_train.shape[0], size=BS)\\n    X = X_train_cuda[samp]\\n    Y = Y_train_cuda[samp]\\n\\n    out = model(X).to(device)\\n    cat = torch.argmax(out, dim=1)\\n    accuracy = (cat == Y).float().mean()\\n    loss = loss_function(out, Y)\\n    optimizer.zero_grad()\\n    loss.backward()\\n\\n    optimizer.step()\\n    loss, accuracy = (loss.item(), accuracy.item())\\n    losses.append(loss)\\n    accuracies.append(accuracy)\\n    t.set_description(\\\"loss %.2f accuracy %.2f\\\" % (loss, accuracy))\";\n",
       "                var nbb_cells = Jupyter.notebook.get_cells();\n",
       "                for (var i = 0; i < nbb_cells.length; ++i) {\n",
       "                    if (nbb_cells[i].input_prompt_number == nbb_cell_id) {\n",
       "                        if (nbb_cells[i].get_text() == nbb_unformatted_code) {\n",
       "                             nbb_cells[i].set_text(nbb_formatted_code);\n",
       "                        }\n",
       "                        break;\n",
       "                    }\n",
       "                }\n",
       "            }, 500);\n",
       "            "
      ],
      "text/plain": [
       "<IPython.core.display.Javascript object>"
      ]
     },
     "metadata": {},
     "output_type": "display_data"
    }
   ],
   "source": [
    "# GPU\n",
    "device = torch.device(\"cuda:0\")\n",
    "model = MnistNet().to(device)\n",
    "BS = 32\n",
    "loss_function = nn.CrossEntropyLoss()\n",
    "optimizer = torch.optim.Adam(model.parameters())\n",
    "losses, accuracies = [], []\n",
    "X_train_cuda = torch.tensor(X_train.reshape((-1, 28 * 28))).float().to(device)\n",
    "Y_train_cuda = torch.tensor(Y_train).long().to(device)\n",
    "\n",
    "for i in (t := trange(2000)) :\n",
    "    samp = np.random.randint(0, X_train.shape[0], size=BS)\n",
    "    X = X_train_cuda[samp]\n",
    "    Y = Y_train_cuda[samp]\n",
    "\n",
    "    out = model(X).to(device)\n",
    "    cat = torch.argmax(out, dim=1)\n",
    "    accuracy = (cat == Y).float().mean()\n",
    "    loss = loss_function(out, Y)\n",
    "    optimizer.zero_grad()\n",
    "    loss.backward()\n",
    "\n",
    "    optimizer.step()\n",
    "    loss, accuracy = (loss.item(), accuracy.item())\n",
    "    losses.append(loss)\n",
    "    accuracies.append(accuracy)\n",
    "    t.set_description(\"loss %.2f accuracy %.2f\" % (loss, accuracy))"
   ]
  },
  {
   "cell_type": "code",
   "execution_count": 12,
   "id": "6f824739",
   "metadata": {
    "scrolled": true
   },
   "outputs": [
    {
     "data": {
      "text/plain": [
       "[<matplotlib.lines.Line2D at 0x7f5f981285b0>]"
      ]
     },
     "execution_count": 12,
     "metadata": {},
     "output_type": "execute_result"
    },
    {
     "data": {
      "image/png": "[encoded data removed]",
      "text/plain": [
       "<Figure size 432x288 with 1 Axes>"
      ]
     },
     "metadata": {
      "needs_background": "light"
     },
     "output_type": "display_data"
    },
    {
     "data": {
      "application/javascript": [
       "\n",
       "            setTimeout(function() {\n",
       "                var nbb_cell_id = 12;\n",
       "                var nbb_unformatted_code = \"plt.ylim(-0.1, 1.2)\\nplot(losses)\\nplot(accuracies)\";\n",
       "                var nbb_formatted_code = \"plt.ylim(-0.1, 1.2)\\nplot(losses)\\nplot(accuracies)\";\n",
       "                var nbb_cells = Jupyter.notebook.get_cells();\n",
       "                for (var i = 0; i < nbb_cells.length; ++i) {\n",
       "                    if (nbb_cells[i].input_prompt_number == nbb_cell_id) {\n",
       "                        if (nbb_cells[i].get_text() == nbb_unformatted_code) {\n",
       "                             nbb_cells[i].set_text(nbb_formatted_code);\n",
       "                        }\n",
       "                        break;\n",
       "                    }\n",
       "                }\n",
       "            }, 500);\n",
       "            "
      ],
      "text/plain": [
       "<IPython.core.display.Javascript object>"
      ]
     },
     "metadata": {},
     "output_type": "display_data"
    }
   ],
   "source": [
    "plt.ylim(-0.1, 1.2)\n",
    "plot(losses)\n",
    "plot(accuracies)\n"
   ]
  },
  {
   "cell_type": "code",
   "execution_count": 13,
   "id": "ad85bc37",
   "metadata": {},
   "outputs": [
    {
     "data": {
      "text/plain": [
       "0.9421"
      ]
     },
     "execution_count": 13,
     "metadata": {},
     "output_type": "execute_result"
    },
    {
     "data": {
      "application/javascript": [
       "\n",
       "            setTimeout(function() {\n",
       "                var nbb_cell_id = 13;\n",
       "                var nbb_unformatted_code = \"Y_test_preds = (\\n    torch.argmax(\\n        model(torch.tensor(X_test.reshape((-1, 28 * 28))).float().to(device)), dim=1,\\n    )\\n    .cpu()\\n    .numpy()\\n)\\n(Y_test == Y_test_preds).mean()\";\n",
       "                var nbb_formatted_code = \"Y_test_preds = (\\n    torch.argmax(\\n        model(torch.tensor(X_test.reshape((-1, 28 * 28))).float().to(device)), dim=1,\\n    )\\n    .cpu()\\n    .numpy()\\n)\\n(Y_test == Y_test_preds).mean()\";\n",
       "                var nbb_cells = Jupyter.notebook.get_cells();\n",
       "                for (var i = 0; i < nbb_cells.length; ++i) {\n",
       "                    if (nbb_cells[i].input_prompt_number == nbb_cell_id) {\n",
       "                        if (nbb_cells[i].get_text() == nbb_unformatted_code) {\n",
       "                             nbb_cells[i].set_text(nbb_formatted_code);\n",
       "                        }\n",
       "                        break;\n",
       "                    }\n",
       "                }\n",
       "            }, 500);\n",
       "            "
      ],
      "text/plain": [
       "<IPython.core.display.Javascript object>"
      ]
     },
     "metadata": {},
     "output_type": "display_data"
    }
   ],
   "source": [
    "Y_test_preds = (\n",
    "    torch.argmax(\n",
    "        model(torch.tensor(X_test.reshape((-1, 28 * 28))).float().to(device)), dim=1,\n",
    "    )\n",
    "    .cpu()\n",
    "    .numpy()\n",
    ")\n",
    "(Y_test == Y_test_preds).mean()"
   ]
  },
  {
   "cell_type": "code",
   "execution_count": null,
   "id": "608e5c59",
   "metadata": {},
   "outputs": [],
   "source": []
  },
  {
   "cell_type": "code",
   "execution_count": null,
   "id": "6f64f282",
   "metadata": {},
   "outputs": [],
   "source": []
  }
 ],
 "metadata": {
  "kernelspec": {
   "display_name": "dl",
   "language": "python",
   "name": "dl"
  },
  "language_info": {
   "codemirror_mode": {
    "name": "ipython",
    "version": 3
   },
   "file_extension": ".py",
   "mimetype": "text/x-python",
   "name": "python",
   "nbconvert_exporter": "python",
   "pygments_lexer": "ipython3",
   "version": "3.8.5"
  }
 },
 "nbformat": 4,
 "nbformat_minor": 5
}
