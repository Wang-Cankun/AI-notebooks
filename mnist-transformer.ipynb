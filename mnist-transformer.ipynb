{
 "cells": [
  {
   "cell_type": "code",
   "execution_count": 1,
   "id": "7d78ab09",
   "metadata": {
    "deletable": false,
    "editable": false,
    "run_control": {
     "frozen": true
    }
   },
   "outputs": [
    {
     "name": "stdout",
     "output_type": "stream",
     "text": [
      "Populating the interactive namespace from numpy and matplotlib\n"
     ]
    },
    {
     "data": {
      "application/javascript": [
       "\n",
       "            setTimeout(function() {\n",
       "                var nbb_cell_id = 1;\n",
       "                var nbb_unformatted_code = \"%pylab inline\\n%load_ext nb_black\\nimport numpy as np\\nimport requests, gzip, os, hashlib, numpy\\nimport torch\\nimport torch.nn as nn\\nimport torch.nn.functional as F\\nfrom tqdm import trange\\nfrom torchvision import datasets\\nfrom torchvision.transforms import ToTensor\";\n",
       "                var nbb_formatted_code = \"%pylab inline\\n%load_ext nb_black\\nimport numpy as np\\nimport requests, gzip, os, hashlib, numpy\\nimport torch\\nimport torch.nn as nn\\nimport torch.nn.functional as F\\nfrom tqdm import trange\\nfrom torchvision import datasets\\nfrom torchvision.transforms import ToTensor\";\n",
       "                var nbb_cells = Jupyter.notebook.get_cells();\n",
       "                for (var i = 0; i < nbb_cells.length; ++i) {\n",
       "                    if (nbb_cells[i].input_prompt_number == nbb_cell_id) {\n",
       "                        if (nbb_cells[i].get_text() == nbb_unformatted_code) {\n",
       "                             nbb_cells[i].set_text(nbb_formatted_code);\n",
       "                        }\n",
       "                        break;\n",
       "                    }\n",
       "                }\n",
       "            }, 500);\n",
       "            "
      ],
      "text/plain": [
       "<IPython.core.display.Javascript object>"
      ]
     },
     "metadata": {},
     "output_type": "display_data"
    }
   ],
   "source": [
    "%pylab inline\n",
    "%load_ext nb_black\n",
    "import numpy as np\n",
    "import requests, gzip, os, hashlib, numpy\n",
    "import torch\n",
    "import torch.nn as nn\n",
    "import torch.nn.functional as F\n",
    "from tqdm import trange\n",
    "from torchvision import datasets\n",
    "from torchvision.transforms import ToTensor"
   ]
  },
  {
   "cell_type": "code",
   "execution_count": 2,
   "id": "f01e1a56",
   "metadata": {},
   "outputs": [
    {
     "data": {
      "application/javascript": [
       "\n",
       "            setTimeout(function() {\n",
       "                var nbb_cell_id = 2;\n",
       "                var nbb_unformatted_code = \"def fetch(url):\\n\\n    fp = os.path.join(\\\"/home/wan268/tmp/\\\", hashlib.md5(url.encode(\\\"utf-8\\\")).hexdigest())\\n    if os.path.isfile(fp):\\n        with open(fp, \\\"rb\\\") as f:\\n            dat = f.read()\\n    else:\\n        with open(fp, \\\"wb\\\") as f:\\n            dat = requests.get(url).content\\n            f.write(dat)\\n    return numpy.frombuffer(gzip.decompress(dat), dtype=np.uint8).copy()\\n\\n\\nX_train = fetch(\\\"http://yann.lecun.com/exdb/mnist/train-images-idx3-ubyte.gz\\\")[\\n    0x10:\\n].reshape((-1, 28, 28))\\nY_train = fetch(\\\"http://yann.lecun.com/exdb/mnist/train-labels-idx1-ubyte.gz\\\")[8:]\\nX_test = fetch(\\\"http://yann.lecun.com/exdb/mnist/t10k-images-idx3-ubyte.gz\\\")[\\n    0x10:\\n].reshape((-1, 28 * 28))\\nY_test = fetch(\\\"http://yann.lecun.com/exdb/mnist/t10k-labels-idx1-ubyte.gz\\\")[8:]\";\n",
       "                var nbb_formatted_code = \"def fetch(url):\\n\\n    fp = os.path.join(\\\"/home/wan268/tmp/\\\", hashlib.md5(url.encode(\\\"utf-8\\\")).hexdigest())\\n    if os.path.isfile(fp):\\n        with open(fp, \\\"rb\\\") as f:\\n            dat = f.read()\\n    else:\\n        with open(fp, \\\"wb\\\") as f:\\n            dat = requests.get(url).content\\n            f.write(dat)\\n    return numpy.frombuffer(gzip.decompress(dat), dtype=np.uint8).copy()\\n\\n\\nX_train = fetch(\\\"http://yann.lecun.com/exdb/mnist/train-images-idx3-ubyte.gz\\\")[\\n    0x10:\\n].reshape((-1, 28, 28))\\nY_train = fetch(\\\"http://yann.lecun.com/exdb/mnist/train-labels-idx1-ubyte.gz\\\")[8:]\\nX_test = fetch(\\\"http://yann.lecun.com/exdb/mnist/t10k-images-idx3-ubyte.gz\\\")[\\n    0x10:\\n].reshape((-1, 28 * 28))\\nY_test = fetch(\\\"http://yann.lecun.com/exdb/mnist/t10k-labels-idx1-ubyte.gz\\\")[8:]\";\n",
       "                var nbb_cells = Jupyter.notebook.get_cells();\n",
       "                for (var i = 0; i < nbb_cells.length; ++i) {\n",
       "                    if (nbb_cells[i].input_prompt_number == nbb_cell_id) {\n",
       "                        if (nbb_cells[i].get_text() == nbb_unformatted_code) {\n",
       "                             nbb_cells[i].set_text(nbb_formatted_code);\n",
       "                        }\n",
       "                        break;\n",
       "                    }\n",
       "                }\n",
       "            }, 500);\n",
       "            "
      ],
      "text/plain": [
       "<IPython.core.display.Javascript object>"
      ]
     },
     "metadata": {},
     "output_type": "display_data"
    }
   ],
   "source": [
    "def fetch(url):\n",
    "\n",
    "    fp = os.path.join(\"/home/wan268/tmp/\", hashlib.md5(url.encode(\"utf-8\")).hexdigest())\n",
    "    if os.path.isfile(fp):\n",
    "        with open(fp, \"rb\") as f:\n",
    "            dat = f.read()\n",
    "    else:\n",
    "        with open(fp, \"wb\") as f:\n",
    "            dat = requests.get(url).content\n",
    "            f.write(dat)\n",
    "    return numpy.frombuffer(gzip.decompress(dat), dtype=np.uint8).copy()\n",
    "\n",
    "\n",
    "X_train = fetch(\"http://yann.lecun.com/exdb/mnist/train-images-idx3-ubyte.gz\")[\n",
    "    0x10:\n",
    "].reshape((-1, 28, 28))\n",
    "Y_train = fetch(\"http://yann.lecun.com/exdb/mnist/train-labels-idx1-ubyte.gz\")[8:]\n",
    "X_test = fetch(\"http://yann.lecun.com/exdb/mnist/t10k-images-idx3-ubyte.gz\")[\n",
    "    0x10:\n",
    "].reshape((-1, 28 * 28))\n",
    "Y_test = fetch(\"http://yann.lecun.com/exdb/mnist/t10k-labels-idx1-ubyte.gz\")[8:]"
   ]
  },
  {
   "cell_type": "code",
   "execution_count": 3,
   "id": "07dba8da",
   "metadata": {},
   "outputs": [
    {
     "data": {
      "application/javascript": [
       "\n",
       "            setTimeout(function() {\n",
       "                var nbb_cell_id = 3;\n",
       "                var nbb_unformatted_code = \"class MnistNet(nn.Module):\\n    def __init__(self):\\n        super(MnistNet, self).__init__()\\n        self.l1 = nn.Linear(784, 128)\\n        self.act = nn.ReLU()\\n        self.l2 = nn.Linear(128, 10)\\n\\n    def forward(self, x):\\n        x = self.l1(x)\\n        x = self.act(x)\\n        x = self.l2(x)\\n        return x\";\n",
       "                var nbb_formatted_code = \"class MnistNet(nn.Module):\\n    def __init__(self):\\n        super(MnistNet, self).__init__()\\n        self.l1 = nn.Linear(784, 128)\\n        self.act = nn.ReLU()\\n        self.l2 = nn.Linear(128, 10)\\n\\n    def forward(self, x):\\n        x = self.l1(x)\\n        x = self.act(x)\\n        x = self.l2(x)\\n        return x\";\n",
       "                var nbb_cells = Jupyter.notebook.get_cells();\n",
       "                for (var i = 0; i < nbb_cells.length; ++i) {\n",
       "                    if (nbb_cells[i].input_prompt_number == nbb_cell_id) {\n",
       "                        if (nbb_cells[i].get_text() == nbb_unformatted_code) {\n",
       "                             nbb_cells[i].set_text(nbb_formatted_code);\n",
       "                        }\n",
       "                        break;\n",
       "                    }\n",
       "                }\n",
       "            }, 500);\n",
       "            "
      ],
      "text/plain": [
       "<IPython.core.display.Javascript object>"
      ]
     },
     "metadata": {},
     "output_type": "display_data"
    }
   ],
   "source": [
    "class MnistNet(nn.Module):\n",
    "    def __init__(self):\n",
    "        super(MnistNet, self).__init__()\n",
    "        self.l1 = nn.Linear(784, 128)\n",
    "        self.act = nn.ReLU()\n",
    "        self.l2 = nn.Linear(128, 10)\n",
    "\n",
    "    def forward(self, x):\n",
    "        x = self.l1(x)\n",
    "        x = self.act(x)\n",
    "        x = self.l2(x)\n",
    "        return x"
   ]
  },
  {
   "cell_type": "code",
   "execution_count": 4,
   "id": "df3501ee",
   "metadata": {
    "scrolled": true
   },
   "outputs": [
    {
     "name": "stderr",
     "output_type": "stream",
     "text": [
      "loss 0.04 accuracy 1.00: 100%|██████████| 2000/2000 [00:06<00:00, 325.80it/s]\n"
     ]
    },
    {
     "data": {
      "application/javascript": [
       "\n",
       "            setTimeout(function() {\n",
       "                var nbb_cell_id = 4;\n",
       "                var nbb_unformatted_code = \"# CPU\\nmodel = MnistNet()\\nBS = 32\\nloss_function = nn.CrossEntropyLoss()\\noptimizer = torch.optim.Adam(model.parameters())\\nlosses, accuracies = [], []\\nfor i in (t := trange(2000)) :\\n    samp = np.random.randint(0, X_train.shape[0], size=BS)\\n    X = torch.tensor(X_train[samp].reshape((-1, 28 * 28))).float()\\n    Y = torch.tensor(Y_train[samp]).long()\\n    optimizer.zero_grad()\\n    out = model(X)\\n    cat = torch.argmax(out, dim=1)\\n    accuracy = (cat == Y).float().mean()\\n    loss = loss_function(out, Y)\\n    loss.backward()\\n    optimizer.step()\\n    loss, accuracy = (loss.item(), accuracy.item())\\n    losses.append(loss)\\n    accuracies.append(accuracy)\\n    t.set_description(\\\"loss %.2f accuracy %.2f\\\" % (loss, accuracy))\";\n",
       "                var nbb_formatted_code = \"# CPU\\nmodel = MnistNet()\\nBS = 32\\nloss_function = nn.CrossEntropyLoss()\\noptimizer = torch.optim.Adam(model.parameters())\\nlosses, accuracies = [], []\\nfor i in (t := trange(2000)) :\\n    samp = np.random.randint(0, X_train.shape[0], size=BS)\\n    X = torch.tensor(X_train[samp].reshape((-1, 28 * 28))).float()\\n    Y = torch.tensor(Y_train[samp]).long()\\n    optimizer.zero_grad()\\n    out = model(X)\\n    cat = torch.argmax(out, dim=1)\\n    accuracy = (cat == Y).float().mean()\\n    loss = loss_function(out, Y)\\n    loss.backward()\\n    optimizer.step()\\n    loss, accuracy = (loss.item(), accuracy.item())\\n    losses.append(loss)\\n    accuracies.append(accuracy)\\n    t.set_description(\\\"loss %.2f accuracy %.2f\\\" % (loss, accuracy))\";\n",
       "                var nbb_cells = Jupyter.notebook.get_cells();\n",
       "                for (var i = 0; i < nbb_cells.length; ++i) {\n",
       "                    if (nbb_cells[i].input_prompt_number == nbb_cell_id) {\n",
       "                        if (nbb_cells[i].get_text() == nbb_unformatted_code) {\n",
       "                             nbb_cells[i].set_text(nbb_formatted_code);\n",
       "                        }\n",
       "                        break;\n",
       "                    }\n",
       "                }\n",
       "            }, 500);\n",
       "            "
      ],
      "text/plain": [
       "<IPython.core.display.Javascript object>"
      ]
     },
     "metadata": {},
     "output_type": "display_data"
    }
   ],
   "source": [
    "# CPU\n",
    "model = MnistNet()\n",
    "BS = 32\n",
    "loss_function = nn.CrossEntropyLoss()\n",
    "optimizer = torch.optim.Adam(model.parameters())\n",
    "losses, accuracies = [], []\n",
    "for i in (t := trange(2000)) :\n",
    "    samp = np.random.randint(0, X_train.shape[0], size=BS)\n",
    "    X = torch.tensor(X_train[samp].reshape((-1, 28 * 28))).float()\n",
    "    Y = torch.tensor(Y_train[samp]).long()\n",
    "    optimizer.zero_grad()\n",
    "    out = model(X)\n",
    "    cat = torch.argmax(out, dim=1)\n",
    "    accuracy = (cat == Y).float().mean()\n",
    "    loss = loss_function(out, Y)\n",
    "    loss.backward()\n",
    "    optimizer.step()\n",
    "    loss, accuracy = (loss.item(), accuracy.item())\n",
    "    losses.append(loss)\n",
    "    accuracies.append(accuracy)\n",
    "    t.set_description(\"loss %.2f accuracy %.2f\" % (loss, accuracy))"
   ]
  },
  {
   "cell_type": "code",
   "execution_count": 5,
   "id": "bf91373e",
   "metadata": {},
   "outputs": [
    {
     "data": {
      "text/plain": [
       "0.9427"
      ]
     },
     "execution_count": 5,
     "metadata": {},
     "output_type": "execute_result"
    },
    {
     "data": {
      "image/png": "[encoded data removed]",
      "text/plain": [
       "<Figure size 432x288 with 1 Axes>"
      ]
     },
     "metadata": {
      "needs_background": "light"
     },
     "output_type": "display_data"
    },
    {
     "data": {
      "application/javascript": [
       "\n",
       "            setTimeout(function() {\n",
       "                var nbb_cell_id = 5;\n",
       "                var nbb_unformatted_code = \"plt.ylim(-0.1, 1.2)\\nplot(losses)\\nplot(accuracies)\\n\\nY_test_preds = torch.argmax(\\n    model(torch.tensor(X_test.reshape((-1, 28 * 28))).float()), dim=1\\n).numpy()\\n(Y_test == Y_test_preds).mean()\";\n",
       "                var nbb_formatted_code = \"plt.ylim(-0.1, 1.2)\\nplot(losses)\\nplot(accuracies)\\n\\nY_test_preds = torch.argmax(\\n    model(torch.tensor(X_test.reshape((-1, 28 * 28))).float()), dim=1\\n).numpy()\\n(Y_test == Y_test_preds).mean()\";\n",
       "                var nbb_cells = Jupyter.notebook.get_cells();\n",
       "                for (var i = 0; i < nbb_cells.length; ++i) {\n",
       "                    if (nbb_cells[i].input_prompt_number == nbb_cell_id) {\n",
       "                        if (nbb_cells[i].get_text() == nbb_unformatted_code) {\n",
       "                             nbb_cells[i].set_text(nbb_formatted_code);\n",
       "                        }\n",
       "                        break;\n",
       "                    }\n",
       "                }\n",
       "            }, 500);\n",
       "            "
      ],
      "text/plain": [
       "<IPython.core.display.Javascript object>"
      ]
     },
     "metadata": {},
     "output_type": "display_data"
    }
   ],
   "source": [
    "plt.ylim(-0.1, 1.2)\n",
    "plot(losses)\n",
    "plot(accuracies)\n",
    "\n",
    "Y_test_preds = torch.argmax(\n",
    "    model(torch.tensor(X_test.reshape((-1, 28 * 28))).float()), dim=1\n",
    ").numpy()\n",
    "(Y_test == Y_test_preds).mean()"
   ]
  },
  {
   "cell_type": "code",
   "execution_count": 6,
   "id": "af6cb38c",
   "metadata": {},
   "outputs": [
    {
     "name": "stderr",
     "output_type": "stream",
     "text": [
      "loss 0.23 accuracy 0.94: 100%|██████████| 2000/2000 [00:03<00:00, 565.91it/s]\n"
     ]
    },
    {
     "data": {
      "application/javascript": [
       "\n",
       "            setTimeout(function() {\n",
       "                var nbb_cell_id = 6;\n",
       "                var nbb_unformatted_code = \"# GPU\\ndevice = torch.device(\\\"cuda:0\\\")\\nmodel = MnistNet().to(device)\\nBS = 32\\nloss_function = nn.CrossEntropyLoss()\\noptimizer = torch.optim.Adam(model.parameters())\\nlosses, accuracies = [], []\\nX_train_cuda = torch.tensor(X_train.reshape((-1, 28 * 28))).float().to(device)\\nY_train_cuda = torch.tensor(Y_train).long().to(device)\\n\\nfor i in (t := trange(2000)) :\\n    samp = np.random.randint(0, X_train.shape[0], size=BS)\\n    X = X_train_cuda[samp]\\n    Y = Y_train_cuda[samp]\\n\\n    out = model(X).to(device)\\n    cat = torch.argmax(out, dim=1)\\n    accuracy = (cat == Y).float().mean()\\n    loss = loss_function(out, Y)\\n    optimizer.zero_grad()\\n    loss.backward()\\n\\n    optimizer.step()\\n    loss, accuracy = (loss.item(), accuracy.item())\\n    losses.append(loss)\\n    accuracies.append(accuracy)\\n    t.set_description(\\\"loss %.2f accuracy %.2f\\\" % (loss, accuracy))\";\n",
       "                var nbb_formatted_code = \"# GPU\\ndevice = torch.device(\\\"cuda:0\\\")\\nmodel = MnistNet().to(device)\\nBS = 32\\nloss_function = nn.CrossEntropyLoss()\\noptimizer = torch.optim.Adam(model.parameters())\\nlosses, accuracies = [], []\\nX_train_cuda = torch.tensor(X_train.reshape((-1, 28 * 28))).float().to(device)\\nY_train_cuda = torch.tensor(Y_train).long().to(device)\\n\\nfor i in (t := trange(2000)) :\\n    samp = np.random.randint(0, X_train.shape[0], size=BS)\\n    X = X_train_cuda[samp]\\n    Y = Y_train_cuda[samp]\\n\\n    out = model(X).to(device)\\n    cat = torch.argmax(out, dim=1)\\n    accuracy = (cat == Y).float().mean()\\n    loss = loss_function(out, Y)\\n    optimizer.zero_grad()\\n    loss.backward()\\n\\n    optimizer.step()\\n    loss, accuracy = (loss.item(), accuracy.item())\\n    losses.append(loss)\\n    accuracies.append(accuracy)\\n    t.set_description(\\\"loss %.2f accuracy %.2f\\\" % (loss, accuracy))\";\n",
       "                var nbb_cells = Jupyter.notebook.get_cells();\n",
       "                for (var i = 0; i < nbb_cells.length; ++i) {\n",
       "                    if (nbb_cells[i].input_prompt_number == nbb_cell_id) {\n",
       "                        if (nbb_cells[i].get_text() == nbb_unformatted_code) {\n",
       "                             nbb_cells[i].set_text(nbb_formatted_code);\n",
       "                        }\n",
       "                        break;\n",
       "                    }\n",
       "                }\n",
       "            }, 500);\n",
       "            "
      ],
      "text/plain": [
       "<IPython.core.display.Javascript object>"
      ]
     },
     "metadata": {},
     "output_type": "display_data"
    }
   ],
   "source": [
    "# GPU\n",
    "device = torch.device(\"cuda:0\")\n",
    "model = MnistNet().to(device)\n",
    "BS = 32\n",
    "loss_function = nn.CrossEntropyLoss()\n",
    "optimizer = torch.optim.Adam(model.parameters())\n",
    "losses, accuracies = [], []\n",
    "X_train_cuda = torch.tensor(X_train.reshape((-1, 28 * 28))).float().to(device)\n",
    "Y_train_cuda = torch.tensor(Y_train).long().to(device)\n",
    "\n",
    "for i in (t := trange(2000)) :\n",
    "    samp = np.random.randint(0, X_train.shape[0], size=BS)\n",
    "    X = X_train_cuda[samp]\n",
    "    Y = Y_train_cuda[samp]\n",
    "\n",
    "    out = model(X).to(device)\n",
    "    cat = torch.argmax(out, dim=1)\n",
    "    accuracy = (cat == Y).float().mean()\n",
    "    loss = loss_function(out, Y)\n",
    "    optimizer.zero_grad()\n",
    "    loss.backward()\n",
    "\n",
    "    optimizer.step()\n",
    "    loss, accuracy = (loss.item(), accuracy.item())\n",
    "    losses.append(loss)\n",
    "    accuracies.append(accuracy)\n",
    "    t.set_description(\"loss %.2f accuracy %.2f\" % (loss, accuracy))"
   ]
  },
  {
   "cell_type": "code",
   "execution_count": 7,
   "id": "6f824739",
   "metadata": {
    "scrolled": true
   },
   "outputs": [
    {
     "data": {
      "text/plain": [
       "[<matplotlib.lines.Line2D at 0x7f0ddc5bee50>]"
      ]
     },
     "execution_count": 7,
     "metadata": {},
     "output_type": "execute_result"
    },
    {
     "data": {
      "image/png": "[encoded data removed]",
      "text/plain": [
       "<Figure size 432x288 with 1 Axes>"
      ]
     },
     "metadata": {
      "needs_background": "light"
     },
     "output_type": "display_data"
    },
    {
     "data": {
      "application/javascript": [
       "\n",
       "            setTimeout(function() {\n",
       "                var nbb_cell_id = 7;\n",
       "                var nbb_unformatted_code = \"plt.ylim(-0.1, 1.2)\\nplot(losses)\\nplot(accuracies)\";\n",
       "                var nbb_formatted_code = \"plt.ylim(-0.1, 1.2)\\nplot(losses)\\nplot(accuracies)\";\n",
       "                var nbb_cells = Jupyter.notebook.get_cells();\n",
       "                for (var i = 0; i < nbb_cells.length; ++i) {\n",
       "                    if (nbb_cells[i].input_prompt_number == nbb_cell_id) {\n",
       "                        if (nbb_cells[i].get_text() == nbb_unformatted_code) {\n",
       "                             nbb_cells[i].set_text(nbb_formatted_code);\n",
       "                        }\n",
       "                        break;\n",
       "                    }\n",
       "                }\n",
       "            }, 500);\n",
       "            "
      ],
      "text/plain": [
       "<IPython.core.display.Javascript object>"
      ]
     },
     "metadata": {},
     "output_type": "display_data"
    }
   ],
   "source": [
    "plt.ylim(-0.1, 1.2)\n",
    "plot(losses)\n",
    "plot(accuracies)\n"
   ]
  },
  {
   "cell_type": "code",
   "execution_count": 8,
   "id": "ad85bc37",
   "metadata": {},
   "outputs": [
    {
     "data": {
      "text/plain": [
       "0.933"
      ]
     },
     "execution_count": 8,
     "metadata": {},
     "output_type": "execute_result"
    },
    {
     "data": {
      "application/javascript": [
       "\n",
       "            setTimeout(function() {\n",
       "                var nbb_cell_id = 8;\n",
       "                var nbb_unformatted_code = \"Y_test_preds = (\\n    torch.argmax(\\n        model(torch.tensor(X_test.reshape((-1, 28 * 28))).float().to(device)), dim=1,\\n    )\\n    .cpu()\\n    .numpy()\\n)\\n(Y_test == Y_test_preds).mean()\";\n",
       "                var nbb_formatted_code = \"Y_test_preds = (\\n    torch.argmax(\\n        model(torch.tensor(X_test.reshape((-1, 28 * 28))).float().to(device)), dim=1,\\n    )\\n    .cpu()\\n    .numpy()\\n)\\n(Y_test == Y_test_preds).mean()\";\n",
       "                var nbb_cells = Jupyter.notebook.get_cells();\n",
       "                for (var i = 0; i < nbb_cells.length; ++i) {\n",
       "                    if (nbb_cells[i].input_prompt_number == nbb_cell_id) {\n",
       "                        if (nbb_cells[i].get_text() == nbb_unformatted_code) {\n",
       "                             nbb_cells[i].set_text(nbb_formatted_code);\n",
       "                        }\n",
       "                        break;\n",
       "                    }\n",
       "                }\n",
       "            }, 500);\n",
       "            "
      ],
      "text/plain": [
       "<IPython.core.display.Javascript object>"
      ]
     },
     "metadata": {},
     "output_type": "display_data"
    }
   ],
   "source": [
    "Y_test_preds = (\n",
    "    torch.argmax(\n",
    "        model(torch.tensor(X_test.reshape((-1, 28 * 28))).float().to(device)), dim=1,\n",
    "    )\n",
    "    .cpu()\n",
    "    .numpy()\n",
    ")\n",
    "(Y_test == Y_test_preds).mean()"
   ]
  },
  {
   "cell_type": "code",
   "execution_count": 9,
   "id": "abbd71d1",
   "metadata": {},
   "outputs": [
    {
     "data": {
      "application/javascript": [
       "\n",
       "            setTimeout(function() {\n",
       "                var nbb_cell_id = 9;\n",
       "                var nbb_unformatted_code = \"samp = [0, 1, 2, 3]\\nmodel.zero_grad()\\nm2 = model.to(\\\"cpu\\\")\";\n",
       "                var nbb_formatted_code = \"samp = [0, 1, 2, 3]\\nmodel.zero_grad()\\nm2 = model.to(\\\"cpu\\\")\";\n",
       "                var nbb_cells = Jupyter.notebook.get_cells();\n",
       "                for (var i = 0; i < nbb_cells.length; ++i) {\n",
       "                    if (nbb_cells[i].input_prompt_number == nbb_cell_id) {\n",
       "                        if (nbb_cells[i].get_text() == nbb_unformatted_code) {\n",
       "                             nbb_cells[i].set_text(nbb_formatted_code);\n",
       "                        }\n",
       "                        break;\n",
       "                    }\n",
       "                }\n",
       "            }, 500);\n",
       "            "
      ],
      "text/plain": [
       "<IPython.core.display.Javascript object>"
      ]
     },
     "metadata": {},
     "output_type": "display_data"
    }
   ],
   "source": [
    "samp = [0, 1, 2, 3]\n",
    "model.zero_grad()\n",
    "m2 = model.to(\"cpu\")"
   ]
  },
  {
   "cell_type": "code",
   "execution_count": 10,
   "id": "608e5c59",
   "metadata": {},
   "outputs": [
    {
     "data": {
      "text/plain": [
       "<matplotlib.image.AxesImage at 0x7f0e0c07bc40>"
      ]
     },
     "execution_count": 10,
     "metadata": {},
     "output_type": "execute_result"
    },
    {
     "data": {
      "image/png": "[encoded data removed]",
      "text/plain": [
       "<Figure size 432x288 with 1 Axes>"
      ]
     },
     "metadata": {
      "needs_background": "light"
     },
     "output_type": "display_data"
    },
    {
     "data": {
      "image/png": "[encoded data removed]",
      "text/plain": [
       "<Figure size 432x288 with 1 Axes>"
      ]
     },
     "metadata": {
      "needs_background": "light"
     },
     "output_type": "display_data"
    },
    {
     "data": {
      "application/javascript": [
       "\n",
       "            setTimeout(function() {\n",
       "                var nbb_cell_id = 10;\n",
       "                var nbb_unformatted_code = \"# compute gradients in torch\\n\\nout = m2(torch.tensor(X_test[samp].reshape((-1, 28 * 28))).float())\\nout.retain_grad()\\nloss = loss_function(out, torch.tensor(Y_test[samp]).long()).mean()\\nloss.retain_grad()\\nloss.backward()\\nimshow(model.l1.weight.grad)\\nfigure()\\nimshow(model.l2.weight.grad)\";\n",
       "                var nbb_formatted_code = \"# compute gradients in torch\\n\\nout = m2(torch.tensor(X_test[samp].reshape((-1, 28 * 28))).float())\\nout.retain_grad()\\nloss = loss_function(out, torch.tensor(Y_test[samp]).long()).mean()\\nloss.retain_grad()\\nloss.backward()\\nimshow(model.l1.weight.grad)\\nfigure()\\nimshow(model.l2.weight.grad)\";\n",
       "                var nbb_cells = Jupyter.notebook.get_cells();\n",
       "                for (var i = 0; i < nbb_cells.length; ++i) {\n",
       "                    if (nbb_cells[i].input_prompt_number == nbb_cell_id) {\n",
       "                        if (nbb_cells[i].get_text() == nbb_unformatted_code) {\n",
       "                             nbb_cells[i].set_text(nbb_formatted_code);\n",
       "                        }\n",
       "                        break;\n",
       "                    }\n",
       "                }\n",
       "            }, 500);\n",
       "            "
      ],
      "text/plain": [
       "<IPython.core.display.Javascript object>"
      ]
     },
     "metadata": {},
     "output_type": "display_data"
    }
   ],
   "source": [
    "# compute gradients in torch\n",
    "\n",
    "out = m2(torch.tensor(X_test[samp].reshape((-1, 28 * 28))).float())\n",
    "out.retain_grad()\n",
    "loss = loss_function(out, torch.tensor(Y_test[samp]).long()).mean()\n",
    "loss.retain_grad()\n",
    "loss.backward()\n",
    "imshow(model.l1.weight.grad)\n",
    "figure()\n",
    "imshow(model.l2.weight.grad)"
   ]
  },
  {
   "cell_type": "code",
   "execution_count": 11,
   "id": "04461f7e",
   "metadata": {},
   "outputs": [
    {
     "data": {
      "text/plain": [
       "0.9333"
      ]
     },
     "execution_count": 11,
     "metadata": {},
     "output_type": "execute_result"
    },
    {
     "data": {
      "application/javascript": [
       "\n",
       "            setTimeout(function() {\n",
       "                var nbb_cell_id = 11;\n",
       "                var nbb_unformatted_code = \"# copy weights from pytorch\\nl1 = model.l1.weight.detach().numpy().T\\nl2 = model.l2.weight.detach().numpy().T\\n\\n# numpy forward pass\\ndef forward(x):\\n    x = x.dot(l1)\\n    x = np.maximum(x, 0)\\n    x = x.dot(l2)\\n    return x\\n\\n\\ndef numpy_eval():\\n    Y_test_preds_out = forward(X_test.reshape((-1, 28 * 28)))\\n    Y_test_preds = np.argmax(Y_test_preds_out, axis=1)\\n    return (Y_test == Y_test_preds).mean()\\n\\n\\nnumpy_eval()\";\n",
       "                var nbb_formatted_code = \"# copy weights from pytorch\\nl1 = model.l1.weight.detach().numpy().T\\nl2 = model.l2.weight.detach().numpy().T\\n\\n# numpy forward pass\\ndef forward(x):\\n    x = x.dot(l1)\\n    x = np.maximum(x, 0)\\n    x = x.dot(l2)\\n    return x\\n\\n\\ndef numpy_eval():\\n    Y_test_preds_out = forward(X_test.reshape((-1, 28 * 28)))\\n    Y_test_preds = np.argmax(Y_test_preds_out, axis=1)\\n    return (Y_test == Y_test_preds).mean()\\n\\n\\nnumpy_eval()\";\n",
       "                var nbb_cells = Jupyter.notebook.get_cells();\n",
       "                for (var i = 0; i < nbb_cells.length; ++i) {\n",
       "                    if (nbb_cells[i].input_prompt_number == nbb_cell_id) {\n",
       "                        if (nbb_cells[i].get_text() == nbb_unformatted_code) {\n",
       "                             nbb_cells[i].set_text(nbb_formatted_code);\n",
       "                        }\n",
       "                        break;\n",
       "                    }\n",
       "                }\n",
       "            }, 500);\n",
       "            "
      ],
      "text/plain": [
       "<IPython.core.display.Javascript object>"
      ]
     },
     "metadata": {},
     "output_type": "display_data"
    }
   ],
   "source": [
    "# copy weights from pytorch\n",
    "l1 = model.l1.weight.detach().numpy().T\n",
    "l2 = model.l2.weight.detach().numpy().T\n",
    "\n",
    "# numpy forward pass\n",
    "def forward(x):\n",
    "    x = x.dot(l1)\n",
    "    x = np.maximum(x, 0)\n",
    "    x = x.dot(l2)\n",
    "    return x\n",
    "\n",
    "\n",
    "def numpy_eval():\n",
    "    Y_test_preds_out = forward(X_test.reshape((-1, 28 * 28)))\n",
    "    Y_test_preds = np.argmax(Y_test_preds_out, axis=1)\n",
    "    return (Y_test == Y_test_preds).mean()\n",
    "\n",
    "\n",
    "numpy_eval()"
   ]
  },
  {
   "cell_type": "code",
   "execution_count": 12,
   "id": "6f64f282",
   "metadata": {},
   "outputs": [
    {
     "data": {
      "text/plain": [
       "<matplotlib.image.AxesImage at 0x7f0ddc50f4c0>"
      ]
     },
     "execution_count": 12,
     "metadata": {},
     "output_type": "execute_result"
    },
    {
     "data": {
      "image/png": "[encoded data removed]",
      "text/plain": [
       "<Figure size 432x288 with 1 Axes>"
      ]
     },
     "metadata": {
      "needs_background": "light"
     },
     "output_type": "display_data"
    },
    {
     "data": {
      "image/png": "[encoded data removed]",
      "text/plain": [
       "<Figure size 432x288 with 1 Axes>"
      ]
     },
     "metadata": {
      "needs_background": "light"
     },
     "output_type": "display_data"
    },
    {
     "data": {
      "application/javascript": [
       "\n",
       "            setTimeout(function() {\n",
       "                var nbb_cell_id = 12;\n",
       "                var nbb_unformatted_code = \"# numpy forward and backward pass\\n\\n\\ndef logsumexp(x):\\n    # return np.log(np.exp(x).sum(axis=1))\\n    # http://gregorygundersen.com/blog/2020/02/09/log-sum-exp/\\n    c = x.max(axis=1)\\n    return c + np.log(np.exp(x - c.reshape((-1, 1))).sum(axis=1))\\n\\n\\ndef forward_backward(x, y):\\n    # training\\n    out = np.zeros((len(y), 10), np.float32)\\n    out[range(out.shape[0]), y] = 1\\n\\n    # forward pass\\n    x_l1 = x.dot(l1)\\n    x_relu = np.maximum(x_l1, 0)\\n    x_l2 = x_relu.dot(l2)\\n    x_lsm = x_l2 - logsumexp(x_l2).reshape((-1, 1))\\n    x_loss = (-out * x_lsm).mean(axis=1)\\n\\n    # training in numpy (super hard!)\\n    # backward pass\\n\\n    # will involve x_lsm, x_l2, out, d_out and produce dx_sm\\n    d_out = -out / len(y)\\n\\n    # derivative of logsoftmax\\n    # https://github.com/torch/nn/blob/master/lib/THNN/generic/LogSoftMax.c\\n    dx_lsm = d_out - np.exp(x_lsm) * d_out.sum(axis=1).reshape((-1, 1))\\n\\n    # derivative of l2\\n    d_l2 = x_relu.T.dot(dx_lsm)\\n    dx_relu = dx_lsm.dot(l2.T)\\n\\n    # derivative of relu\\n    dx_l1 = (x_relu > 0).astype(np.float32) * dx_relu\\n\\n    # derivative of l1\\n    d_l1 = x.T.dot(dx_l1)\\n\\n    return x_loss, x_l2, d_l1, d_l2\\n\\n\\nsamp = [0, 1, 2, 3]\\nx_loss, x_l2, d_l1, d_l2 = forward_backward(\\n    X_test[samp].reshape((-1, 28 * 28)), Y_test[samp]\\n)\\n\\nimshow(d_l1.T)\\nfigure()\\nimshow(d_l2.T)\";\n",
       "                var nbb_formatted_code = \"# numpy forward and backward pass\\n\\n\\ndef logsumexp(x):\\n    # return np.log(np.exp(x).sum(axis=1))\\n    # http://gregorygundersen.com/blog/2020/02/09/log-sum-exp/\\n    c = x.max(axis=1)\\n    return c + np.log(np.exp(x - c.reshape((-1, 1))).sum(axis=1))\\n\\n\\ndef forward_backward(x, y):\\n    # training\\n    out = np.zeros((len(y), 10), np.float32)\\n    out[range(out.shape[0]), y] = 1\\n\\n    # forward pass\\n    x_l1 = x.dot(l1)\\n    x_relu = np.maximum(x_l1, 0)\\n    x_l2 = x_relu.dot(l2)\\n    x_lsm = x_l2 - logsumexp(x_l2).reshape((-1, 1))\\n    x_loss = (-out * x_lsm).mean(axis=1)\\n\\n    # training in numpy (super hard!)\\n    # backward pass\\n\\n    # will involve x_lsm, x_l2, out, d_out and produce dx_sm\\n    d_out = -out / len(y)\\n\\n    # derivative of logsoftmax\\n    # https://github.com/torch/nn/blob/master/lib/THNN/generic/LogSoftMax.c\\n    dx_lsm = d_out - np.exp(x_lsm) * d_out.sum(axis=1).reshape((-1, 1))\\n\\n    # derivative of l2\\n    d_l2 = x_relu.T.dot(dx_lsm)\\n    dx_relu = dx_lsm.dot(l2.T)\\n\\n    # derivative of relu\\n    dx_l1 = (x_relu > 0).astype(np.float32) * dx_relu\\n\\n    # derivative of l1\\n    d_l1 = x.T.dot(dx_l1)\\n\\n    return x_loss, x_l2, d_l1, d_l2\\n\\n\\nsamp = [0, 1, 2, 3]\\nx_loss, x_l2, d_l1, d_l2 = forward_backward(\\n    X_test[samp].reshape((-1, 28 * 28)), Y_test[samp]\\n)\\n\\nimshow(d_l1.T)\\nfigure()\\nimshow(d_l2.T)\";\n",
       "                var nbb_cells = Jupyter.notebook.get_cells();\n",
       "                for (var i = 0; i < nbb_cells.length; ++i) {\n",
       "                    if (nbb_cells[i].input_prompt_number == nbb_cell_id) {\n",
       "                        if (nbb_cells[i].get_text() == nbb_unformatted_code) {\n",
       "                             nbb_cells[i].set_text(nbb_formatted_code);\n",
       "                        }\n",
       "                        break;\n",
       "                    }\n",
       "                }\n",
       "            }, 500);\n",
       "            "
      ],
      "text/plain": [
       "<IPython.core.display.Javascript object>"
      ]
     },
     "metadata": {},
     "output_type": "display_data"
    }
   ],
   "source": [
    "# numpy forward and backward pass\n",
    "\n",
    "\n",
    "def logsumexp(x):\n",
    "    # return np.log(np.exp(x).sum(axis=1))\n",
    "    # http://gregorygundersen.com/blog/2020/02/09/log-sum-exp/\n",
    "    c = x.max(axis=1)\n",
    "    return c + np.log(np.exp(x - c.reshape((-1, 1))).sum(axis=1))\n",
    "\n",
    "\n",
    "def forward_backward(x, y):\n",
    "    # training\n",
    "    out = np.zeros((len(y), 10), np.float32)\n",
    "    out[range(out.shape[0]), y] = 1\n",
    "\n",
    "    # forward pass\n",
    "    x_l1 = x.dot(l1)\n",
    "    x_relu = np.maximum(x_l1, 0)\n",
    "    x_l2 = x_relu.dot(l2)\n",
    "    x_lsm = x_l2 - logsumexp(x_l2).reshape((-1, 1))\n",
    "    x_loss = (-out * x_lsm).mean(axis=1)\n",
    "\n",
    "    # training in numpy (super hard!)\n",
    "    # backward pass\n",
    "\n",
    "    # will involve x_lsm, x_l2, out, d_out and produce dx_sm\n",
    "    d_out = -out / len(y)\n",
    "\n",
    "    # derivative of logsoftmax\n",
    "    # https://github.com/torch/nn/blob/master/lib/THNN/generic/LogSoftMax.c\n",
    "    dx_lsm = d_out - np.exp(x_lsm) * d_out.sum(axis=1).reshape((-1, 1))\n",
    "\n",
    "    # derivative of l2\n",
    "    d_l2 = x_relu.T.dot(dx_lsm)\n",
    "    dx_relu = dx_lsm.dot(l2.T)\n",
    "\n",
    "    # derivative of relu\n",
    "    dx_l1 = (x_relu > 0).astype(np.float32) * dx_relu\n",
    "\n",
    "    # derivative of l1\n",
    "    d_l1 = x.T.dot(dx_l1)\n",
    "\n",
    "    return x_loss, x_l2, d_l1, d_l2\n",
    "\n",
    "\n",
    "samp = [0, 1, 2, 3]\n",
    "x_loss, x_l2, d_l1, d_l2 = forward_backward(\n",
    "    X_test[samp].reshape((-1, 28 * 28)), Y_test[samp]\n",
    ")\n",
    "\n",
    "imshow(d_l1.T)\n",
    "figure()\n",
    "imshow(d_l2.T)"
   ]
  },
  {
   "cell_type": "code",
   "execution_count": null,
   "id": "c9b91cee",
   "metadata": {},
   "outputs": [],
   "source": []
  }
 ],
 "metadata": {
  "kernelspec": {
   "display_name": "dl",
   "language": "python",
   "name": "dl"
  },
  "language_info": {
   "codemirror_mode": {
    "name": "ipython",
    "version": 3
   },
   "file_extension": ".py",
   "mimetype": "text/x-python",
   "name": "python",
   "nbconvert_exporter": "python",
   "pygments_lexer": "ipython3",
   "version": "3.8.5"
  }
 },
 "nbformat": 4,
 "nbformat_minor": 5
}
